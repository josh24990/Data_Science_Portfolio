{
 "cells": [
  {
   "cell_type": "markdown",
   "metadata": {},
   "source": [
    "# Table of contents"
   ]
  },
  {
   "cell_type": "markdown",
   "metadata": {},
   "source": [
    "- Introduction\n",
    "- Step 1: Import libraries\n",
    "- Step 2: Import data\n",
    "- Step 3: Exploratory data analysis\n",
    "    - 3a: Statistical\n",
    "    - 3b: Visual\n",
    "        - i: Survived\n",
    "        - ii: Pclass  \n",
    "        - iii: Age\n",
    "        - iv: SibSp & Parch\n",
    "        - v: Fare\n",
    "- Step 4: Data preprocessing: \n",
    "    - 4a: Converting features\n",
    "        - i: Ticket\n",
    "        - ii: Fare\n",
    "        - iii: Sex\n",
    "        - iv: Embarked\n",
    "        - v: Name\n",
    "    - 4b: Missing data\n",
    "        - i: Cabin\n",
    "        - ii: Age\n",
    "    - 4c: Creating new features\n",
    "        - SibSp & Parch\n",
    "    - 4d: A final look\n",
    "- Step 5: Machine learning models\n",
    "    - 5a: K nearest neigbours\n",
    "    - 5b: Logistics regression\n",
    "    - 5c: Random forest\n",
    "    - 5b: Support vector machine\n",
    "    - 5e: Decision tree\n",
    "    - 5f: The most accurate algorithm: Random Forest\n",
    "    - 5g: K folds cross validation on Random Forest\n",
    "- Step 6: Assessing feature importance\n",
    "- Step 7: Hyperparameter tuning\n",
    "- Step 8: Further model evaluation\n",
    "    - 8a: Confusion matrix\n",
    "    - 8b: Precision & recall\n",
    "    - 8c: F1 score\n",
    "    - 8d: Precision & recall curve\n",
    "    - 8e: ROC curve\n",
    "    - 8f: ROC-AUC score\n",
    "- Step 9: Submission\n",
    "- Step 10: Summary"
   ]
  },
  {
   "cell_type": "markdown",
   "metadata": {},
   "source": [
    "# Introduction\n",
    "\n",
    "In this, my first Data Science project, I will be working on the very famous Titanic dataset. This dataset provides information on the fate of each passenger on board the vessel when it tragically sank on its maiden voyage in 1912. Alongside this data is further information about each individual including age, sex, ticket type and cabin. This dataset derives from a Kaggle competition, whereby the challenge is to build a predictive model to determine whether or not an individual would have survived.\n",
    "\n",
    "I will be conducting an end-to-end machine learning project in attempt to solve this challenge. I will aim throughout to explain each step in detail so that other beginners reading this can follow and understand the logic behind each action. It could also enable more experienced readers to point out any inefficiencies in my code, or areas in which additional value could be added to my model. Or, to the reader who merely has an interest, I hope to tell an interesting story about this data. Enjoy!"
   ]
  },
  {
   "cell_type": "markdown",
   "metadata": {},
   "source": [
    "# Step 1: Import libraries"
   ]
  },
  {
   "cell_type": "markdown",
   "metadata": {},
   "source": [
    "I will firstly begin by importing every library that will be used at somepoint throughout this project. "
   ]
  },
  {
   "cell_type": "code",
   "execution_count": 10,
   "metadata": {},
   "outputs": [],
   "source": [
    "# Every library that will be used in this project is imported at the start.\n",
    "\n",
    "# Data handling and processing\n",
    "import pandas as pd\n",
    "import numpy as np\n",
    "\n",
    "# Data visualisation & images\n",
    "import matplotlib.pyplot as plt\n",
    "import seaborn as sns\n",
    "from IPython.display import Image\n",
    "\n",
    "# Pipeline and machine learning algorithms\n",
    "from sklearn.preprocessing import StandardScaler\n",
    "from sklearn.pipeline import Pipeline\n",
    "from sklearn.neighbors import KNeighborsClassifier\n",
    "from sklearn.linear_model import LogisticRegression\n",
    "from sklearn.ensemble import RandomForestClassifier\n",
    "from sklearn.svm import SVC\n",
    "from sklearn.tree import DecisionTreeClassifier\n",
    "\n",
    "# Model fine-tuning and evaluation\n",
    "from sklearn.model_selection import cross_val_score\n",
    "from sklearn.model_selection import RandomizedSearchCV\n",
    "from scipy.stats import randint as sp_randint\n",
    "from time import time\n",
    "from sklearn.model_selection import cross_val_predict\n",
    "from sklearn.metrics import confusion_matrix\n",
    "from sklearn.metrics import precision_score, recall_score\n",
    "from sklearn.metrics import f1_score\n",
    "from sklearn.metrics import precision_recall_curve\n",
    "from sklearn.metrics import roc_curve\n",
    "from sklearn.metrics import roc_auc_score"
   ]
  },
  {
   "cell_type": "markdown",
   "metadata": {},
   "source": [
    "# Step 2: Import data"
   ]
  },
  {
   "cell_type": "markdown",
   "metadata": {},
   "source": [
    "The dataset is split into two separate files, a train file and a test file. It is best practice to avoid using the full dataset at the data analysis/exploration stage, and to instead focus on solely the train-set, keeping the test-set to one side. This prevents the model being adjusted to fit the test-set, which is unfavourable since the aim is to build a model that can predict accurately on data that it has never seen before. The test-set can then be re-introduced to test model accuracy when exploring different machine learning algorithms. For the purpose of the Kaggle competition, it is the test-set that will be finally submitted, containing a prediction of 'survived' or 'not survived' for each individual."
   ]
  },
  {
   "cell_type": "code",
   "execution_count": 11,
   "metadata": {},
   "outputs": [],
   "source": [
    "# Data downloaded from Kaggle as a .csv file and read into this notebook from my local directory.\n",
    "train = pd.read_csv('/Users/josh24990/Documents/Personal Development/3. Data Science/Python/Titanic Data/train.csv')\n",
    "test = pd.read_csv('/Users/josh24990/Documents/Personal Development/3. Data Science/Python/Titanic Data/test.csv')"
   ]
  },
  {
   "cell_type": "markdown",
   "metadata": {},
   "source": [
    "# Step 3a: Exploratory data analysis (statistical)"
   ]
  },
  {
   "cell_type": "markdown",
   "metadata": {},
   "source": [
    "Before we get stuck into any feature engineering, and certainly before we start building models it is a good idea to get more familiar with the contents of the dataset. This includes retrieving information on column contents, data types and whether missing or erroneous values are present. This is what we'll do next."
   ]
  },
  {
   "cell_type": "code",
   "execution_count": 12,
   "metadata": {},
   "outputs": [
    {
     "name": "stdout",
     "output_type": "stream",
     "text": [
      "<class 'pandas.core.frame.DataFrame'>\n",
      "RangeIndex: 891 entries, 0 to 890\n",
      "Data columns (total 12 columns):\n",
      "PassengerId    891 non-null int64\n",
      "Survived       891 non-null int64\n",
      "Pclass         891 non-null int64\n",
      "Name           891 non-null object\n",
      "Sex            891 non-null object\n",
      "Age            714 non-null float64\n",
      "SibSp          891 non-null int64\n",
      "Parch          891 non-null int64\n",
      "Ticket         891 non-null object\n",
      "Fare           891 non-null float64\n",
      "Cabin          204 non-null object\n",
      "Embarked       889 non-null object\n",
      "dtypes: float64(2), int64(5), object(5)\n",
      "memory usage: 83.6+ KB\n",
      "None\n"
     ]
    }
   ],
   "source": [
    "# Return key characteristics of the dataset\n",
    "print(train.info())"
   ]
  },
  {
   "cell_type": "markdown",
   "metadata": {},
   "source": [
    "Printing the Dataframe 'info' reveals 891 entries in total, which we know equates to passengers. Most columns contain the full set of data, although some do feature missing values; Age and Cabin. We will need to assess these more closely and take appropriate action at the data preprocessing stage. Looking at data types, there are 5 objects, 5 integers and 2 floats. Lastly, the target variable is contained within the 'Survived' column, leaving the remaining 11 columns as our feature variables. To provide further information on what each column actually refers to:\n",
    "\n",
    "<b> - PassengerId:</b> The unique identifier in this Data file <br>\n",
    "<b> - Survived:</b>    The fate of each passenger (target) <br>\n",
    "<b> - Pclass:</b>      The ticket class <br>\n",
    "<b> - Name:</b>       The passenger name <br>\n",
    "<b> - Sex:</b>         The passenger sex <br>\n",
    "<b> - Age:</b>         The passenger age in years   \n",
    "<b> - Sibsp:</b>       The number of siblings/spouses also travelling <br>\n",
    "<b> - Parch:</b>       The number of parents/children also travelling <br>\n",
    "<b> - Ticket:</b>      The passenger ticket number <br>\n",
    "<b> - Fare:</b>        The passenger fare <br>\n",
    "<b> - Cabin:</b>       The passenger cabin number <br>\n",
    "<b> - Embarked:</b>    The passenger's port of Embarkation <br>"
   ]
  },
  {
   "cell_type": "code",
   "execution_count": 13,
   "metadata": {},
   "outputs": [
    {
     "data": {
      "text/html": [
       "<div>\n",
       "<style scoped>\n",
       "    .dataframe tbody tr th:only-of-type {\n",
       "        vertical-align: middle;\n",
       "    }\n",
       "\n",
       "    .dataframe tbody tr th {\n",
       "        vertical-align: top;\n",
       "    }\n",
       "\n",
       "    .dataframe thead th {\n",
       "        text-align: right;\n",
       "    }\n",
       "</style>\n",
       "<table border=\"1\" class=\"dataframe\">\n",
       "  <thead>\n",
       "    <tr style=\"text-align: right;\">\n",
       "      <th></th>\n",
       "      <th>PassengerId</th>\n",
       "      <th>Survived</th>\n",
       "      <th>Pclass</th>\n",
       "      <th>Name</th>\n",
       "      <th>Sex</th>\n",
       "      <th>Age</th>\n",
       "      <th>SibSp</th>\n",
       "      <th>Parch</th>\n",
       "      <th>Ticket</th>\n",
       "      <th>Fare</th>\n",
       "      <th>Cabin</th>\n",
       "      <th>Embarked</th>\n",
       "    </tr>\n",
       "  </thead>\n",
       "  <tbody>\n",
       "    <tr>\n",
       "      <th>0</th>\n",
       "      <td>1</td>\n",
       "      <td>0</td>\n",
       "      <td>3</td>\n",
       "      <td>Braund, Mr. Owen Harris</td>\n",
       "      <td>male</td>\n",
       "      <td>22.0</td>\n",
       "      <td>1</td>\n",
       "      <td>0</td>\n",
       "      <td>A/5 21171</td>\n",
       "      <td>7.2500</td>\n",
       "      <td>NaN</td>\n",
       "      <td>S</td>\n",
       "    </tr>\n",
       "    <tr>\n",
       "      <th>1</th>\n",
       "      <td>2</td>\n",
       "      <td>1</td>\n",
       "      <td>1</td>\n",
       "      <td>Cumings, Mrs. John Bradley (Florence Briggs Th...</td>\n",
       "      <td>female</td>\n",
       "      <td>38.0</td>\n",
       "      <td>1</td>\n",
       "      <td>0</td>\n",
       "      <td>PC 17599</td>\n",
       "      <td>71.2833</td>\n",
       "      <td>C85</td>\n",
       "      <td>C</td>\n",
       "    </tr>\n",
       "    <tr>\n",
       "      <th>2</th>\n",
       "      <td>3</td>\n",
       "      <td>1</td>\n",
       "      <td>3</td>\n",
       "      <td>Heikkinen, Miss. Laina</td>\n",
       "      <td>female</td>\n",
       "      <td>26.0</td>\n",
       "      <td>0</td>\n",
       "      <td>0</td>\n",
       "      <td>STON/O2. 3101282</td>\n",
       "      <td>7.9250</td>\n",
       "      <td>NaN</td>\n",
       "      <td>S</td>\n",
       "    </tr>\n",
       "    <tr>\n",
       "      <th>3</th>\n",
       "      <td>4</td>\n",
       "      <td>1</td>\n",
       "      <td>1</td>\n",
       "      <td>Futrelle, Mrs. Jacques Heath (Lily May Peel)</td>\n",
       "      <td>female</td>\n",
       "      <td>35.0</td>\n",
       "      <td>1</td>\n",
       "      <td>0</td>\n",
       "      <td>113803</td>\n",
       "      <td>53.1000</td>\n",
       "      <td>C123</td>\n",
       "      <td>S</td>\n",
       "    </tr>\n",
       "    <tr>\n",
       "      <th>4</th>\n",
       "      <td>5</td>\n",
       "      <td>0</td>\n",
       "      <td>3</td>\n",
       "      <td>Allen, Mr. William Henry</td>\n",
       "      <td>male</td>\n",
       "      <td>35.0</td>\n",
       "      <td>0</td>\n",
       "      <td>0</td>\n",
       "      <td>373450</td>\n",
       "      <td>8.0500</td>\n",
       "      <td>NaN</td>\n",
       "      <td>S</td>\n",
       "    </tr>\n",
       "  </tbody>\n",
       "</table>\n",
       "</div>"
      ],
      "text/plain": [
       "   PassengerId  Survived  Pclass  \\\n",
       "0            1         0       3   \n",
       "1            2         1       1   \n",
       "2            3         1       3   \n",
       "3            4         1       1   \n",
       "4            5         0       3   \n",
       "\n",
       "                                                Name     Sex   Age  SibSp  \\\n",
       "0                            Braund, Mr. Owen Harris    male  22.0      1   \n",
       "1  Cumings, Mrs. John Bradley (Florence Briggs Th...  female  38.0      1   \n",
       "2                             Heikkinen, Miss. Laina  female  26.0      0   \n",
       "3       Futrelle, Mrs. Jacques Heath (Lily May Peel)  female  35.0      1   \n",
       "4                           Allen, Mr. William Henry    male  35.0      0   \n",
       "\n",
       "   Parch            Ticket     Fare Cabin Embarked  \n",
       "0      0         A/5 21171   7.2500   NaN        S  \n",
       "1      0          PC 17599  71.2833   C85        C  \n",
       "2      0  STON/O2. 3101282   7.9250   NaN        S  \n",
       "3      0            113803  53.1000  C123        S  \n",
       "4      0            373450   8.0500   NaN        S  "
      ]
     },
     "execution_count": 13,
     "metadata": {},
     "output_type": "execute_result"
    }
   ],
   "source": [
    "# Print the first 5 rows of the train dataset\n",
    "train.head()"
   ]
  },
  {
   "cell_type": "markdown",
   "metadata": {},
   "source": [
    "This reveals more about the structure of the dataset and ways in which each feature has been recorded."
   ]
  },
  {
   "cell_type": "code",
   "execution_count": 14,
   "metadata": {},
   "outputs": [
    {
     "data": {
      "text/html": [
       "<div>\n",
       "<style scoped>\n",
       "    .dataframe tbody tr th:only-of-type {\n",
       "        vertical-align: middle;\n",
       "    }\n",
       "\n",
       "    .dataframe tbody tr th {\n",
       "        vertical-align: top;\n",
       "    }\n",
       "\n",
       "    .dataframe thead th {\n",
       "        text-align: right;\n",
       "    }\n",
       "</style>\n",
       "<table border=\"1\" class=\"dataframe\">\n",
       "  <thead>\n",
       "    <tr style=\"text-align: right;\">\n",
       "      <th></th>\n",
       "      <th>PassengerId</th>\n",
       "      <th>Survived</th>\n",
       "      <th>Pclass</th>\n",
       "      <th>Age</th>\n",
       "      <th>SibSp</th>\n",
       "      <th>Parch</th>\n",
       "      <th>Fare</th>\n",
       "    </tr>\n",
       "  </thead>\n",
       "  <tbody>\n",
       "    <tr>\n",
       "      <th>count</th>\n",
       "      <td>891.000000</td>\n",
       "      <td>891.000000</td>\n",
       "      <td>891.000000</td>\n",
       "      <td>714.000000</td>\n",
       "      <td>891.000000</td>\n",
       "      <td>891.000000</td>\n",
       "      <td>891.000000</td>\n",
       "    </tr>\n",
       "    <tr>\n",
       "      <th>mean</th>\n",
       "      <td>446.000000</td>\n",
       "      <td>0.383838</td>\n",
       "      <td>2.308642</td>\n",
       "      <td>29.699118</td>\n",
       "      <td>0.523008</td>\n",
       "      <td>0.381594</td>\n",
       "      <td>32.204208</td>\n",
       "    </tr>\n",
       "    <tr>\n",
       "      <th>std</th>\n",
       "      <td>257.353842</td>\n",
       "      <td>0.486592</td>\n",
       "      <td>0.836071</td>\n",
       "      <td>14.526497</td>\n",
       "      <td>1.102743</td>\n",
       "      <td>0.806057</td>\n",
       "      <td>49.693429</td>\n",
       "    </tr>\n",
       "    <tr>\n",
       "      <th>min</th>\n",
       "      <td>1.000000</td>\n",
       "      <td>0.000000</td>\n",
       "      <td>1.000000</td>\n",
       "      <td>0.420000</td>\n",
       "      <td>0.000000</td>\n",
       "      <td>0.000000</td>\n",
       "      <td>0.000000</td>\n",
       "    </tr>\n",
       "    <tr>\n",
       "      <th>25%</th>\n",
       "      <td>223.500000</td>\n",
       "      <td>0.000000</td>\n",
       "      <td>2.000000</td>\n",
       "      <td>20.125000</td>\n",
       "      <td>0.000000</td>\n",
       "      <td>0.000000</td>\n",
       "      <td>7.910400</td>\n",
       "    </tr>\n",
       "    <tr>\n",
       "      <th>50%</th>\n",
       "      <td>446.000000</td>\n",
       "      <td>0.000000</td>\n",
       "      <td>3.000000</td>\n",
       "      <td>28.000000</td>\n",
       "      <td>0.000000</td>\n",
       "      <td>0.000000</td>\n",
       "      <td>14.454200</td>\n",
       "    </tr>\n",
       "    <tr>\n",
       "      <th>75%</th>\n",
       "      <td>668.500000</td>\n",
       "      <td>1.000000</td>\n",
       "      <td>3.000000</td>\n",
       "      <td>38.000000</td>\n",
       "      <td>1.000000</td>\n",
       "      <td>0.000000</td>\n",
       "      <td>31.000000</td>\n",
       "    </tr>\n",
       "    <tr>\n",
       "      <th>max</th>\n",
       "      <td>891.000000</td>\n",
       "      <td>1.000000</td>\n",
       "      <td>3.000000</td>\n",
       "      <td>80.000000</td>\n",
       "      <td>8.000000</td>\n",
       "      <td>6.000000</td>\n",
       "      <td>512.329200</td>\n",
       "    </tr>\n",
       "  </tbody>\n",
       "</table>\n",
       "</div>"
      ],
      "text/plain": [
       "       PassengerId    Survived      Pclass         Age       SibSp  \\\n",
       "count   891.000000  891.000000  891.000000  714.000000  891.000000   \n",
       "mean    446.000000    0.383838    2.308642   29.699118    0.523008   \n",
       "std     257.353842    0.486592    0.836071   14.526497    1.102743   \n",
       "min       1.000000    0.000000    1.000000    0.420000    0.000000   \n",
       "25%     223.500000    0.000000    2.000000   20.125000    0.000000   \n",
       "50%     446.000000    0.000000    3.000000   28.000000    0.000000   \n",
       "75%     668.500000    1.000000    3.000000   38.000000    1.000000   \n",
       "max     891.000000    1.000000    3.000000   80.000000    8.000000   \n",
       "\n",
       "            Parch        Fare  \n",
       "count  891.000000  891.000000  \n",
       "mean     0.381594   32.204208  \n",
       "std      0.806057   49.693429  \n",
       "min      0.000000    0.000000  \n",
       "25%      0.000000    7.910400  \n",
       "50%      0.000000   14.454200  \n",
       "75%      0.000000   31.000000  \n",
       "max      6.000000  512.329200  "
      ]
     },
     "execution_count": 14,
     "metadata": {},
     "output_type": "execute_result"
    }
   ],
   "source": [
    "# Returning descriptive statistics of the train dataset\n",
    "train.describe()"
   ]
  },
  {
   "cell_type": "markdown",
   "metadata": {},
   "source": [
    "Every column that is either an int or a float can be 'described', leaving all objects omitted. Taking the mean value of the 'Survived' column, it becomes clear that <b>38%</b> of passengers within the training survived when the Titanic sank. From these statistics and after inspecting the data head, we can start to learn more about which actions might be required at the Data Preprocessing stage: <br>\n",
    "1. Features currently stored as objects will require converting to numeric values. Otherwise, the machine learning algorithms will be unable to process them. <br>\n",
    "2. Features containing NaN values ('not a number') will need dealing with in order to again make the feature compatible for maching learning algorithms. Imputing may come in handy at this stage. <br>\n",
    "3. The features vary significantly in range. This is denoted by the standard deviation which provides a measure of data spread. The min and max also provide a useful indication of this. For the purposes of building certain predictive models, some of these ranges will require normalising so that they fit a roughly identical scale. Age and Fare look like two candidates for normalisation at this stage.\n",
    "4. Some features could be more useful within a predictive model if they are combined, for example 'SibSp' and 'Parch' maybe provide more value as a single feature."
   ]
  },
  {
   "cell_type": "markdown",
   "metadata": {},
   "source": [
    "To understand a little more around how much data is actually missing, the final step before some more visual EDA is conducted will be to inspect per feature the quantity of missing values:"
   ]
  },
  {
   "cell_type": "code",
   "execution_count": 15,
   "metadata": {},
   "outputs": [
    {
     "name": "stdout",
     "output_type": "stream",
     "text": [
      "PassengerId      0\n",
      "Survived         0\n",
      "Pclass           0\n",
      "Name             0\n",
      "Sex              0\n",
      "Age            177\n",
      "SibSp            0\n",
      "Parch            0\n",
      "Ticket           0\n",
      "Fare             0\n",
      "Cabin          687\n",
      "Embarked         2\n",
      "dtype: int64\n"
     ]
    }
   ],
   "source": [
    "# Provide NaN count for each feature in the dataset\n",
    "print(train.isnull().sum())"
   ]
  },
  {
   "cell_type": "markdown",
   "metadata": {},
   "source": [
    "This reveals three features (Age, Cabin and Embarked) that will require further attention when at the Data Preprocessing stage."
   ]
  },
  {
   "cell_type": "markdown",
   "metadata": {},
   "source": [
    "# Step 3b: Exploratory data analysis (visual)"
   ]
  },
  {
   "cell_type": "markdown",
   "metadata": {},
   "source": [
    "Before proceeding with any graphical visualisation, let's see whether a correlation matrix can provide further insight into which features may be associated with survival on the Titanic."
   ]
  },
  {
   "cell_type": "code",
   "execution_count": 16,
   "metadata": {},
   "outputs": [
    {
     "data": {
      "text/plain": [
       "<matplotlib.axes._subplots.AxesSubplot at 0x1a0fa711d0>"
      ]
     },
     "execution_count": 16,
     "metadata": {},
     "output_type": "execute_result"
    },
    {
     "data": {
      "image/png": "[encoded data removed]",
      "text/plain": [
       "<matplotlib.figure.Figure at 0x1a0fc7e588>"
      ]
     },
     "metadata": {},
     "output_type": "display_data"
    }
   ],
   "source": [
    "# Correlation matrix of all numeric features\n",
    "sns.heatmap(train.corr(), annot = True)"
   ]
  },
  {
   "cell_type": "markdown",
   "metadata": {},
   "source": [
    "Perhaps not the most insightful view at this stage given that some features are pending preprocessing, however a visible correlation does exist between Survived and Pclass and Fare. Age, SibSp & Parch would also seem like logical predictors and it would be expected that after these variables have been preprocessed their correlation to Survived will increase. PassengerID appears less useful with a tiny negative correlation of -0.005. With no preprocessing required for this feature, it's usefulness will not improve and it will therefore be dropped from the dataset."
   ]
  },
  {
   "cell_type": "code",
   "execution_count": 17,
   "metadata": {},
   "outputs": [],
   "source": [
    "# Dropping PassengerID\n",
    "train = train.drop(['PassengerId'], axis=1)"
   ]
  },
  {
   "cell_type": "markdown",
   "metadata": {},
   "source": [
    "With PassengerID dropped, this leaves the following numeric features available for visual EDA:\n",
    "1. Survived (the target)\n",
    "2. Pclass\n",
    "3. Age\n",
    "4. SibSp\n",
    "5. Parch\n",
    "6. Fare"
   ]
  },
  {
   "cell_type": "markdown",
   "metadata": {},
   "source": [
    "## i: Survived"
   ]
  },
  {
   "cell_type": "code",
   "execution_count": 18,
   "metadata": {},
   "outputs": [
    {
     "name": "stdout",
     "output_type": "stream",
     "text": [
      "0    549\n",
      "1    342\n",
      "Name: Survived, dtype: int64\n"
     ]
    },
    {
     "data": {
      "image/png": "[encoded data removed]",
      "text/plain": [
       "<matplotlib.figure.Figure at 0x1a0fb92eb8>"
      ]
     },
     "metadata": {},
     "output_type": "display_data"
    }
   ],
   "source": [
    "# Plot graph of Survived count and provide this numerically too\n",
    "fig = plt.figure(figsize = (10,5))\n",
    "sns.countplot(x='Survived', data = train)\n",
    "print(train['Survived'].value_counts())"
   ]
  },
  {
   "cell_type": "markdown",
   "metadata": {},
   "source": [
    "A quick inspection into the survived feature reveals that as before seen, 38% of passengers within the training set survived when the Titanic sank. This equates to 342 passengers out of 891 in total."
   ]
  },
  {
   "cell_type": "markdown",
   "metadata": {},
   "source": [
    "## ii: Pclass"
   ]
  },
  {
   "cell_type": "code",
   "execution_count": 19,
   "metadata": {},
   "outputs": [
    {
     "data": {
      "text/plain": [
       "3    491\n",
       "1    216\n",
       "2    184\n",
       "Name: Pclass, dtype: int64"
      ]
     },
     "execution_count": 19,
     "metadata": {},
     "output_type": "execute_result"
    }
   ],
   "source": [
    "# Count of each Pclass type\n",
    "train['Pclass'].value_counts()"
   ]
  },
  {
   "cell_type": "code",
   "execution_count": 20,
   "metadata": {},
   "outputs": [
    {
     "data": {
      "text/plain": [
       "Text(0.5,1,'Percentage Survived by Ticket Class')"
      ]
     },
     "execution_count": 20,
     "metadata": {},
     "output_type": "execute_result"
    },
    {
     "data": {
      "image/png": "[encoded data removed]",
      "text/plain": [
       "<matplotlib.figure.Figure at 0x1a18a87208>"
      ]
     },
     "metadata": {},
     "output_type": "display_data"
    }
   ],
   "source": [
    "# Bar chart of each Pclass type\n",
    "fig = plt.figure(figsize = (10,10))\n",
    "ax1 = plt.subplot(2,1,1)\n",
    "ax1 = sns.countplot(x = 'Pclass', hue = 'Survived', data = train)\n",
    "ax1.set_title('Ticket Class Survival Rate')\n",
    "ax1.set_xticklabels(['1 Upper','2 Middle','3 Lower'])\n",
    "ax1.set_ylim(0,400)\n",
    "ax1.set_xlabel('Ticket Class')\n",
    "ax1.set_ylabel('Count')\n",
    "ax1.legend(['No','Yes'])\n",
    "\n",
    "# Code to display data labels on the bar chart\n",
    "height = [p.get_height() if p.get_height()==p.get_height() else 0 for p in ax1.patches]\n",
    "ncol = int(len(height)/2)\n",
    "total = [height[i] + height[i + ncol] for i in range(ncol)] * 2\n",
    "for i, p in enumerate(ax1.patches): \n",
    "    ax1.text(p.get_x()+p.get_width()/2, height[i]*1.01 + 10,\n",
    "            '{:1.0%}'.format(height[i]/total[i]), ha=\"center\", size=11)\n",
    "    ax1.text(p.get_x()+p.get_width()/2, height[i]*1.01 - 30,\n",
    "           '{:.0f}'.format(height[i]), ha=\"center\", size=11)\n",
    "\n",
    "# Pointplot Pclass type\n",
    "ax2 = plt.subplot(2,1,2)\n",
    "sns.pointplot(x='Pclass', y='Survived', data=train)\n",
    "ax2.set_xlabel('Ticket Class')\n",
    "ax2.set_ylabel('Percent Survived')\n",
    "ax2.set_title('Percentage Survived by Ticket Class')"
   ]
  },
  {
   "cell_type": "markdown",
   "metadata": {},
   "source": [
    "Confirmation of what was seen in the correlation matrix that a trend is visible between ticket class and survival chance. The higher class ticket, the more likely one is to have survived. This will become a very handy predictor in the machine learning algorithm."
   ]
  },
  {
   "cell_type": "markdown",
   "metadata": {},
   "source": [
    "## iii. Age"
   ]
  },
  {
   "cell_type": "code",
   "execution_count": 21,
   "metadata": {},
   "outputs": [
    {
     "data": {
      "image/png": "[encoded data removed]",
      "text/plain": [
       "<matplotlib.figure.Figure at 0x1a18a416a0>"
      ]
     },
     "metadata": {},
     "output_type": "display_data"
    }
   ],
   "source": [
    "# Bar chart of age mapped against sex. For now, missing values have been dropped and will be dealt with later\n",
    "survived = 'survived'\n",
    "not_survived = 'not survived'\n",
    "fig, axes = plt.subplots(nrows=1, ncols=2,figsize=(10, 4))\n",
    "women = train[train['Sex']=='female']\n",
    "men = train[train['Sex']=='male']\n",
    "ax = sns.distplot(women[women['Survived']==1].Age.dropna(), bins=20, label = survived, ax = axes[0], kde =False)\n",
    "ax = sns.distplot(women[women['Survived']==0].Age.dropna(), bins=20, label = not_survived, ax = axes[0], kde =False)\n",
    "ax.legend()\n",
    "ax.set_title('Female')\n",
    "ax = sns.distplot(men[men['Survived']==1].Age.dropna(), bins=20, label = survived, ax = axes[1], kde = False)\n",
    "ax = sns.distplot(men[men['Survived']==0].Age.dropna(), bins=20, label = not_survived, ax = axes[1], kde = False)\n",
    "ax.legend()\n",
    "_ = ax.set_title('Male')"
   ]
  },
  {
   "cell_type": "markdown",
   "metadata": {},
   "source": [
    "More can be understood about age when plotted by sex. These graphs reveal that overall women were much more likely to survive than men, and this is largely regardless of age. For both sexes, it appears that chances of survival are more likely at a younger age, which is what might have been expected. From the age of 20, it was consistently more likely that men would not have survived, up until their age approached 80. For women, apart from a potentially anomalous finding around the 8-9 bracket, they were always more likely to survive."
   ]
  },
  {
   "cell_type": "markdown",
   "metadata": {},
   "source": [
    "## iv. SibSp & Parch"
   ]
  },
  {
   "cell_type": "code",
   "execution_count": 22,
   "metadata": {},
   "outputs": [
    {
     "data": {
      "image/png": "[encoded data removed]",
      "text/plain": [
       "<matplotlib.figure.Figure at 0x1a18a30198>"
      ]
     },
     "metadata": {},
     "output_type": "display_data"
    }
   ],
   "source": [
    "# Plotting survival rate vs Siblings or Spouse on board\n",
    "fig = plt.figure(figsize = (10,17))\n",
    "ax1 = plt.subplot(2,1,1)\n",
    "ax1 = sns.countplot(x = 'SibSp', hue = 'Survived', data = train)\n",
    "ax1.set_title('Survival Rate with Total of Siblings and Spouse on Board')\n",
    "ax1.set_ylim(0,500)\n",
    "ax1.set_xlabel('# of Sibling and Spouse')\n",
    "ax1.set_ylabel('Count')\n",
    "ax1.legend(['No','Yes'],loc = 1)\n",
    "\n",
    "# Adding data labels to graph\n",
    "height = [p.get_height() if p.get_height()==p.get_height() else 0 for p in ax1.patches]\n",
    "ncol = int(len(height)/2)\n",
    "total = [height[i] + height[i + ncol] for i in range(ncol)] * 2\n",
    "for i, p in enumerate(ax1.patches): \n",
    "    ax1.text(p.get_x()+p.get_width()/2, height[i]*1.01 + 10,\n",
    "                '{:1.0%}'.format(height[i]/total[i]), ha=\"center\", size=11)\n",
    "\n",
    "# Plotting survival rate vs Parents or Children on board\n",
    "ax2 = plt.subplot(2,1,2)\n",
    "ax2 = sns.countplot(x = 'Parch', hue = 'Survived', data = train)\n",
    "ax2.set_title('Survival Rate with Total Parents and Children on Board')\n",
    "ax2.set_ylim(0,500)\n",
    "ax2.set_xlabel('# of Parents and Children')\n",
    "ax2.set_ylabel('Count')\n",
    "ax2.legend(['No','Yes'],loc = 1)\n",
    "\n",
    "# Adding data labels to graph\n",
    "height = [p.get_height() if p.get_height()==p.get_height() else 0 for p in ax2.patches]\n",
    "ncol = int(len(height)/2)\n",
    "total = [height[i] + height[i + ncol] for i in range(ncol)] * 2\n",
    "for i, p in enumerate(ax2.patches): \n",
    "    ax2.text(p.get_x()+p.get_width()/2, height[i]*1.01 + 10,\n",
    "                '{:1.0%}'.format(height[i]/total[i]), ha=\"center\", size=11)"
   ]
  },
  {
   "cell_type": "markdown",
   "metadata": {},
   "source": [
    "Not surprisingly, the structure of these two graphs appear similar, with a similar density of passengers featured within each count, with also a similar ratio of survived vs not survived. This adds further rationale for these two features to be combined, which will be performed at the Data Preprocessing stage."
   ]
  },
  {
   "cell_type": "markdown",
   "metadata": {},
   "source": [
    "## v. Fare"
   ]
  },
  {
   "cell_type": "code",
   "execution_count": 23,
   "metadata": {},
   "outputs": [
    {
     "data": {
      "text/plain": [
       "<matplotlib.axes._subplots.AxesSubplot at 0x1a18a1b748>"
      ]
     },
     "execution_count": 23,
     "metadata": {},
     "output_type": "execute_result"
    },
    {
     "data": {
      "image/png": "[encoded data removed]",
      "text/plain": [
       "<matplotlib.figure.Figure at 0x1a190026a0>"
      ]
     },
     "metadata": {},
     "output_type": "display_data"
    }
   ],
   "source": [
    "# Graph to display fare paid per the three ticket types\n",
    "sns.swarmplot(x=\"Pclass\", y=\"Fare\", data=train, hue='Survived')"
   ]
  },
  {
   "cell_type": "markdown",
   "metadata": {},
   "source": [
    "Fare has been displayed per ticket type, and it doesn't reveal too many differences between Pclass 2 and 3, but it does between these and Pclass 1. Those in Pclass 1 appear to on average have paid more to be on board the titanic, and as we have previously seen, also had a greater chance of survival."
   ]
  },
  {
   "cell_type": "markdown",
   "metadata": {},
   "source": [
    "# Step 4: Data Preprocessing"
   ]
  },
  {
   "cell_type": "markdown",
   "metadata": {},
   "source": [
    "Now that we have familiarised ourselves with the current numerical data, work can begin on getting each feature prepared for machine learning application. This will involve the actions discussed during step 3a (statistical EDA). This is perhaps one of, if not the most step in buildng a machine learning model as ultimately feature quality will determine the usefulness of any resulting model that is built. So let's get to it! A quick recap of the data to begin with:"
   ]
  },
  {
   "cell_type": "code",
   "execution_count": 24,
   "metadata": {},
   "outputs": [
    {
     "name": "stdout",
     "output_type": "stream",
     "text": [
      "<class 'pandas.core.frame.DataFrame'>\n",
      "RangeIndex: 891 entries, 0 to 890\n",
      "Data columns (total 11 columns):\n",
      "Survived    891 non-null int64\n",
      "Pclass      891 non-null int64\n",
      "Name        891 non-null object\n",
      "Sex         891 non-null object\n",
      "Age         714 non-null float64\n",
      "SibSp       891 non-null int64\n",
      "Parch       891 non-null int64\n",
      "Ticket      891 non-null object\n",
      "Fare        891 non-null float64\n",
      "Cabin       204 non-null object\n",
      "Embarked    889 non-null object\n",
      "dtypes: float64(2), int64(4), object(5)\n",
      "memory usage: 76.6+ KB\n"
     ]
    }
   ],
   "source": [
    "# Recapping the features available within the train dataset\n",
    "train.info()"
   ]
  },
  {
   "cell_type": "code",
   "execution_count": 25,
   "metadata": {},
   "outputs": [
    {
     "name": "stdout",
     "output_type": "stream",
     "text": [
      "<class 'pandas.core.frame.DataFrame'>\n",
      "RangeIndex: 418 entries, 0 to 417\n",
      "Data columns (total 11 columns):\n",
      "PassengerId    418 non-null int64\n",
      "Pclass         418 non-null int64\n",
      "Name           418 non-null object\n",
      "Sex            418 non-null object\n",
      "Age            332 non-null float64\n",
      "SibSp          418 non-null int64\n",
      "Parch          418 non-null int64\n",
      "Ticket         418 non-null object\n",
      "Fare           417 non-null float64\n",
      "Cabin          91 non-null object\n",
      "Embarked       418 non-null object\n",
      "dtypes: float64(2), int64(4), object(5)\n",
      "memory usage: 36.0+ KB\n"
     ]
    }
   ],
   "source": [
    "# Recapping the features within the test dataset\n",
    "test.info()"
   ]
  },
  {
   "cell_type": "markdown",
   "metadata": {},
   "source": [
    "Inspection of the test-set reveals one missing value within Fare, so we will need to fix this!"
   ]
  },
  {
   "cell_type": "markdown",
   "metadata": {},
   "source": [
    "## 4a: Converting features"
   ]
  },
  {
   "cell_type": "markdown",
   "metadata": {},
   "source": [
    "Converting all current objects and floats into numeric values (int). I will start with the simple amendments before progressing to the features where greater work is required."
   ]
  },
  {
   "cell_type": "markdown",
   "metadata": {},
   "source": [
    "### i: Ticket"
   ]
  },
  {
   "cell_type": "code",
   "execution_count": 26,
   "metadata": {},
   "outputs": [
    {
     "data": {
      "text/plain": [
       "count      891\n",
       "unique     681\n",
       "top       1601\n",
       "freq         7\n",
       "Name: Ticket, dtype: object"
      ]
     },
     "execution_count": 26,
     "metadata": {},
     "output_type": "execute_result"
    }
   ],
   "source": [
    "# Getting information on ticket\n",
    "train['Ticket'].describe()"
   ]
  },
  {
   "cell_type": "markdown",
   "metadata": {},
   "source": [
    "There are 681 unique records within the ticket feature training dataset. It's unlikely that we'll be able to complete any meaningful conversion with this feature, so it will be dropped from the dataset."
   ]
  },
  {
   "cell_type": "code",
   "execution_count": 27,
   "metadata": {},
   "outputs": [],
   "source": [
    "# Dropping ticket from dataset\n",
    "train = train.drop(['Ticket'], axis=1)\n",
    "test = test.drop(['Ticket'], axis=1)"
   ]
  },
  {
   "cell_type": "markdown",
   "metadata": {},
   "source": [
    "### ii: Fare"
   ]
  },
  {
   "cell_type": "code",
   "execution_count": 28,
   "metadata": {},
   "outputs": [],
   "source": [
    "# Converting Fare to type int and also fixing the 1 missing value in the test set\n",
    "data = [train, test]\n",
    "\n",
    "for d in data:\n",
    "    d['Fare'] = d['Fare'].fillna(0)\n",
    "    d['Fare'] = d['Fare'].astype(int)"
   ]
  },
  {
   "cell_type": "markdown",
   "metadata": {},
   "source": [
    "### iii: Sex"
   ]
  },
  {
   "cell_type": "code",
   "execution_count": 29,
   "metadata": {},
   "outputs": [],
   "source": [
    "# Recoding sex to numeric values with use of a dictionary for machine learning model compatibility\n",
    "genders = {\"male\": 0, \"female\": 1}\n",
    "data = [train, test]\n",
    "\n",
    "for d in data:\n",
    "    d['Sex'] = d['Sex'].map(genders)"
   ]
  },
  {
   "cell_type": "markdown",
   "metadata": {},
   "source": [
    "### iv: Embarked"
   ]
  },
  {
   "cell_type": "code",
   "execution_count": 30,
   "metadata": {},
   "outputs": [
    {
     "data": {
      "text/plain": [
       "count     889\n",
       "unique      3\n",
       "top         S\n",
       "freq      644\n",
       "Name: Embarked, dtype: object"
      ]
     },
     "execution_count": 30,
     "metadata": {},
     "output_type": "execute_result"
    }
   ],
   "source": [
    "# Information on Embarked\n",
    "train['Embarked'].describe()"
   ]
  },
  {
   "cell_type": "markdown",
   "metadata": {},
   "source": [
    "Before we progress with any conversion, the two missing values can be quickly fixed by replacing the NaN with the most frequently embarked value: S."
   ]
  },
  {
   "cell_type": "code",
   "execution_count": 31,
   "metadata": {},
   "outputs": [],
   "source": [
    "# Pulling out most popular port\n",
    "mode = 'S'\n",
    "data = [train, test]\n",
    "\n",
    "# Replacing missing values with most common port\n",
    "for dataset in data:\n",
    "    dataset['Embarked'] = dataset['Embarked'].fillna(mode)"
   ]
  },
  {
   "cell_type": "markdown",
   "metadata": {},
   "source": [
    "Next, the values within embarked will be convered into ints for machine learning compatibility"
   ]
  },
  {
   "cell_type": "code",
   "execution_count": 32,
   "metadata": {},
   "outputs": [],
   "source": [
    "# Converting embarked to numeric values: 0, 1, 2\n",
    "port = {\"S\": 0, \"C\": 1, \"Q\": 2}\n",
    "data = [train, test]\n",
    "\n",
    "for dataset in data:\n",
    "    dataset['Embarked'] = dataset['Embarked'].map(port)"
   ]
  },
  {
   "cell_type": "markdown",
   "metadata": {},
   "source": [
    "### v: Name"
   ]
  },
  {
   "cell_type": "code",
   "execution_count": 33,
   "metadata": {},
   "outputs": [
    {
     "data": {
      "text/plain": [
       "0                              Braund, Mr. Owen Harris\n",
       "1    Cumings, Mrs. John Bradley (Florence Briggs Th...\n",
       "2                               Heikkinen, Miss. Laina\n",
       "3         Futrelle, Mrs. Jacques Heath (Lily May Peel)\n",
       "4                             Allen, Mr. William Henry\n",
       "Name: Name, dtype: object"
      ]
     },
     "execution_count": 33,
     "metadata": {},
     "output_type": "execute_result"
    }
   ],
   "source": [
    "# Inspecting the first five rows of Name\n",
    "train['Name'].head()"
   ]
  },
  {
   "cell_type": "markdown",
   "metadata": {},
   "source": [
    "The names as they are will not be helpful to us, however meaningful information can be found in the titles, providing additional information on gender and age. Therefore, these will be extracted and used to form a new feature: Title. Once created, Name can be dropped from the dataset. A few new functions will enable us to complete this operation."
   ]
  },
  {
   "cell_type": "code",
   "execution_count": 34,
   "metadata": {},
   "outputs": [],
   "source": [
    "# New function to return name title only\n",
    "def get_title(name):\n",
    "    if '.' in name:\n",
    "        return name.split(',')[1].split('.')[0].strip()\n",
    "    else:\n",
    "        return 'Unknown'"
   ]
  },
  {
   "cell_type": "code",
   "execution_count": 35,
   "metadata": {},
   "outputs": [],
   "source": [
    "# Creating two lists of titles, one for each dataset\n",
    "titles_train = sorted(set([x for x in train['Name'].map(lambda x: get_title(x))]))\n",
    "titles_test = sorted(set([x for x in test['Name'].map(lambda x: get_title(x))]))"
   ]
  },
  {
   "cell_type": "markdown",
   "metadata": {},
   "source": [
    "To understand better what we are now working with, the list size and values will be printed below."
   ]
  },
  {
   "cell_type": "code",
   "execution_count": 36,
   "metadata": {},
   "outputs": [
    {
     "name": "stdout",
     "output_type": "stream",
     "text": [
      "17 : ['Capt', 'Col', 'Don', 'Dr', 'Jonkheer', 'Lady', 'Major', 'Master', 'Miss', 'Mlle', 'Mme', 'Mr', 'Mrs', 'Ms', 'Rev', 'Sir', 'the Countess']\n",
      "9 : ['Col', 'Dona', 'Dr', 'Master', 'Miss', 'Mr', 'Mrs', 'Ms', 'Rev']\n"
     ]
    }
   ],
   "source": [
    "# Printing list length and items in each list\n",
    "print(len(titles_train), ':', titles_train)\n",
    "print(len(titles_test), ':', titles_test)"
   ]
  },
  {
   "cell_type": "markdown",
   "metadata": {},
   "source": [
    "17 unique title values is perhaps beyond the scope of what we want to achieve with title. We could also account for status however with Pclass we can already get a good indication of that. Instead, these values will be converted into four categories: 'Mr', 'Mrs', 'Miss', 'Master'. The below function will achieve this."
   ]
  },
  {
   "cell_type": "code",
   "execution_count": 37,
   "metadata": {},
   "outputs": [],
   "source": [
    "# New function to classify each title into 1 of 4 overarching titles\n",
    "def adjust_titles(x):\n",
    "    title = x['Title']\n",
    "    if title in ['Capt', 'Col', 'Don', 'Jonkheer', 'Major', 'Rev', 'Sir']:\n",
    "        return 'Mr'\n",
    "    elif title in ['the Countess', 'Mme', 'Lady','Dona']:\n",
    "        return 'Mrs'\n",
    "    elif title in ['Mlle', 'Ms']:\n",
    "        return 'Miss'\n",
    "    elif title =='Dr':\n",
    "        if x['Sex']=='male':\n",
    "            return 'Mr'\n",
    "        else:\n",
    "            return 'Mrs'\n",
    "    else:\n",
    "        return title"
   ]
  },
  {
   "cell_type": "code",
   "execution_count": 38,
   "metadata": {},
   "outputs": [],
   "source": [
    "# Applying the get_title function to each list\n",
    "train['Title'] = train['Name'].map(lambda x: get_title(x))\n",
    "train['Title'] = train.apply(adjust_titles, axis=1)\n",
    "test['Title'] = test['Name'].map(lambda x: get_title(x))\n",
    "test['Title'] = test.apply(adjust_titles, axis=1)"
   ]
  },
  {
   "cell_type": "code",
   "execution_count": 39,
   "metadata": {},
   "outputs": [
    {
     "name": "stdout",
     "output_type": "stream",
     "text": [
      "Mr        531\n",
      "Miss      185\n",
      "Mrs       135\n",
      "Master     40\n",
      "Name: Title, dtype: int64\n",
      "\n",
      "\n",
      "Mr        244\n",
      "Miss       79\n",
      "Mrs        74\n",
      "Master     21\n",
      "Name: Title, dtype: int64\n"
     ]
    }
   ],
   "source": [
    "# Printing values of the title column (checking function worked!)\n",
    "print(train['Title'].value_counts())\n",
    "print('\\n')\n",
    "print(test['Title'].value_counts())"
   ]
  },
  {
   "cell_type": "markdown",
   "metadata": {},
   "source": [
    "Confirmation that both the train and test set now reflect the correct four titles. Lastly, the Title column will be converted to numeric and the Name column can be dropped from both datasets."
   ]
  },
  {
   "cell_type": "code",
   "execution_count": 40,
   "metadata": {},
   "outputs": [],
   "source": [
    "# Converting titles to numeric\n",
    "titles = {\"Mr\": 0, \"Miss\": 1, \"Mrs\": 2, \"Master\": 3}\n",
    "data = [train, test]\n",
    "\n",
    "for d in data:\n",
    "    d['Title'] = d['Title'].map(titles)"
   ]
  },
  {
   "cell_type": "code",
   "execution_count": 41,
   "metadata": {},
   "outputs": [],
   "source": [
    "# Lastly, drop the name column\n",
    "train = train.drop('Name', axis = 1)\n",
    "test = test.drop('Name',axis=1)"
   ]
  },
  {
   "cell_type": "markdown",
   "metadata": {},
   "source": [
    "## 4b: Missing Data"
   ]
  },
  {
   "cell_type": "markdown",
   "metadata": {},
   "source": [
    "While simple fixes to Embarked and Fare have been made to fill in their missing values, for two features, Cabin & Age, the number of missing values is far greater and therefore more careful consideration around how to tackle each feature will be required."
   ]
  },
  {
   "cell_type": "markdown",
   "metadata": {},
   "source": [
    "### i: Cabin"
   ]
  },
  {
   "cell_type": "code",
   "execution_count": 42,
   "metadata": {},
   "outputs": [
    {
     "data": {
      "text/html": [
       "<div>\n",
       "<style scoped>\n",
       "    .dataframe tbody tr th:only-of-type {\n",
       "        vertical-align: middle;\n",
       "    }\n",
       "\n",
       "    .dataframe tbody tr th {\n",
       "        vertical-align: top;\n",
       "    }\n",
       "\n",
       "    .dataframe thead th {\n",
       "        text-align: right;\n",
       "    }\n",
       "</style>\n",
       "<table border=\"1\" class=\"dataframe\">\n",
       "  <thead>\n",
       "    <tr style=\"text-align: right;\">\n",
       "      <th></th>\n",
       "      <th>Survived</th>\n",
       "      <th>Pclass</th>\n",
       "      <th>Sex</th>\n",
       "      <th>Age</th>\n",
       "      <th>SibSp</th>\n",
       "      <th>Parch</th>\n",
       "      <th>Fare</th>\n",
       "      <th>Cabin</th>\n",
       "      <th>Embarked</th>\n",
       "      <th>Title</th>\n",
       "    </tr>\n",
       "  </thead>\n",
       "  <tbody>\n",
       "    <tr>\n",
       "      <th>0</th>\n",
       "      <td>0</td>\n",
       "      <td>3</td>\n",
       "      <td>0</td>\n",
       "      <td>22.0</td>\n",
       "      <td>1</td>\n",
       "      <td>0</td>\n",
       "      <td>7</td>\n",
       "      <td>NaN</td>\n",
       "      <td>0</td>\n",
       "      <td>0</td>\n",
       "    </tr>\n",
       "    <tr>\n",
       "      <th>1</th>\n",
       "      <td>1</td>\n",
       "      <td>1</td>\n",
       "      <td>1</td>\n",
       "      <td>38.0</td>\n",
       "      <td>1</td>\n",
       "      <td>0</td>\n",
       "      <td>71</td>\n",
       "      <td>C85</td>\n",
       "      <td>1</td>\n",
       "      <td>2</td>\n",
       "    </tr>\n",
       "    <tr>\n",
       "      <th>2</th>\n",
       "      <td>1</td>\n",
       "      <td>3</td>\n",
       "      <td>1</td>\n",
       "      <td>26.0</td>\n",
       "      <td>0</td>\n",
       "      <td>0</td>\n",
       "      <td>7</td>\n",
       "      <td>NaN</td>\n",
       "      <td>0</td>\n",
       "      <td>1</td>\n",
       "    </tr>\n",
       "    <tr>\n",
       "      <th>3</th>\n",
       "      <td>1</td>\n",
       "      <td>1</td>\n",
       "      <td>1</td>\n",
       "      <td>35.0</td>\n",
       "      <td>1</td>\n",
       "      <td>0</td>\n",
       "      <td>53</td>\n",
       "      <td>C123</td>\n",
       "      <td>0</td>\n",
       "      <td>2</td>\n",
       "    </tr>\n",
       "    <tr>\n",
       "      <th>4</th>\n",
       "      <td>0</td>\n",
       "      <td>3</td>\n",
       "      <td>0</td>\n",
       "      <td>35.0</td>\n",
       "      <td>0</td>\n",
       "      <td>0</td>\n",
       "      <td>8</td>\n",
       "      <td>NaN</td>\n",
       "      <td>0</td>\n",
       "      <td>0</td>\n",
       "    </tr>\n",
       "  </tbody>\n",
       "</table>\n",
       "</div>"
      ],
      "text/plain": [
       "   Survived  Pclass  Sex   Age  SibSp  Parch  Fare Cabin  Embarked  Title\n",
       "0         0       3    0  22.0      1      0     7   NaN         0      0\n",
       "1         1       1    1  38.0      1      0    71   C85         1      2\n",
       "2         1       3    1  26.0      0      0     7   NaN         0      1\n",
       "3         1       1    1  35.0      1      0    53  C123         0      2\n",
       "4         0       3    0  35.0      0      0     8   NaN         0      0"
      ]
     },
     "execution_count": 42,
     "metadata": {},
     "output_type": "execute_result"
    }
   ],
   "source": [
    "# Inspecting head of Name column\n",
    "train.head()"
   ]
  },
  {
   "cell_type": "markdown",
   "metadata": {},
   "source": [
    "Upon closer inspection into cabin from looking at the data head, we can see that it follows a Letter/Number format. A bit of extra internet research reveals that the letter actually refers to the floor in the titanic where each passenger resided. This  information may be helpful in the prediction, e.g. did those in lower cabins have a smaller/larger chance of survival? Therefore we will begin by extracting the letter only from the Cabin column, and then labelling all NaN's with an 'Unknown' cabin reference."
   ]
  },
  {
   "cell_type": "code",
   "execution_count": 43,
   "metadata": {},
   "outputs": [],
   "source": [
    "# Labelling all NaN values as 'Unknown'\n",
    "train.Cabin.fillna('Unknown',inplace=True)\n",
    "test.Cabin.fillna('Unknown',inplace=True)"
   ]
  },
  {
   "cell_type": "code",
   "execution_count": 44,
   "metadata": {},
   "outputs": [],
   "source": [
    "# Extracting the first value in the each row of Cabin\n",
    "train['Cabin'] = train['Cabin'].map(lambda x: x[0])\n",
    "test['Cabin'] = test['Cabin'].map(lambda x: x[0])"
   ]
  },
  {
   "cell_type": "code",
   "execution_count": 45,
   "metadata": {},
   "outputs": [
    {
     "name": "stdout",
     "output_type": "stream",
     "text": [
      "U    687\n",
      "C     59\n",
      "B     47\n",
      "D     33\n",
      "E     32\n",
      "A     15\n",
      "F     13\n",
      "G      4\n",
      "T      1\n",
      "Name: Cabin, dtype: int64\n"
     ]
    },
    {
     "data": {
      "image/png": "[encoded data removed]",
      "text/plain": [
       "<matplotlib.figure.Figure at 0x1a1980fcc0>"
      ]
     },
     "metadata": {},
     "output_type": "display_data"
    }
   ],
   "source": [
    "# Return the counts of each unique value in the Cabin column\n",
    "print(train['Cabin'].value_counts())\n",
    "fig = plt.figure(figsize = (10,5))\n",
    "\n",
    "# Plot a graph of these values\n",
    "ax = plt.plot()\n",
    "ax = sns.countplot(x = 'Cabin', hue = 'Survived',data = train)\n",
    "ax.set_title('Cabin Letter Survival Rate')\n",
    "ax.set_ylim(0,500)\n",
    "ax.set_xlabel('Cabin Letter')\n",
    "ax.set_ylabel('Count')\n",
    "ax.legend(loc = 1)\n",
    "\n",
    "# Insert data labels onto graph\n",
    "height = [p.get_height() if p.get_height()==p.get_height() else 0 for p in ax.patches]\n",
    "ncol = int(len(height)/2)\n",
    "total = [height[i] + height[i + ncol] for i in range(ncol)] * 2\n",
    "for i, p in enumerate(ax.patches): \n",
    "    ax.text(p.get_x()+p.get_width()/2, height[i]*1.01 + 30,\n",
    "                '{:1.0%}'.format(height[i]/total[i]), ha=\"center\", size=11)\n",
    "    ax.text(p.get_x()+p.get_width()/2, height[i]*1.01,\n",
    "           '{:.0f}'.format(height[i]), ha=\"center\", size=11)"
   ]
  },
  {
   "cell_type": "markdown",
   "metadata": {},
   "source": [
    "As previously seen, there is an overwelhming majority of unknown Cabins in the train dataset. Based on this, the best option here might be to create two groups: known and unknown. This will avoid over-fitting on the sparse data by cabin level, and is what will be completed next with the help of a new function."
   ]
  },
  {
   "cell_type": "code",
   "execution_count": 46,
   "metadata": {},
   "outputs": [],
   "source": [
    "# New function to classify known cabins as 'Known', otherwise 'Unknown'\n",
    "def unknown_cabin(cabin):\n",
    "    if cabin != 'U':\n",
    "        return 1\n",
    "    else:\n",
    "        return 0\n",
    "    \n",
    "# Applying new function to Cabin feature\n",
    "train['Cabin'] = train['Cabin'].apply(lambda x:unknown_cabin(x))\n",
    "test['Cabin'] = test['Cabin'].apply(lambda x:unknown_cabin(x))"
   ]
  },
  {
   "cell_type": "code",
   "execution_count": 47,
   "metadata": {},
   "outputs": [
    {
     "data": {
      "image/png": "[encoded data removed]",
      "text/plain": [
       "<matplotlib.figure.Figure at 0x1a197d8dd8>"
      ]
     },
     "metadata": {},
     "output_type": "display_data"
    }
   ],
   "source": [
    "# Plotting Cabin feature in its new form\n",
    "fig = plt.figure(figsize = (10,5))\n",
    "\n",
    "ax = plt.plot()\n",
    "ax = sns.countplot(x = 'Cabin',hue = 'Survived', data = train)\n",
    "ax.set_title('Cabin Known vs Survival Rate')\n",
    "ax.set_ylim(0,500)\n",
    "ax.set_xlabel('Cabin Known')\n",
    "ax.set_xticklabels(['Unkown','Known'])\n",
    "ax.set_ylabel('Count')\n",
    "ax.legend(['No','Yes'],loc = 1)\n",
    "    \n",
    "# Adding in data labels\n",
    "height = [p.get_height() if p.get_height()==p.get_height() else 0 for p in ax.patches]\n",
    "ncol = int(len(height)/2)\n",
    "total = [height[i] + height[i + ncol] for i in range(ncol)] * 2\n",
    "for i, p in enumerate(ax.patches): \n",
    "    ax.text(p.get_x()+p.get_width()/2, height[i]*1.01-20,\n",
    "                '{:1.0%}'.format(height[i]/total[i]), ha=\"center\", size=11)\n",
    "    ax.text(p.get_x()+p.get_width()/2, height[i]*1.01- 50,\n",
    "           '{:.0f}'.format(height[i]), ha=\"center\", size=11)"
   ]
  },
  {
   "cell_type": "markdown",
   "metadata": {},
   "source": [
    "### ii: Age"
   ]
  },
  {
   "cell_type": "markdown",
   "metadata": {},
   "source": [
    "Age doesn't have nearly as many missing values as Cabin did, so there should be more options available, hopefully including imputation of these missing values. Let's recap how many missing values exist within each dataset."
   ]
  },
  {
   "cell_type": "code",
   "execution_count": 48,
   "metadata": {},
   "outputs": [
    {
     "name": "stdout",
     "output_type": "stream",
     "text": [
      "Train:  177  Test:  86\n"
     ]
    }
   ],
   "source": [
    "# Returning NaN within Age across Train & Test set\n",
    "print('Train: ',pd.isnull(train['Age']).sum(),' Test: ', pd.isnull(test['Age']).sum())"
   ]
  },
  {
   "cell_type": "markdown",
   "metadata": {},
   "source": [
    "Given that we have Pclass and have now created a new feature for Title, we can impute Age using each of these as they should be quite indicative of an individuals age. It should be a more accurate method than simply computing random integers around the mean or median of age. Let's do this now."
   ]
  },
  {
   "cell_type": "code",
   "execution_count": 49,
   "metadata": {},
   "outputs": [
    {
     "name": "stdout",
     "output_type": "stream",
     "text": [
      "Titles: \n",
      " 0    531\n",
      "1    185\n",
      "2    135\n",
      "3     40\n",
      "Name: Title, dtype: int64\n",
      "\n",
      "\n",
      "Pclass: \n",
      " 3    491\n",
      "1    216\n",
      "2    184\n",
      "Name: Pclass, dtype: int64\n"
     ]
    }
   ],
   "source": [
    "# Gathering the value counts of Title and Pclass\n",
    "print('Titles:', '\\n', train['Title'].value_counts())\n",
    "print('\\n') \n",
    "print('Pclass:', '\\n',train['Pclass'].value_counts())"
   ]
  },
  {
   "cell_type": "markdown",
   "metadata": {},
   "source": [
    "Imputing can either be completed by the Mean or Median. Let's use the below information to help decide on which might be most accurate."
   ]
  },
  {
   "cell_type": "code",
   "execution_count": 50,
   "metadata": {},
   "outputs": [
    {
     "name": "stdout",
     "output_type": "stream",
     "text": [
      "count    714.000000\n",
      "mean      29.699118\n",
      "std       14.526497\n",
      "min        0.420000\n",
      "25%       20.125000\n",
      "50%       28.000000\n",
      "75%       38.000000\n",
      "max       80.000000\n",
      "Name: Age, dtype: float64\n"
     ]
    }
   ],
   "source": [
    "# Check which statistic to use in imputation\n",
    "print(train['Age'].describe(exclude='NaN'))"
   ]
  },
  {
   "cell_type": "markdown",
   "metadata": {},
   "source": [
    "The mean and percentile breakdown indicates multiple features converging around the 30 mark, which perhaps isn't surprising. Based on this it may be better to proceed with imputing with the median (middle) value."
   ]
  },
  {
   "cell_type": "code",
   "execution_count": 51,
   "metadata": {},
   "outputs": [],
   "source": [
    "# Imputing Age within the train & test set with the Median, grouped by Pclass and title\n",
    "train['Age'] = train.groupby(['Pclass','Title'])['Age'].apply(lambda x: x.fillna(x.median()))\n",
    "test['Age'] = test.groupby(['Pclass','Title'])['Age'].apply(lambda x: x.fillna(x.median()))"
   ]
  },
  {
   "cell_type": "code",
   "execution_count": 52,
   "metadata": {},
   "outputs": [
    {
     "data": {
      "text/plain": [
       "Survived    0\n",
       "Pclass      0\n",
       "Sex         0\n",
       "Age         0\n",
       "SibSp       0\n",
       "Parch       0\n",
       "Fare        0\n",
       "Cabin       0\n",
       "Embarked    0\n",
       "Title       0\n",
       "dtype: int64"
      ]
     },
     "execution_count": 52,
     "metadata": {},
     "output_type": "execute_result"
    }
   ],
   "source": [
    "# A check to confirm no more NaN values within Age\n",
    "train.isnull().sum()"
   ]
  },
  {
   "cell_type": "code",
   "execution_count": 53,
   "metadata": {},
   "outputs": [
    {
     "name": "stdout",
     "output_type": "stream",
     "text": [
      "count    891.000000\n",
      "mean      29.201089\n",
      "std       13.547237\n",
      "min        0.420000\n",
      "25%       21.000000\n",
      "50%       26.000000\n",
      "75%       36.750000\n",
      "max       80.000000\n",
      "Name: Age, dtype: float64\n"
     ]
    }
   ],
   "source": [
    "# Comparing descriptive statistics now that Age has been computed\n",
    "print(train['Age'].describe())"
   ]
  },
  {
   "cell_type": "markdown",
   "metadata": {},
   "source": [
    "Comparing descriptives before and after imputation reveals only nuanced changes in values, which is a encouraging result. Lastly, Age should be converted from a float to an int."
   ]
  },
  {
   "cell_type": "code",
   "execution_count": 54,
   "metadata": {},
   "outputs": [],
   "source": [
    "# Converting Fare to type int and also fixing the 1 missing value in the test set\n",
    "data = [train, test]\n",
    "\n",
    "for d in data:\n",
    "    d['Age'] = d['Age'].astype(int)"
   ]
  },
  {
   "cell_type": "markdown",
   "metadata": {},
   "source": [
    "## 4c: Creating new features"
   ]
  },
  {
   "cell_type": "markdown",
   "metadata": {},
   "source": [
    "### i: SibSp & Parch"
   ]
  },
  {
   "cell_type": "markdown",
   "metadata": {},
   "source": [
    "It would make sense that these two features were combined into one, so that's what we'll do now. There will be one feature to determine the number of relatives an individual has, and another that will simply specify whether or not that individual travelled alone."
   ]
  },
  {
   "cell_type": "code",
   "execution_count": 55,
   "metadata": {},
   "outputs": [],
   "source": [
    "# Creating two features of relatives and not alone\n",
    "data = [train, test]\n",
    "for dataset in data:\n",
    "    dataset['Relatives'] = dataset['SibSp'] + dataset['Parch']\n",
    "    dataset.loc[dataset['Relatives'] > 0, 'Not_alone'] = 0\n",
    "    dataset.loc[dataset['Relatives'] == 0, 'Not_alone'] = 1\n",
    "    dataset['Not_alone'] = dataset['Not_alone'].astype(int)"
   ]
  },
  {
   "cell_type": "code",
   "execution_count": 56,
   "metadata": {},
   "outputs": [
    {
     "data": {
      "text/plain": [
       "0     537\n",
       "1     161\n",
       "2     102\n",
       "3      29\n",
       "5      22\n",
       "4      15\n",
       "6      12\n",
       "10      7\n",
       "7       6\n",
       "Name: Relatives, dtype: int64"
      ]
     },
     "execution_count": 56,
     "metadata": {},
     "output_type": "execute_result"
    }
   ],
   "source": [
    "# Counting the values of the new feature Relatives\n",
    "train['Relatives'].value_counts()"
   ]
  },
  {
   "cell_type": "code",
   "execution_count": 57,
   "metadata": {},
   "outputs": [
    {
     "data": {
      "text/plain": [
       "1    537\n",
       "0    354\n",
       "Name: Not_alone, dtype: int64"
      ]
     },
     "execution_count": 57,
     "metadata": {},
     "output_type": "execute_result"
    }
   ],
   "source": [
    "# Counting the values of the new feature Not_alone\n",
    "train['Not_alone'].value_counts()"
   ]
  },
  {
   "cell_type": "code",
   "execution_count": 58,
   "metadata": {},
   "outputs": [
    {
     "data": {
      "image/png": "[encoded data removed]",
      "text/plain": [
       "<matplotlib.figure.Figure at 0x1a197f16a0>"
      ]
     },
     "metadata": {},
     "output_type": "display_data"
    }
   ],
   "source": [
    "# Plotting relatives vs survived for a final look at the new combined feature\n",
    "axes = sns.factorplot('Relatives','Survived', \n",
    "                      data=train, aspect = 2.5, )"
   ]
  },
  {
   "cell_type": "markdown",
   "metadata": {},
   "source": [
    "With the new features created, the last action is to drop the old features SibSp & Parch from both datasets."
   ]
  },
  {
   "cell_type": "code",
   "execution_count": 59,
   "metadata": {},
   "outputs": [],
   "source": [
    "# Dropping SibSp & Parch from both datasets\n",
    "train = train.drop(['SibSp'], axis=1)\n",
    "test = test.drop(['SibSp'], axis=1)\n",
    "train = train.drop(['Parch'], axis=1)\n",
    "test = test.drop(['Parch'], axis=1)"
   ]
  },
  {
   "cell_type": "markdown",
   "metadata": {},
   "source": [
    "## 4d: A final look"
   ]
  },
  {
   "cell_type": "markdown",
   "metadata": {},
   "source": [
    "With Data Preprocessing now complete, let's take one final look at the overall new data structure before we progress with building machine learning algorithms."
   ]
  },
  {
   "cell_type": "code",
   "execution_count": 60,
   "metadata": {},
   "outputs": [
    {
     "name": "stdout",
     "output_type": "stream",
     "text": [
      "<class 'pandas.core.frame.DataFrame'>\n",
      "RangeIndex: 891 entries, 0 to 890\n",
      "Data columns (total 10 columns):\n",
      "Survived     891 non-null int64\n",
      "Pclass       891 non-null int64\n",
      "Sex          891 non-null int64\n",
      "Age          891 non-null int64\n",
      "Fare         891 non-null int64\n",
      "Cabin        891 non-null int64\n",
      "Embarked     891 non-null int64\n",
      "Title        891 non-null int64\n",
      "Relatives    891 non-null int64\n",
      "Not_alone    891 non-null int64\n",
      "dtypes: int64(10)\n",
      "memory usage: 69.7 KB\n"
     ]
    }
   ],
   "source": [
    "# Information about the train dataset\n",
    "train.info()"
   ]
  },
  {
   "cell_type": "markdown",
   "metadata": {},
   "source": [
    "No missing values and all integers. Lovely stuff!"
   ]
  },
  {
   "cell_type": "code",
   "execution_count": 61,
   "metadata": {},
   "outputs": [
    {
     "data": {
      "text/html": [
       "<div>\n",
       "<style scoped>\n",
       "    .dataframe tbody tr th:only-of-type {\n",
       "        vertical-align: middle;\n",
       "    }\n",
       "\n",
       "    .dataframe tbody tr th {\n",
       "        vertical-align: top;\n",
       "    }\n",
       "\n",
       "    .dataframe thead th {\n",
       "        text-align: right;\n",
       "    }\n",
       "</style>\n",
       "<table border=\"1\" class=\"dataframe\">\n",
       "  <thead>\n",
       "    <tr style=\"text-align: right;\">\n",
       "      <th></th>\n",
       "      <th>Survived</th>\n",
       "      <th>Pclass</th>\n",
       "      <th>Sex</th>\n",
       "      <th>Age</th>\n",
       "      <th>Fare</th>\n",
       "      <th>Cabin</th>\n",
       "      <th>Embarked</th>\n",
       "      <th>Title</th>\n",
       "      <th>Relatives</th>\n",
       "      <th>Not_alone</th>\n",
       "    </tr>\n",
       "  </thead>\n",
       "  <tbody>\n",
       "    <tr>\n",
       "      <th>0</th>\n",
       "      <td>0</td>\n",
       "      <td>3</td>\n",
       "      <td>0</td>\n",
       "      <td>22</td>\n",
       "      <td>7</td>\n",
       "      <td>0</td>\n",
       "      <td>0</td>\n",
       "      <td>0</td>\n",
       "      <td>1</td>\n",
       "      <td>0</td>\n",
       "    </tr>\n",
       "    <tr>\n",
       "      <th>1</th>\n",
       "      <td>1</td>\n",
       "      <td>1</td>\n",
       "      <td>1</td>\n",
       "      <td>38</td>\n",
       "      <td>71</td>\n",
       "      <td>1</td>\n",
       "      <td>1</td>\n",
       "      <td>2</td>\n",
       "      <td>1</td>\n",
       "      <td>0</td>\n",
       "    </tr>\n",
       "    <tr>\n",
       "      <th>2</th>\n",
       "      <td>1</td>\n",
       "      <td>3</td>\n",
       "      <td>1</td>\n",
       "      <td>26</td>\n",
       "      <td>7</td>\n",
       "      <td>0</td>\n",
       "      <td>0</td>\n",
       "      <td>1</td>\n",
       "      <td>0</td>\n",
       "      <td>1</td>\n",
       "    </tr>\n",
       "    <tr>\n",
       "      <th>3</th>\n",
       "      <td>1</td>\n",
       "      <td>1</td>\n",
       "      <td>1</td>\n",
       "      <td>35</td>\n",
       "      <td>53</td>\n",
       "      <td>1</td>\n",
       "      <td>0</td>\n",
       "      <td>2</td>\n",
       "      <td>1</td>\n",
       "      <td>0</td>\n",
       "    </tr>\n",
       "    <tr>\n",
       "      <th>4</th>\n",
       "      <td>0</td>\n",
       "      <td>3</td>\n",
       "      <td>0</td>\n",
       "      <td>35</td>\n",
       "      <td>8</td>\n",
       "      <td>0</td>\n",
       "      <td>0</td>\n",
       "      <td>0</td>\n",
       "      <td>0</td>\n",
       "      <td>1</td>\n",
       "    </tr>\n",
       "    <tr>\n",
       "      <th>5</th>\n",
       "      <td>0</td>\n",
       "      <td>3</td>\n",
       "      <td>0</td>\n",
       "      <td>26</td>\n",
       "      <td>8</td>\n",
       "      <td>0</td>\n",
       "      <td>2</td>\n",
       "      <td>0</td>\n",
       "      <td>0</td>\n",
       "      <td>1</td>\n",
       "    </tr>\n",
       "    <tr>\n",
       "      <th>6</th>\n",
       "      <td>0</td>\n",
       "      <td>1</td>\n",
       "      <td>0</td>\n",
       "      <td>54</td>\n",
       "      <td>51</td>\n",
       "      <td>1</td>\n",
       "      <td>0</td>\n",
       "      <td>0</td>\n",
       "      <td>0</td>\n",
       "      <td>1</td>\n",
       "    </tr>\n",
       "    <tr>\n",
       "      <th>7</th>\n",
       "      <td>0</td>\n",
       "      <td>3</td>\n",
       "      <td>0</td>\n",
       "      <td>2</td>\n",
       "      <td>21</td>\n",
       "      <td>0</td>\n",
       "      <td>0</td>\n",
       "      <td>3</td>\n",
       "      <td>4</td>\n",
       "      <td>0</td>\n",
       "    </tr>\n",
       "    <tr>\n",
       "      <th>8</th>\n",
       "      <td>1</td>\n",
       "      <td>3</td>\n",
       "      <td>1</td>\n",
       "      <td>27</td>\n",
       "      <td>11</td>\n",
       "      <td>0</td>\n",
       "      <td>0</td>\n",
       "      <td>2</td>\n",
       "      <td>2</td>\n",
       "      <td>0</td>\n",
       "    </tr>\n",
       "    <tr>\n",
       "      <th>9</th>\n",
       "      <td>1</td>\n",
       "      <td>2</td>\n",
       "      <td>1</td>\n",
       "      <td>14</td>\n",
       "      <td>30</td>\n",
       "      <td>0</td>\n",
       "      <td>1</td>\n",
       "      <td>2</td>\n",
       "      <td>1</td>\n",
       "      <td>0</td>\n",
       "    </tr>\n",
       "  </tbody>\n",
       "</table>\n",
       "</div>"
      ],
      "text/plain": [
       "   Survived  Pclass  Sex  Age  Fare  Cabin  Embarked  Title  Relatives  \\\n",
       "0         0       3    0   22     7      0         0      0          1   \n",
       "1         1       1    1   38    71      1         1      2          1   \n",
       "2         1       3    1   26     7      0         0      1          0   \n",
       "3         1       1    1   35    53      1         0      2          1   \n",
       "4         0       3    0   35     8      0         0      0          0   \n",
       "5         0       3    0   26     8      0         2      0          0   \n",
       "6         0       1    0   54    51      1         0      0          0   \n",
       "7         0       3    0    2    21      0         0      3          4   \n",
       "8         1       3    1   27    11      0         0      2          2   \n",
       "9         1       2    1   14    30      0         1      2          1   \n",
       "\n",
       "   Not_alone  \n",
       "0          0  \n",
       "1          0  \n",
       "2          1  \n",
       "3          0  \n",
       "4          1  \n",
       "5          1  \n",
       "6          1  \n",
       "7          0  \n",
       "8          0  \n",
       "9          0  "
      ]
     },
     "execution_count": 61,
     "metadata": {},
     "output_type": "execute_result"
    }
   ],
   "source": [
    "# First 10 rows of the train dataset\n",
    "train.head(10)"
   ]
  },
  {
   "cell_type": "markdown",
   "metadata": {},
   "source": [
    "Everything looks in good shape for the machine learning to commence. One final consideration is around the scales for Age and Fare. For many machine learning algorithms to work best, it is required that scales are normalised in some way, for example, to prevent compromising of algorithms that work on the basis of Euclidean distance (e.g. KNN). This will be tackled within the pipeline of the machine learning algorithm with the help of a scaler."
   ]
  },
  {
   "cell_type": "markdown",
   "metadata": {},
   "source": [
    "# Step 5: Machine Learning models"
   ]
  },
  {
   "cell_type": "markdown",
   "metadata": {},
   "source": [
    "Within this step some suitable machine learning algorithms will be fitted to the training data in turn, to see which is best at intially predicting the target variable of survival. First of all, the x and y variables will be set-up so that one contains all of the features, and the other the target variable ('Survived')."
   ]
  },
  {
   "cell_type": "code",
   "execution_count": 62,
   "metadata": {},
   "outputs": [],
   "source": [
    "# Set up feature and target variables in train set, and remove Passenger ID from test set\n",
    "X_train = train.drop(\"Survived\", axis=1)\n",
    "y_train = train[\"Survived\"]\n",
    "X_test  = test.drop(\"PassengerId\", axis=1).copy()"
   ]
  },
  {
   "cell_type": "markdown",
   "metadata": {},
   "source": [
    "Now that feature and target variables have been established, we can build some initial machine learning models. This will be completed with the aid of a pipeline, which sequentially applies a list of transforms with a final estimator. The transformation that will be applied in this case is the StandardScaler, which will correct for scales (e.g. age/fare) having significantly different ranges than others. Lastly, since this is a classification problem ('Survived' is binary) we will only be dealing with machine learning algorithms of this nature."
   ]
  },
  {
   "cell_type": "markdown",
   "metadata": {},
   "source": [
    "## 5a: K nearest neighbour"
   ]
  },
  {
   "cell_type": "code",
   "execution_count": 63,
   "metadata": {},
   "outputs": [
    {
     "name": "stdout",
     "output_type": "stream",
     "text": [
      "87.65 %\n"
     ]
    }
   ],
   "source": [
    "# Build the pipeline\n",
    "steps = [('scaler', StandardScaler()), ('knn', KNeighborsClassifier(n_neighbors = 3))]\n",
    "pipeline = Pipeline(steps)\n",
    "\n",
    "# Fit the pipeline to the training data\n",
    "knn_scaled_fit = pipeline.fit(X_train, y_train)\n",
    "\n",
    "# Predict using the test data\n",
    "knn_scaled_predict = pipeline.predict(X_test)\n",
    "\n",
    "# Compute and predict model accuracy\n",
    "acc_knn = round(pipeline.score(X_train, y_train) * 100, 2)\n",
    "print(round(acc_knn,2,), \"%\")"
   ]
  },
  {
   "cell_type": "code",
   "execution_count": 64,
   "metadata": {},
   "outputs": [
    {
     "name": "stdout",
     "output_type": "stream",
     "text": [
      "84.51 %\n"
     ]
    }
   ],
   "source": [
    "# Testing the same algorithm, but on an unstandardised dataset\n",
    "knn = KNeighborsClassifier(n_neighbors = 3)\n",
    "knn_unscaled_fit = knn.fit(X_train, y_train)\n",
    "knn_unscaled_predict = knn.predict(X_test)\n",
    "acc_knn2 = round(knn.score(X_train, y_train) * 100, 2)\n",
    "print(round(acc_knn2,2,), \"%\")"
   ]
  },
  {
   "cell_type": "markdown",
   "metadata": {},
   "source": [
    "The second analysis was run to confirm that standardising the data via a pipeline contributes towards a more accurate model, which it does. For each model, I will fit it to the data with and without applying the Standard Scaler so that we can be sure in each case to obtain the best prediction. For some models (e.g. Decision Tree) standardisation is not required but I will perform both analyses in each case still to prove this is the case."
   ]
  },
  {
   "cell_type": "markdown",
   "metadata": {},
   "source": [
    "## 5b: Logistic Regression"
   ]
  },
  {
   "cell_type": "code",
   "execution_count": 65,
   "metadata": {},
   "outputs": [
    {
     "name": "stdout",
     "output_type": "stream",
     "text": [
      "83.28 %\n"
     ]
    }
   ],
   "source": [
    "# Build the pipeline\n",
    "steps = [('scaler', StandardScaler()), ('log', LogisticRegression())]\n",
    "pipeline = Pipeline(steps)\n",
    "\n",
    "# Fit the pipeline to the training data\n",
    "log_scaled_fit = pipeline.fit(X_train, y_train)\n",
    "\n",
    "# Predict using the test data\n",
    "log_scaled_predict = pipeline.predict(X_test)\n",
    "\n",
    "# Compute and predict model accuracy\n",
    "acc_log = round(pipeline.score(X_train, y_train) * 100, 2)\n",
    "print(round(acc_log,2,), \"%\")"
   ]
  },
  {
   "cell_type": "code",
   "execution_count": 66,
   "metadata": {},
   "outputs": [
    {
     "name": "stdout",
     "output_type": "stream",
     "text": [
      "83.61 %\n"
     ]
    }
   ],
   "source": [
    "# Testing the same algorithm, but on an unstandardised dataset\n",
    "log = LogisticRegression()\n",
    "log_unscaled_fit = log.fit(X_train, y_train)\n",
    "log_unscaled_predict = log.predict(X_test)\n",
    "acc_log2 = round(log.score(X_train, y_train) * 100, 2)\n",
    "print(round(acc_log2,2,), \"%\")"
   ]
  },
  {
   "cell_type": "markdown",
   "metadata": {},
   "source": [
    "## 5c: Random Forest"
   ]
  },
  {
   "cell_type": "code",
   "execution_count": 93,
   "metadata": {},
   "outputs": [
    {
     "name": "stdout",
     "output_type": "stream",
     "text": [
      "96.97 %\n"
     ]
    }
   ],
   "source": [
    "# Build the pipeline\n",
    "steps = [('scaler', StandardScaler()), ('ran', RandomForestClassifier(n_estimators=100))]\n",
    "pipeline = Pipeline(steps)\n",
    "\n",
    "# Fit the pipeline to the training data\n",
    "ran_scaled_fit = pipeline.fit(X_train, y_train)\n",
    "\n",
    "# Predict using the test data\n",
    "ran_scaled_predict = pipeline.predict(X_test)\n",
    "\n",
    "# Compute and predict model accuracy\n",
    "acc_ran = round(pipeline.score(X_train, y_train) * 100, 2)\n",
    "print(round(acc_ran,2,), \"%\")"
   ]
  },
  {
   "cell_type": "code",
   "execution_count": 68,
   "metadata": {},
   "outputs": [
    {
     "name": "stdout",
     "output_type": "stream",
     "text": [
      "96.97 %\n"
     ]
    }
   ],
   "source": [
    "# Testing the same algorithm, but on an unstandardised dataset\n",
    "ran = RandomForestClassifier(n_estimators=100)\n",
    "ran_unscaled_fit = ran.fit(X_train, y_train)\n",
    "ran_unscaled_predict = ran.predict(X_test)\n",
    "acc_ran2 = round(ran.score(X_train, y_train) * 100, 2)\n",
    "print(round(acc_ran2,2,), \"%\")"
   ]
  },
  {
   "cell_type": "markdown",
   "metadata": {},
   "source": [
    "## 5d: Support Vector Classifier"
   ]
  },
  {
   "cell_type": "code",
   "execution_count": 69,
   "metadata": {},
   "outputs": [
    {
     "name": "stdout",
     "output_type": "stream",
     "text": [
      "84.74 %\n"
     ]
    }
   ],
   "source": [
    "# Build the pipeline\n",
    "steps = [('scaler', StandardScaler()), ('svc', SVC())]\n",
    "pipeline = Pipeline(steps)\n",
    "\n",
    "# Fit the pipeline to the training data\n",
    "svc_scaled_fit = pipeline.fit(X_train, y_train)\n",
    "\n",
    "# Predict using the test data\n",
    "svc_scaled_predict = pipeline.predict(X_test)\n",
    "\n",
    "# Compute and predict model accuracy\n",
    "acc_svc = round(pipeline.score(X_train, y_train) * 100, 2)\n",
    "print(round(acc_svc,2,), \"%\")"
   ]
  },
  {
   "cell_type": "code",
   "execution_count": 70,
   "metadata": {},
   "outputs": [
    {
     "name": "stdout",
     "output_type": "stream",
     "text": [
      "90.68 %\n"
     ]
    }
   ],
   "source": [
    "# Testing the same algorithm, but on an unstandardised dataset\n",
    "svc = SVC()\n",
    "svc_unscaled_fit = svc.fit(X_train, y_train)\n",
    "svc_unscaled_predict = svc.predict(X_test)\n",
    "acc_svc2 = round(svc.score(X_train, y_train) * 100, 2)\n",
    "print(round(acc_svc2,2,), \"%\")"
   ]
  },
  {
   "cell_type": "markdown",
   "metadata": {},
   "source": [
    "## 5e: Decision Tree"
   ]
  },
  {
   "cell_type": "code",
   "execution_count": 71,
   "metadata": {},
   "outputs": [
    {
     "name": "stdout",
     "output_type": "stream",
     "text": [
      "96.97 %\n"
     ]
    }
   ],
   "source": [
    "# Build the pipeline\n",
    "steps = [('scaler', StandardScaler()), ('tree', DecisionTreeClassifier())]\n",
    "pipeline = Pipeline(steps)\n",
    "\n",
    "# Fit the pipeline to the training data\n",
    "tree_scaled_fit = pipeline.fit(X_train, y_train)\n",
    "\n",
    "# Predict using the test data\n",
    "tree_scaled_predict = pipeline.predict(X_test)\n",
    "\n",
    "# Compute and predict model accuracy\n",
    "acc_tree = round(pipeline.score(X_train, y_train) * 100, 2)\n",
    "print(round(acc_tree,2,), \"%\")"
   ]
  },
  {
   "cell_type": "code",
   "execution_count": 72,
   "metadata": {},
   "outputs": [
    {
     "name": "stdout",
     "output_type": "stream",
     "text": [
      "96.97 %\n"
     ]
    }
   ],
   "source": [
    "# Testing the same algorithm, but on an unstandardised dataset\n",
    "tree = DecisionTreeClassifier()\n",
    "tree_unscaled_fit = tree.fit(X_train, y_train)\n",
    "tree_unscaled_predict = tree.predict(X_test)\n",
    "acc_tree2 = round(tree.score(X_train, y_train) * 100, 2)\n",
    "print(round(acc_tree2,2,), \"%\")"
   ]
  },
  {
   "cell_type": "markdown",
   "metadata": {},
   "source": [
    "With five models now fit to the training data, let's tally up and see which one was best at predicting survival on the Titanic."
   ]
  },
  {
   "cell_type": "code",
   "execution_count": 94,
   "metadata": {},
   "outputs": [
    {
     "data": {
      "text/html": [
       "<div>\n",
       "<style scoped>\n",
       "    .dataframe tbody tr th:only-of-type {\n",
       "        vertical-align: middle;\n",
       "    }\n",
       "\n",
       "    .dataframe tbody tr th {\n",
       "        vertical-align: top;\n",
       "    }\n",
       "\n",
       "    .dataframe thead th {\n",
       "        text-align: right;\n",
       "    }\n",
       "</style>\n",
       "<table border=\"1\" class=\"dataframe\">\n",
       "  <thead>\n",
       "    <tr style=\"text-align: right;\">\n",
       "      <th></th>\n",
       "      <th>Model</th>\n",
       "    </tr>\n",
       "    <tr>\n",
       "      <th>Score</th>\n",
       "      <th></th>\n",
       "    </tr>\n",
       "  </thead>\n",
       "  <tbody>\n",
       "    <tr>\n",
       "      <th>96.97</th>\n",
       "      <td>Random Forest</td>\n",
       "    </tr>\n",
       "    <tr>\n",
       "      <th>96.97</th>\n",
       "      <td>Decision Tree</td>\n",
       "    </tr>\n",
       "    <tr>\n",
       "      <th>90.68</th>\n",
       "      <td>SVC</td>\n",
       "    </tr>\n",
       "    <tr>\n",
       "      <th>87.65</th>\n",
       "      <td>KNN</td>\n",
       "    </tr>\n",
       "    <tr>\n",
       "      <th>83.61</th>\n",
       "      <td>Logistic Regression</td>\n",
       "    </tr>\n",
       "  </tbody>\n",
       "</table>\n",
       "</div>"
      ],
      "text/plain": [
       "                     Model\n",
       "Score                     \n",
       "96.97        Random Forest\n",
       "96.97        Decision Tree\n",
       "90.68                  SVC\n",
       "87.65                  KNN\n",
       "83.61  Logistic Regression"
      ]
     },
     "execution_count": 94,
     "metadata": {},
     "output_type": "execute_result"
    }
   ],
   "source": [
    "# Creating a table of results, ranked highest to lowest\n",
    "results = pd.DataFrame({\n",
    "    'Model': ['KNN', 'Logistic Regression', \n",
    "              'Random Forest', 'SVC', \n",
    "              'Decision Tree'],\n",
    "    'Score': [acc_knn, acc_log2, \n",
    "              acc_ran, acc_svc2, acc_tree]})\n",
    "result_df = results.sort_values(by='Score', ascending=False)\n",
    "result_df = result_df.set_index('Score')\n",
    "result_df.head()"
   ]
  },
  {
   "cell_type": "markdown",
   "metadata": {},
   "source": [
    "## 5f: The most accurate algorithm: Random Forest"
   ]
  },
  {
   "cell_type": "markdown",
   "metadata": {},
   "source": [
    "In first place is the Random Forest classifier, although it is tied in score with the Decision Tree algorithm. As I want to proceed with just a single algorithm in this project, I will select Random Forest model. Before exploring this model further and fine-tunings in it's performance on the dataset, let's understand more about what a Random Forest is, and how it works."
   ]
  },
  {
   "cell_type": "code",
   "execution_count": 74,
   "metadata": {},
   "outputs": [
    {
     "data": {
      "image/png": "[encoded data removed]",
      "text/plain": [
       "<IPython.core.display.Image object>"
      ]
     },
     "execution_count": 74,
     "metadata": {},
     "output_type": "execute_result"
    }
   ],
   "source": [
    "# Inserting k-folds cross validation image\n",
    "Image(filename='/Users/josh24990/Documents/Personal Development/3. Data Science/Python/Random forest algorithm.PNG')"
   ]
  },
  {
   "cell_type": "markdown",
   "metadata": {},
   "source": [
    "Above is an example of a Random Forest containing two 'trees'. Random forests are an ensemble learning method for classification, regression and other tasks, that operate by constructing multiple decision trees at training time and outputting the class that is the mode of the classes (classification) or mean prediction (regression) of the individual trees. Random decision forests correct for decision trees' habit of overfitting to their training set.\n",
    "\n",
    "The training algorithm for random forests applies the general technique of bootstrap aggregating, or bagging, to tree learners. Given a training set X = x1, ..., xn with responses Y = y1, ..., yn, bagging repeatedly (B times) selects a random sample with replacement of the training set and fits trees to these samples:\n",
    "\n",
    " - For b = 1, ..., B:\n",
    " - Sample, with replacement, n training examples from X, Y; call these Xb, Yb.\n",
    " - Train a classification or regression tree fb on Xb, Yb.\n",
    " \n",
    "After training, predictions for unseen samples 'x' can be made by averaging the predictions from all the individual regression trees on 'x', or by taking the majority vote in the case of classification trees.\n",
    "\n",
    "This bootstrapping procedure leads to better model performance because it decreases the variance of the model, without increasing the bias. This means that while the predictions of a single tree are highly sensitive to noise in its training set, the average of many trees is not, as long as the trees are not correlated. Simply training many trees on a single training set would give strongly correlated trees (or even the same tree many times, if the training algorithm is deterministic); bootstrap sampling is a way of de-correlating the trees by showing them different training sets.\n",
    "\n",
    "As this is a classification problem, the Random Forest algorithm will be looking for the class that is the mode of the classes, as described above."
   ]
  },
  {
   "cell_type": "markdown",
   "metadata": {},
   "source": [
    "## 5g: K folds cross validation on Random Forest model"
   ]
  },
  {
   "cell_type": "markdown",
   "metadata": {},
   "source": [
    "To this point, a model performance is dependent on the way the data has been split between training and test data. This isn't representative of the model's ability to generalise, therefore to achieve this we can perform K folds cross validation. This technique works via the following steps: <br>\n",
    "1. Randomly split your entire dataset into k”folds”. <br>\n",
    "2. For each k folds in your dataset, build your model on k – 1 folds of the data set. Then, test the model to check the effectiveness for kth fold. <br>\n",
    "3. Record the error you see on each of the predictions. <br>\n",
    "4. Repeat this until each of the k folds has served as the test set. <br>\n",
    "5. The average of your k recorded errors is called the cross-validation error and will serve as your performance metric for the model."
   ]
  },
  {
   "cell_type": "markdown",
   "metadata": {},
   "source": [
    "The below image is a visual representation of what i've just described:"
   ]
  },
  {
   "cell_type": "code",
   "execution_count": 75,
   "metadata": {},
   "outputs": [
    {
     "data": {
      "image/png": "[encoded data removed]",
      "text/plain": [
       "<IPython.core.display.Image object>"
      ]
     },
     "execution_count": 75,
     "metadata": {},
     "output_type": "execute_result"
    }
   ],
   "source": [
    "# Inserting k-folds cross validation image\n",
    "Image(filename='/Users/josh24990/Documents/Personal Development/3. Data Science/Python/k-folds cross validation.PNG')"
   ]
  },
  {
   "cell_type": "markdown",
   "metadata": {},
   "source": [
    "We will now perform the k-folds cross validation:"
   ]
  },
  {
   "cell_type": "code",
   "execution_count": 76,
   "metadata": {},
   "outputs": [],
   "source": [
    "# Calculating the k fold cross validation\n",
    "Random_Forest = RandomForestClassifier(n_estimators=100)\n",
    "scores = cross_val_score(Random_Forest, X_train, y_train, cv=10, scoring = \"accuracy\")"
   ]
  },
  {
   "cell_type": "code",
   "execution_count": 77,
   "metadata": {},
   "outputs": [
    {
     "name": "stdout",
     "output_type": "stream",
     "text": [
      "Scores: [0.76666667 0.81111111 0.73033708 0.83146067 0.86516854 0.85393258\n",
      " 0.82022472 0.76404494 0.86516854 0.84090909]\n",
      "Mean: 0.8149023947338554\n",
      "Standard Deviation: 0.0443107329783227\n"
     ]
    }
   ],
   "source": [
    "# Printing scores and summary statistics\n",
    "print(\"Scores:\", scores)\n",
    "print(\"Mean:\", scores.mean())\n",
    "print(\"Standard Deviation:\", scores.std())"
   ]
  },
  {
   "cell_type": "markdown",
   "metadata": {},
   "source": [
    "K fold cross validation reveals a mean model accuracy of <b>81%</b>, which could vary either way by around <b>4%</b>, as denoted by the Standard Deviation figure. This provides something to now build upon when next attempting to fine tune the performance of the Random Forest model."
   ]
  },
  {
   "cell_type": "markdown",
   "metadata": {},
   "source": [
    "# Step 6: Assessing feature importance"
   ]
  },
  {
   "cell_type": "markdown",
   "metadata": {},
   "source": [
    "Feature importance within a Random Forest model can be assessed by looking at how much the tree nodes (that use that feature) reduce impurity on average (across all trees in the forest). This score can be computed automatically for each feature after training, and the results are then scaled so that the sum of all importances sums to 1. These importances will be computed with the below code:"
   ]
  },
  {
   "cell_type": "code",
   "execution_count": 78,
   "metadata": {},
   "outputs": [
    {
     "data": {
      "text/html": [
       "<div>\n",
       "<style scoped>\n",
       "    .dataframe tbody tr th:only-of-type {\n",
       "        vertical-align: middle;\n",
       "    }\n",
       "\n",
       "    .dataframe tbody tr th {\n",
       "        vertical-align: top;\n",
       "    }\n",
       "\n",
       "    .dataframe thead th {\n",
       "        text-align: right;\n",
       "    }\n",
       "</style>\n",
       "<table border=\"1\" class=\"dataframe\">\n",
       "  <thead>\n",
       "    <tr style=\"text-align: right;\">\n",
       "      <th></th>\n",
       "      <th>Importance</th>\n",
       "    </tr>\n",
       "    <tr>\n",
       "      <th>Feature</th>\n",
       "      <th></th>\n",
       "    </tr>\n",
       "  </thead>\n",
       "  <tbody>\n",
       "    <tr>\n",
       "      <th>Age</th>\n",
       "      <td>0.250</td>\n",
       "    </tr>\n",
       "    <tr>\n",
       "      <th>Title</th>\n",
       "      <td>0.218</td>\n",
       "    </tr>\n",
       "    <tr>\n",
       "      <th>Fare</th>\n",
       "      <td>0.187</td>\n",
       "    </tr>\n",
       "    <tr>\n",
       "      <th>Sex</th>\n",
       "      <td>0.117</td>\n",
       "    </tr>\n",
       "    <tr>\n",
       "      <th>Pclass</th>\n",
       "      <td>0.074</td>\n",
       "    </tr>\n",
       "    <tr>\n",
       "      <th>Relatives</th>\n",
       "      <td>0.071</td>\n",
       "    </tr>\n",
       "    <tr>\n",
       "      <th>Cabin</th>\n",
       "      <td>0.039</td>\n",
       "    </tr>\n",
       "    <tr>\n",
       "      <th>Embarked</th>\n",
       "      <td>0.033</td>\n",
       "    </tr>\n",
       "    <tr>\n",
       "      <th>Not_alone</th>\n",
       "      <td>0.010</td>\n",
       "    </tr>\n",
       "  </tbody>\n",
       "</table>\n",
       "</div>"
      ],
      "text/plain": [
       "           Importance\n",
       "Feature              \n",
       "Age             0.250\n",
       "Title           0.218\n",
       "Fare            0.187\n",
       "Sex             0.117\n",
       "Pclass          0.074\n",
       "Relatives       0.071\n",
       "Cabin           0.039\n",
       "Embarked        0.033\n",
       "Not_alone       0.010"
      ]
     },
     "execution_count": 78,
     "metadata": {},
     "output_type": "execute_result"
    }
   ],
   "source": [
    "# Building feature importance into a DataFrame\n",
    "Importance = pd.DataFrame({'Feature':X_train.columns,'Importance':np.round(ran.feature_importances_,3)})\n",
    "Importance = Importance.sort_values('Importance',ascending=False).set_index('Feature')\n",
    "\n",
    "#Printing DataFrame\n",
    "Importance.head(9)"
   ]
  },
  {
   "cell_type": "code",
   "execution_count": 79,
   "metadata": {},
   "outputs": [
    {
     "data": {
      "text/plain": [
       "<matplotlib.axes._subplots.AxesSubplot at 0x1a19c9d898>"
      ]
     },
     "execution_count": 79,
     "metadata": {},
     "output_type": "execute_result"
    },
    {
     "data": {
      "image/png": "[encoded data removed]",
      "text/plain": [
       "<matplotlib.figure.Figure at 0x1a19b8e4e0>"
      ]
     },
     "metadata": {},
     "output_type": "display_data"
    }
   ],
   "source": [
    "#Displaying this information graphically\n",
    "Importance.plot.bar()"
   ]
  },
  {
   "cell_type": "markdown",
   "metadata": {},
   "source": [
    "Assessing feature importance reveals that Not_alone, Embarked and Cabin are adding little value to the current model. These will therefore next be dropped from the dataset."
   ]
  },
  {
   "cell_type": "code",
   "execution_count": 80,
   "metadata": {},
   "outputs": [],
   "source": [
    "# Dropping obselete features from the datasets\n",
    "train = train.drop(\"Not_alone\", axis=1)\n",
    "test = test.drop(\"Not_alone\", axis=1)\n",
    "\n",
    "train = train.drop(\"Embarked\", axis=1)\n",
    "test = test.drop(\"Embarked\", axis=1)\n",
    "\n",
    "train = train.drop(\"Cabin\", axis=1)\n",
    "test = test.drop(\"Cabin\", axis=1)"
   ]
  },
  {
   "cell_type": "markdown",
   "metadata": {},
   "source": [
    "With these features removed, let's next re-test the Random Forest's model accuracy. As a general rule of thumb, it is better to remove features that do not contribute to the model's accuracy as otherwise the model could begin to suffer from being overfit."
   ]
  },
  {
   "cell_type": "code",
   "execution_count": 81,
   "metadata": {},
   "outputs": [
    {
     "name": "stdout",
     "output_type": "stream",
     "text": [
      "96.97 %\n"
     ]
    }
   ],
   "source": [
    "# Build the pipeline\n",
    "steps = [('scaler', StandardScaler()), ('ran', RandomForestClassifier(n_estimators=100))]\n",
    "pipeline = Pipeline(steps)\n",
    "\n",
    "# Fit the pipeline to the training data\n",
    "ran_scaled_fit = pipeline.fit(X_train, y_train)\n",
    "\n",
    "# Predict using the test data\n",
    "ran_scaled_predict = pipeline.predict(X_test)\n",
    "\n",
    "# Compute and predict model accuracy\n",
    "acc_ran = round(pipeline.score(X_train, y_train) * 100, 2)\n",
    "print(round(acc_ran,2,), \"%\")"
   ]
  },
  {
   "cell_type": "markdown",
   "metadata": {},
   "source": [
    "The prediction score is the same as before, indicating that these features did add any value to the original model accuracy. Next, we can begin Hyperparameter tuning on the Random Forest parameters to fine tine the model and hopefully improve this accuracy score."
   ]
  },
  {
   "cell_type": "markdown",
   "metadata": {},
   "source": [
    "# Step 7: Hyperparameter Tuning"
   ]
  },
  {
   "cell_type": "markdown",
   "metadata": {},
   "source": [
    "With each machine learning algorithm comes a number of parameters that together can be fine tuned to produce the most accurate prediction on a given dataset. This is essentially what Hyperparamter tuning is - finding the best parameters for your model. There are principically two ways to achieve this, either through a full GridSearchCV or a RandomizedSearchCV. GridSearchCV, which searches over the entire space of parameters specified, can be computationally expensive, especially if you are dealing with multiple hyperparameters. A solution to this is to use RandomizedSearchCV, in which not all hyperparameter values are tried out. Instead, a fixed number of hyperparameter settings are sampled from specified probability distributions. This is what we will use next on our Random Forest model. There are a few steps to achieve this, including creation of a new function to allow for reporting of the best scores outputed by the RandomizedSearchCV. The steps in code are displayed below."
   ]
  },
  {
   "cell_type": "code",
   "execution_count": 82,
   "metadata": {},
   "outputs": [
    {
     "name": "stdout",
     "output_type": "stream",
     "text": [
      "RandomizedSearchCV took 15.00 seconds for 20 candidates parameter settings.\n",
      "Model with rank: 1\n",
      "Mean validation score: 0.833 (std: 0.008)\n",
      "Parameters: {'bootstrap': True, 'criterion': 'entropy', 'max_depth': 3, 'max_features': 7, 'min_samples_leaf': 3, 'min_samples_split': 2}\n",
      "\n",
      "Model with rank: 1\n",
      "Mean validation score: 0.833 (std: 0.008)\n",
      "Parameters: {'bootstrap': False, 'criterion': 'gini', 'max_depth': 3, 'max_features': 4, 'min_samples_leaf': 1, 'min_samples_split': 8}\n",
      "\n",
      "Model with rank: 3\n",
      "Mean validation score: 0.832 (std: 0.007)\n",
      "Parameters: {'bootstrap': True, 'criterion': 'gini', 'max_depth': 3, 'max_features': 4, 'min_samples_leaf': 6, 'min_samples_split': 5}\n",
      "\n",
      "Model with rank: 3\n",
      "Mean validation score: 0.832 (std: 0.007)\n",
      "Parameters: {'bootstrap': True, 'criterion': 'gini', 'max_depth': 3, 'max_features': 7, 'min_samples_leaf': 1, 'min_samples_split': 7}\n",
      "\n"
     ]
    }
   ],
   "source": [
    "# Build a RandomForestClassifier\n",
    "clf = RandomForestClassifier(n_estimators=100)\n",
    "\n",
    "\n",
    "# A new function to allowing reporting of the best scores\n",
    "def report(results, n_top=3):\n",
    "    for i in range(1, n_top + 1):\n",
    "        candidates = np.flatnonzero(results['rank_test_score'] == i)\n",
    "        for candidate in candidates:\n",
    "            print(\"Model with rank: {0}\".format(i))\n",
    "            print(\"Mean validation score: {0:.3f} (std: {1:.3f})\".format(\n",
    "                  results['mean_test_score'][candidate],\n",
    "                  results['std_test_score'][candidate]))\n",
    "            print(\"Parameters: {0}\".format(results['params'][candidate]))\n",
    "            print(\"\")\n",
    "\n",
    "\n",
    "# Specify the parameters and distributions to sample from\n",
    "param_dist = {\"max_depth\": [3, None],\n",
    "              \"max_features\": sp_randint(1, 9),\n",
    "              \"min_samples_split\": sp_randint(2, 11),\n",
    "              \"min_samples_leaf\": sp_randint(1, 11),\n",
    "              \"bootstrap\": [True, False],\n",
    "              \"criterion\": [\"gini\", \"entropy\"]}\n",
    "\n",
    "# Performed the RandomizedSearchCV\n",
    "n_iter_search = 20\n",
    "random_search = RandomizedSearchCV(clf, param_distributions=param_dist,\n",
    "                                   n_iter=n_iter_search)\n",
    "\n",
    "# Print the results with the report function\n",
    "start = time()\n",
    "random_search.fit(X_train, y_train)\n",
    "print(\"RandomizedSearchCV took %.2f seconds for %d candidates\"\n",
    "      \" parameter settings.\" % ((time() - start), n_iter_search))\n",
    "report(random_search.cv_results_)"
   ]
  },
  {
   "cell_type": "markdown",
   "metadata": {},
   "source": [
    "Great, we see an increase in model accuracy from our initial K fold cross validation score. With the parameters tuned, prediction can now be <b>83.3%</b> accurate. Let's re-run the Random Forest, specifying the parameters, to prove this:"
   ]
  },
  {
   "cell_type": "code",
   "execution_count": 83,
   "metadata": {},
   "outputs": [
    {
     "name": "stdout",
     "output_type": "stream",
     "text": [
      "83.28 %\n"
     ]
    }
   ],
   "source": [
    "# Build the pipeline\n",
    "steps = [('scaler', StandardScaler()), ('ran', RandomForestClassifier(n_estimators=100, \n",
    "                                                                      bootstrap=False, \n",
    "                                                                      criterion='entropy', \n",
    "                                                                      max_depth=3, \n",
    "                                                                      max_features=5, \n",
    "                                                                      min_samples_leaf=10, \n",
    "                                                                      min_samples_split=5))]\n",
    "                                                                    \n",
    "pipeline = Pipeline(steps)\n",
    "\n",
    "# Fit the pipeline to the training data\n",
    "ran_scaled_fit = pipeline.fit(X_train, y_train)\n",
    "\n",
    "# Predict using the test data\n",
    "ran_scaled_predict = pipeline.predict(X_test)\n",
    "\n",
    "# Compute and predict model accuracy\n",
    "acc_ran = round(pipeline.score(X_train, y_train) * 100, 2)\n",
    "print(round(acc_ran,2,), \"%\")"
   ]
  },
  {
   "cell_type": "markdown",
   "metadata": {},
   "source": [
    "Now that the optimum parameters are in place, let's run some final evaluative tests on our Random Forest model, before we prepare for submission."
   ]
  },
  {
   "cell_type": "markdown",
   "metadata": {},
   "source": [
    "# Step 8: Further Model Evaluation"
   ]
  },
  {
   "cell_type": "markdown",
   "metadata": {},
   "source": [
    "## 8a: Confusion matrix"
   ]
  },
  {
   "cell_type": "markdown",
   "metadata": {},
   "source": [
    "The confusion matrix provides a method for quantitatively evaluating model performance. Let's see what it can tell us below."
   ]
  },
  {
   "cell_type": "code",
   "execution_count": 84,
   "metadata": {},
   "outputs": [
    {
     "data": {
      "text/plain": [
       "array([[472,  77],\n",
       "       [ 84, 258]])"
      ]
     },
     "execution_count": 84,
     "metadata": {},
     "output_type": "execute_result"
    }
   ],
   "source": [
    "# Computing the confusion matrix\n",
    "predictions = cross_val_predict(ran, X_train, y_train, cv=3)\n",
    "confusion_matrix(y_train, predictions)"
   ]
  },
  {
   "cell_type": "markdown",
   "metadata": {},
   "source": [
    "The array can be interpreted in the following way:\n",
    " - True negatives: 477 passengers correctly identified as not survived\n",
    " - False positives: 77 passengers wrongly identified as not survived\n",
    " - False negatives: 84 passengers wrongly identified as survived\n",
    " - True positives: 258 passengers correctly identified as survived\n",
    "\n",
    "This provides a good initial flavour of the model's ability to correctly identify each classification. In other words, this tells us more about model accuracy. Next we will consider the model's precision and recall."
   ]
  },
  {
   "cell_type": "markdown",
   "metadata": {},
   "source": [
    "## 8b: Precision & recall"
   ]
  },
  {
   "cell_type": "markdown",
   "metadata": {},
   "source": [
    "Different to accuracy, precision aims to inform the proportion of positive identifications that were actually correct. In other words, how many of the 'Survived' classifications were correct. Recall instead checks for how many actual positives were correctly identified. In other words, how many passengers who actually survived were correctly identified. These statistics will be computed below."
   ]
  },
  {
   "cell_type": "code",
   "execution_count": 85,
   "metadata": {},
   "outputs": [
    {
     "name": "stdout",
     "output_type": "stream",
     "text": [
      "Precision: 0.7701492537313432\n",
      "Recall: 0.7543859649122807\n"
     ]
    }
   ],
   "source": [
    "# Computing model precision and recall\n",
    "print(\"Precision:\", precision_score(y_train, predictions))\n",
    "print(\"Recall:\",recall_score(y_train, predictions))"
   ]
  },
  {
   "cell_type": "markdown",
   "metadata": {},
   "source": [
    "Overall, the model correctly predicts that a passenger survived <b>77%</b> of the time, e.g. it is 77% precise. It also correctly recalled <b>75%</b> of those passengers who actually survived the Titanic disaster."
   ]
  },
  {
   "cell_type": "markdown",
   "metadata": {},
   "source": [
    "## 8c: F1 score"
   ]
  },
  {
   "cell_type": "markdown",
   "metadata": {},
   "source": [
    "Calculating the harmonic mean of precision and recall (e.g. the F1 score) can provide another useful accuracy measurement."
   ]
  },
  {
   "cell_type": "code",
   "execution_count": 86,
   "metadata": {},
   "outputs": [
    {
     "data": {
      "text/plain": [
       "0.7621861152141802"
      ]
     },
     "execution_count": 86,
     "metadata": {},
     "output_type": "execute_result"
    }
   ],
   "source": [
    "# Calculating the F1 score\n",
    "f1_score(y_train, predictions)"
   ]
  },
  {
   "cell_type": "markdown",
   "metadata": {},
   "source": [
    "The f1 score measures the model's performance at approximately <b>76%</b>, which is a satisfactory finding."
   ]
  },
  {
   "cell_type": "markdown",
   "metadata": {},
   "source": [
    "## 8d: Precision-Recall curve"
   ]
  },
  {
   "cell_type": "markdown",
   "metadata": {},
   "source": [
    "For each person the Random Forest algorithm has to classify, it computes a probability based on a function and it classifies the person as survived (when the score is bigger than the <b>threshold</b>) or as not survived (when the score is smaller than the <b>threshold</b>). This information can be displayed visually as a 'Presicion-Recall curve' and can support tailoring an algorithm to more exact precision and recall requirements. We will compute this below:"
   ]
  },
  {
   "cell_type": "code",
   "execution_count": 87,
   "metadata": {},
   "outputs": [],
   "source": [
    "# Getting prediction probabilities\n",
    "y_scores = ran.predict_proba(X_train)\n",
    "y_scores = y_scores[:,1]\n",
    "\n",
    "precision, recall, threshold = precision_recall_curve(y_train, y_scores)"
   ]
  },
  {
   "cell_type": "code",
   "execution_count": 88,
   "metadata": {},
   "outputs": [
    {
     "data": {
      "image/png": "[encoded data removed]",
      "text/plain": [
       "<matplotlib.figure.Figure at 0x1a1a1060b8>"
      ]
     },
     "metadata": {},
     "output_type": "display_data"
    }
   ],
   "source": [
    "# Defining a new function to plot the precision-recall curve\n",
    "def plot_precision_and_recall(precision, recall, threshold):\n",
    "    plt.plot(threshold, precision[:-1], \"r-\", label=\"precision\", linewidth=5)\n",
    "    plt.plot(threshold, recall[:-1], \"b\", label=\"recall\", linewidth=5)\n",
    "    plt.xlabel(\"Threshold\", fontsize=19)\n",
    "    plt.legend(loc=\"upper right\", fontsize=19)\n",
    "    plt.ylim([0, 1])\n",
    "\n",
    "plt.figure(figsize=(14, 7))\n",
    "plot_precision_and_recall(precision, recall, threshold)\n",
    "plt.show()"
   ]
  },
  {
   "cell_type": "markdown",
   "metadata": {},
   "source": [
    "This visual allows for a threshold to be chosen that provides the best precision/recall tradeoff for a given  machine learning problem. Here, it is visible that after a threshold of 0.6, recall slopes off quite rapidly. Precision on the other hand hits a plateau from a threshold of around 0.5 onwards. "
   ]
  },
  {
   "cell_type": "markdown",
   "metadata": {},
   "source": [
    "## 8e: ROC curve"
   ]
  },
  {
   "cell_type": "markdown",
   "metadata": {},
   "source": [
    "A further method of visual evaluation is to plot an ROC-AUC curve. Rather than plotting precision vs. recall, this curve plots the true positive rate (e.g recall) against the false positive rate (ratio of incorrectly classified negative instances). The area under the ROC curve is known as the AUC. A larger AUC is indicative of a better model. The following code will compute this:"
   ]
  },
  {
   "cell_type": "code",
   "execution_count": 89,
   "metadata": {},
   "outputs": [],
   "source": [
    "# Compute the true positive and false positive rate\n",
    "false_positive_rate, true_positive_rate, thresholds = roc_curve(y_train, y_scores)"
   ]
  },
  {
   "cell_type": "code",
   "execution_count": 90,
   "metadata": {},
   "outputs": [
    {
     "data": {
      "image/png": "[encoded data removed]",
      "text/plain": [
       "<matplotlib.figure.Figure at 0x1a1a22cd30>"
      ]
     },
     "metadata": {},
     "output_type": "display_data"
    }
   ],
   "source": [
    "# Plotting the true positive and false positive rate\n",
    "def plot_roc_curve(false_positive_rate, true_positive_rate, label=None):\n",
    "    plt.plot(false_positive_rate, true_positive_rate, linewidth=2, label=label)\n",
    "    plt.plot([0, 1], [0, 1], 'r', linewidth=4)\n",
    "    plt.axis([0, 1, 0, 1])\n",
    "    plt.xlabel('False Positive Rate (FPR)', fontsize=16)\n",
    "    plt.ylabel('True Positive Rate (TPR)', fontsize=16)\n",
    "\n",
    "plt.figure(figsize=(14, 7))\n",
    "plot_roc_curve(false_positive_rate, true_positive_rate)\n",
    "plt.show()"
   ]
  },
  {
   "cell_type": "markdown",
   "metadata": {},
   "source": [
    "The red line represents a purely random classifier (e.g a coin flip) and therefore the aim is for our classifier to be as far away from it as possible. For our Random Forest model, this is therefore a strong finding."
   ]
  },
  {
   "cell_type": "markdown",
   "metadata": {},
   "source": [
    "## 8f: ROC-AUC score"
   ]
  },
  {
   "cell_type": "markdown",
   "metadata": {},
   "source": [
    "Lastly, we will compute the size of this AUC space, known as the ROC-AUC score."
   ]
  },
  {
   "cell_type": "code",
   "execution_count": 91,
   "metadata": {},
   "outputs": [
    {
     "name": "stdout",
     "output_type": "stream",
     "text": [
      "ROC-AUC-Score: 0.9918112676956508\n"
     ]
    }
   ],
   "source": [
    "# Computing the ROC-AUC score\n",
    "r_a_score = roc_auc_score(y_train, y_scores)\n",
    "print(\"ROC-AUC-Score:\", r_a_score)"
   ]
  },
  {
   "cell_type": "markdown",
   "metadata": {},
   "source": [
    "Well, I am very happy with that! A classifier which is 100% correct would achieve a score of 1.0, so for our model to score at <b>99.1%</b> is a very promising result, and one that I think is ready for submission to the Kaggle leaderboards."
   ]
  },
  {
   "cell_type": "markdown",
   "metadata": {},
   "source": [
    "# Step 9: Submission"
   ]
  },
  {
   "cell_type": "code",
   "execution_count": 92,
   "metadata": {},
   "outputs": [],
   "source": [
    "# Preparing the dataset for submission\n",
    "submission = pd.DataFrame({\n",
    "        \"PassengerId\": test[\"PassengerId\"],\n",
    "        \"Survived\": ran_scaled_predict})\n",
    "submission.to_csv('submission.csv', index=False)"
   ]
  },
  {
   "cell_type": "markdown",
   "metadata": {},
   "source": [
    "# Step 10: Summary"
   ]
  },
  {
   "cell_type": "markdown",
   "metadata": {},
   "source": [
    "And there we have it! A strong result at the end where from an initial range of unprocessed features we have been able to predict something quite meaningful, fine tuned to achieve 83% accuracy. That is, whether or not passengers would have survived when the Titanic sank in 1912. I have learned a tremendous amount in completing this project and hope to carry many of the new skills I have picked up with me into future projects. That is not to say however that is project could not have been strengthened, indeed, there would be several areas for further development. These include introducing 'Out-of-the-bag' scoring, or a more extensive approach to hyperparameter tuning (more parameters across more models). The data preprocessing stage might have also made more effective use out of the existing features, or perhaps more strongly considered noisy features. An introduction of ensemble learning at model building stage may have also yielded a more accurate final model. "
   ]
  },
  {
   "cell_type": "markdown",
   "metadata": {},
   "source": [
    "Anyway, I hope that you have enjoyed reading and working through this project with me. Please do feel free to share any feedback that you might have on any aspect, whether it be good, bad or ugly! Thank you again for reading. "
   ]
  }
 ],
 "metadata": {
  "kernelspec": {
   "display_name": "Python 3",
   "language": "python",
   "name": "python3"
  },
  "language_info": {
   "codemirror_mode": {
    "name": "ipython",
    "version": 3
   },
   "file_extension": ".py",
   "mimetype": "text/x-python",
   "name": "python",
   "nbconvert_exporter": "python",
   "pygments_lexer": "ipython3",
   "version": "3.6.4"
  }
 },
 "nbformat": 4,
 "nbformat_minor": 2
}
