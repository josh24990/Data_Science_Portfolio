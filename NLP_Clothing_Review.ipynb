{
 "cells": [
  {
   "cell_type": "markdown",
   "metadata": {},
   "source": [
    "# Machine Learning with text data"
   ]
  },
  {
   "cell_type": "markdown",
   "metadata": {},
   "source": [
    "#### Can we predict whether a customer would recommend a purchased item of clothing based on solely their written review?"
   ]
  },
  {
   "cell_type": "markdown",
   "metadata": {},
   "source": [
    "In this, my first project working with text data and applying Natural Language Processing (NLP) techniques, i'll be aiming to uncover the words that can predict whether or not a customer would recommend a purchased item of clothing. Which emotive words are most popular? Which aspect of the product is most important - the fit, colour, texture, price? And morever, what would such information mean for a retailer looking to best align their strategy to market demand? Well I'm not sure about you, but that's enough to spike my interest! We have 23,000 reviews and a binary classification target (recommendation) - let's crack on."
   ]
  },
  {
   "cell_type": "code",
   "execution_count": 271,
   "metadata": {},
   "outputs": [
    {
     "name": "stdout",
     "output_type": "stream",
     "text": [
      "[nltk_data] Downloading package wordnet to\n",
      "[nltk_data]     /Users/josh24990/nltk_data...\n",
      "[nltk_data]   Package wordnet is already up-to-date!\n"
     ]
    }
   ],
   "source": [
    "# First up, I'll import every library that will be used in this project is imported at the start.\n",
    "\n",
    "# Data handling and processing\n",
    "import pandas as pd\n",
    "import numpy as np\n",
    "\n",
    "# Data visualisation\n",
    "import matplotlib.pyplot as plt\n",
    "import seaborn as sns\n",
    "\n",
    "# Statistics\n",
    "from scipy import stats\n",
    "import statsmodels.api as sm\n",
    "from scipy.stats import randint as sp_randint\n",
    "from time import time\n",
    "\n",
    "# NLP\n",
    "import nltk\n",
    "nltk.download('wordnet')\n",
    "import re\n",
    "from textblob import TextBlob\n",
    "from nltk.corpus import stopwords\n",
    "from sklearn.feature_extraction import text\n",
    "from sklearn.feature_extraction.text import CountVectorizer\n",
    "from sklearn.feature_extraction.text import TfidfVectorizer\n",
    "from sklearn.feature_extraction.text import TfidfTransformer\n",
    "\n",
    "# Machine Learning\n",
    "from sklearn.model_selection import train_test_split\n",
    "from sklearn.model_selection import cross_val_score\n",
    "from sklearn.linear_model import LogisticRegression\n",
    "from sklearn.ensemble import RandomForestClassifier\n",
    "from sklearn.naive_bayes import GaussianNB\n",
    "from sklearn.svm import LinearSVC\n",
    "from sklearn.model_selection import cross_val_predict\n",
    "from sklearn.metrics import confusion_matrix\n",
    "from sklearn.metrics import precision_score, recall_score\n",
    "from sklearn.metrics import f1_score\n",
    "from sklearn.metrics import precision_recall_curve\n",
    "from sklearn.metrics import roc_curve\n",
    "from sklearn.metrics import roc_auc_score\n",
    "from sklearn.metrics import classification_report\n",
    "from sklearn.model_selection import RandomizedSearchCV"
   ]
  },
  {
   "cell_type": "markdown",
   "metadata": {},
   "source": [
    "Now let's read in the data, all 23,000 clothing reviews. I'm only interested in three columns within this project, which have been seelcted below."
   ]
  },
  {
   "cell_type": "code",
   "execution_count": 272,
   "metadata": {},
   "outputs": [],
   "source": [
    "# Reading in data\n",
    "data = pd.read_csv('/Users/josh24990/Library/Mobile Documents/com~apple~CloudDocs/Documents/Personal Development/3. Data Science/Python/NLP Project/Womens Clothing E-Commerce Reviews.csv')\n",
    "data = data[['Clothing ID', 'Review Text', 'Recommended IND']]\n",
    "data.columns = ['EmployeeID', 'Review Text', 'Recommend']"
   ]
  },
  {
   "cell_type": "markdown",
   "metadata": {},
   "source": [
    "Upon first inspection, it looks like there are some missing reviews fill in."
   ]
  },
  {
   "cell_type": "code",
   "execution_count": 273,
   "metadata": {},
   "outputs": [
    {
     "name": "stdout",
     "output_type": "stream",
     "text": [
      "<class 'pandas.core.frame.DataFrame'>\n",
      "RangeIndex: 23486 entries, 0 to 23485\n",
      "Data columns (total 3 columns):\n",
      "EmployeeID     23486 non-null int64\n",
      "Review Text    22641 non-null object\n",
      "Recommend      23486 non-null int64\n",
      "dtypes: int64(2), object(1)\n",
      "memory usage: 550.5+ KB\n"
     ]
    }
   ],
   "source": [
    "# Inspecting the variables\n",
    "data.info()"
   ]
  },
  {
   "cell_type": "code",
   "execution_count": 274,
   "metadata": {},
   "outputs": [],
   "source": [
    "# Replacing blank variables with 'unknown' ready for processing\n",
    "data['Review Text'].fillna('unknown', inplace=True)"
   ]
  },
  {
   "cell_type": "markdown",
   "metadata": {},
   "source": [
    "## 1. Text Preprocessing"
   ]
  },
  {
   "cell_type": "markdown",
   "metadata": {},
   "source": [
    "Text is the most unstructured form of all the available data, therefore various types of noise are present in it. This means that the data is not readily analysable without any pre-processing. The entire process of cleaning and standardization of text, making it noise-free and ready for analysis is known as text preprocessing. This usually comprises two key steps:\n",
    "<br>\n",
    "1. Noise Removal\n",
    "2. Lexicon Normalisation"
   ]
  },
  {
   "cell_type": "markdown",
   "metadata": {},
   "source": [
    "### Noise Removal"
   ]
  },
  {
   "cell_type": "markdown",
   "metadata": {},
   "source": [
    "Any piece of text which is not relevant to the context of the data and the end-output can be specified as the noise.\n",
    "\n",
    "For example – language stopwords (commonly used words of a language – is, am, the, of, in etc), URLs or links, punctuations and industry specific words. This step deals with removal of all types of noisy entities present in the text.\n",
    "\n",
    "Following is a python function to strip out noise throughout the reviews:"
   ]
  },
  {
   "cell_type": "code",
   "execution_count": 275,
   "metadata": {},
   "outputs": [],
   "source": [
    "# Importing SKLearn's list of stopwords\n",
    "stop = text.ENGLISH_STOP_WORDS\n",
    "\n",
    "# Basic text cleaning function\n",
    "def remove_noise(text):\n",
    "    \n",
    "    # Make lowercase\n",
    "    text = text.apply(lambda x: \" \".join(x.lower() for x in x.split()))\n",
    "    \n",
    "    # Remove whitespaces\n",
    "    text = text.apply(lambda x: \" \".join(x.strip() for x in x.split()))\n",
    "    \n",
    "    # Remove special characters\n",
    "    text = text.apply(lambda x: \"\".join([\" \" if ord(i) < 32 or ord(i) > 126 else i for i in x]))\n",
    "    \n",
    "    # Remove punctuation\n",
    "    text = text.str.replace('[^\\w\\s]', '')\n",
    "    \n",
    "    # Remove numbers\n",
    "    text = text.str.replace('\\d+', '')\n",
    "    \n",
    "    # Remove Stopwords\n",
    "    text = text.apply(lambda x: ' '.join([word for word in x.split() if word not in (stop)]))\n",
    "    \n",
    "    # Convert to string\n",
    "    text = text.astype(str)\n",
    "        \n",
    "    return text"
   ]
  },
  {
   "cell_type": "code",
   "execution_count": 276,
   "metadata": {},
   "outputs": [
    {
     "data": {
      "text/html": [
       "<div>\n",
       "<style scoped>\n",
       "    .dataframe tbody tr th:only-of-type {\n",
       "        vertical-align: middle;\n",
       "    }\n",
       "\n",
       "    .dataframe tbody tr th {\n",
       "        vertical-align: top;\n",
       "    }\n",
       "\n",
       "    .dataframe thead th {\n",
       "        text-align: right;\n",
       "    }\n",
       "</style>\n",
       "<table border=\"1\" class=\"dataframe\">\n",
       "  <thead>\n",
       "    <tr style=\"text-align: right;\">\n",
       "      <th></th>\n",
       "      <th>EmployeeID</th>\n",
       "      <th>Review Text</th>\n",
       "      <th>Recommend</th>\n",
       "      <th>Filtered Review Text</th>\n",
       "    </tr>\n",
       "  </thead>\n",
       "  <tbody>\n",
       "    <tr>\n",
       "      <th>0</th>\n",
       "      <td>767</td>\n",
       "      <td>Absolutely wonderful - silky and sexy and comf...</td>\n",
       "      <td>1</td>\n",
       "      <td>absolutely wonderful silky sexy comfortable</td>\n",
       "    </tr>\n",
       "    <tr>\n",
       "      <th>1</th>\n",
       "      <td>1080</td>\n",
       "      <td>Love this dress!  it's sooo pretty.  i happene...</td>\n",
       "      <td>1</td>\n",
       "      <td>love dress sooo pretty happened store im glad ...</td>\n",
       "    </tr>\n",
       "    <tr>\n",
       "      <th>2</th>\n",
       "      <td>1077</td>\n",
       "      <td>I had such high hopes for this dress and reall...</td>\n",
       "      <td>0</td>\n",
       "      <td>high hopes dress really wanted work initially ...</td>\n",
       "    </tr>\n",
       "    <tr>\n",
       "      <th>3</th>\n",
       "      <td>1049</td>\n",
       "      <td>I love, love, love this jumpsuit. it's fun, fl...</td>\n",
       "      <td>1</td>\n",
       "      <td>love love love jumpsuit fun flirty fabulous ti...</td>\n",
       "    </tr>\n",
       "    <tr>\n",
       "      <th>4</th>\n",
       "      <td>847</td>\n",
       "      <td>This shirt is very flattering to all due to th...</td>\n",
       "      <td>1</td>\n",
       "      <td>shirt flattering adjustable tie perfect length...</td>\n",
       "    </tr>\n",
       "  </tbody>\n",
       "</table>\n",
       "</div>"
      ],
      "text/plain": [
       "   EmployeeID                                        Review Text  Recommend  \\\n",
       "0         767  Absolutely wonderful - silky and sexy and comf...          1   \n",
       "1        1080  Love this dress!  it's sooo pretty.  i happene...          1   \n",
       "2        1077  I had such high hopes for this dress and reall...          0   \n",
       "3        1049  I love, love, love this jumpsuit. it's fun, fl...          1   \n",
       "4         847  This shirt is very flattering to all due to th...          1   \n",
       "\n",
       "                                Filtered Review Text  \n",
       "0        absolutely wonderful silky sexy comfortable  \n",
       "1  love dress sooo pretty happened store im glad ...  \n",
       "2  high hopes dress really wanted work initially ...  \n",
       "3  love love love jumpsuit fun flirty fabulous ti...  \n",
       "4  shirt flattering adjustable tie perfect length...  "
      ]
     },
     "execution_count": 276,
     "metadata": {},
     "output_type": "execute_result"
    }
   ],
   "source": [
    "# Applying noise removal function to data\n",
    "data['Filtered Review Text'] = remove_noise(data['Review Text'])\n",
    "data.head()"
   ]
  },
  {
   "cell_type": "markdown",
   "metadata": {},
   "source": [
    "Before moving onto lexicon normalisation, I want to gain a sense of the sentiment per review. I don't intend to use this for any machine learning purposes, more-so out of interest to understand later whether reviews lean towards positivity or negativity. This will be looked at again later."
   ]
  },
  {
   "cell_type": "code",
   "execution_count": 277,
   "metadata": {},
   "outputs": [
    {
     "data": {
      "text/html": [
       "<div>\n",
       "<style scoped>\n",
       "    .dataframe tbody tr th:only-of-type {\n",
       "        vertical-align: middle;\n",
       "    }\n",
       "\n",
       "    .dataframe tbody tr th {\n",
       "        vertical-align: top;\n",
       "    }\n",
       "\n",
       "    .dataframe thead th {\n",
       "        text-align: right;\n",
       "    }\n",
       "</style>\n",
       "<table border=\"1\" class=\"dataframe\">\n",
       "  <thead>\n",
       "    <tr style=\"text-align: right;\">\n",
       "      <th></th>\n",
       "      <th>EmployeeID</th>\n",
       "      <th>Review Text</th>\n",
       "      <th>Recommend</th>\n",
       "      <th>Filtered Review Text</th>\n",
       "      <th>Polarity</th>\n",
       "    </tr>\n",
       "  </thead>\n",
       "  <tbody>\n",
       "    <tr>\n",
       "      <th>0</th>\n",
       "      <td>767</td>\n",
       "      <td>Absolutely wonderful - silky and sexy and comf...</td>\n",
       "      <td>1</td>\n",
       "      <td>absolutely wonderful silky sexy comfortable</td>\n",
       "      <td>0.633333</td>\n",
       "    </tr>\n",
       "    <tr>\n",
       "      <th>1</th>\n",
       "      <td>1080</td>\n",
       "      <td>Love this dress!  it's sooo pretty.  i happene...</td>\n",
       "      <td>1</td>\n",
       "      <td>love dress sooo pretty happened store im glad ...</td>\n",
       "      <td>0.318750</td>\n",
       "    </tr>\n",
       "    <tr>\n",
       "      <th>2</th>\n",
       "      <td>1077</td>\n",
       "      <td>I had such high hopes for this dress and reall...</td>\n",
       "      <td>0</td>\n",
       "      <td>high hopes dress really wanted work initially ...</td>\n",
       "      <td>0.037400</td>\n",
       "    </tr>\n",
       "    <tr>\n",
       "      <th>3</th>\n",
       "      <td>1049</td>\n",
       "      <td>I love, love, love this jumpsuit. it's fun, fl...</td>\n",
       "      <td>1</td>\n",
       "      <td>love love love jumpsuit fun flirty fabulous ti...</td>\n",
       "      <td>0.500000</td>\n",
       "    </tr>\n",
       "    <tr>\n",
       "      <th>4</th>\n",
       "      <td>847</td>\n",
       "      <td>This shirt is very flattering to all due to th...</td>\n",
       "      <td>1</td>\n",
       "      <td>shirt flattering adjustable tie perfect length...</td>\n",
       "      <td>0.750000</td>\n",
       "    </tr>\n",
       "    <tr>\n",
       "      <th>5</th>\n",
       "      <td>1080</td>\n",
       "      <td>I love tracy reese dresses, but this one is no...</td>\n",
       "      <td>0</td>\n",
       "      <td>love tracy reese dresses petite just feet tall...</td>\n",
       "      <td>0.116667</td>\n",
       "    </tr>\n",
       "    <tr>\n",
       "      <th>6</th>\n",
       "      <td>858</td>\n",
       "      <td>I aded this in my basket at hte last mintue to...</td>\n",
       "      <td>1</td>\n",
       "      <td>aded basket hte mintue look like person store ...</td>\n",
       "      <td>0.100833</td>\n",
       "    </tr>\n",
       "    <tr>\n",
       "      <th>7</th>\n",
       "      <td>858</td>\n",
       "      <td>I ordered this in carbon for store pick up, an...</td>\n",
       "      <td>1</td>\n",
       "      <td>ordered carbon store pick ton stuff try used p...</td>\n",
       "      <td>0.145513</td>\n",
       "    </tr>\n",
       "    <tr>\n",
       "      <th>8</th>\n",
       "      <td>1077</td>\n",
       "      <td>I love this dress. i usually get an xs but it ...</td>\n",
       "      <td>1</td>\n",
       "      <td>love dress usually xs runs little snug bust or...</td>\n",
       "      <td>-0.046875</td>\n",
       "    </tr>\n",
       "    <tr>\n",
       "      <th>9</th>\n",
       "      <td>1077</td>\n",
       "      <td>I'm 5\"5' and 125 lbs. i ordered the s petite t...</td>\n",
       "      <td>1</td>\n",
       "      <td>im lbs ordered s petite make sure length wasnt...</td>\n",
       "      <td>0.250476</td>\n",
       "    </tr>\n",
       "  </tbody>\n",
       "</table>\n",
       "</div>"
      ],
      "text/plain": [
       "   EmployeeID                                        Review Text  Recommend  \\\n",
       "0         767  Absolutely wonderful - silky and sexy and comf...          1   \n",
       "1        1080  Love this dress!  it's sooo pretty.  i happene...          1   \n",
       "2        1077  I had such high hopes for this dress and reall...          0   \n",
       "3        1049  I love, love, love this jumpsuit. it's fun, fl...          1   \n",
       "4         847  This shirt is very flattering to all due to th...          1   \n",
       "5        1080  I love tracy reese dresses, but this one is no...          0   \n",
       "6         858  I aded this in my basket at hte last mintue to...          1   \n",
       "7         858  I ordered this in carbon for store pick up, an...          1   \n",
       "8        1077  I love this dress. i usually get an xs but it ...          1   \n",
       "9        1077  I'm 5\"5' and 125 lbs. i ordered the s petite t...          1   \n",
       "\n",
       "                                Filtered Review Text  Polarity  \n",
       "0        absolutely wonderful silky sexy comfortable  0.633333  \n",
       "1  love dress sooo pretty happened store im glad ...  0.318750  \n",
       "2  high hopes dress really wanted work initially ...  0.037400  \n",
       "3  love love love jumpsuit fun flirty fabulous ti...  0.500000  \n",
       "4  shirt flattering adjustable tie perfect length...  0.750000  \n",
       "5  love tracy reese dresses petite just feet tall...  0.116667  \n",
       "6  aded basket hte mintue look like person store ...  0.100833  \n",
       "7  ordered carbon store pick ton stuff try used p...  0.145513  \n",
       "8  love dress usually xs runs little snug bust or... -0.046875  \n",
       "9  im lbs ordered s petite make sure length wasnt...  0.250476  "
      ]
     },
     "execution_count": 277,
     "metadata": {},
     "output_type": "execute_result"
    }
   ],
   "source": [
    "# Defining a sentiment analyser function\n",
    "def sentiment_analyser(text):\n",
    "    return text.apply(lambda Text: pd.Series(TextBlob(Text).sentiment.polarity))\n",
    "\n",
    "# Applying function to reviews\n",
    "data['Polarity'] = sentiment_analyser(data['Filtered Review Text'])\n",
    "data.head(10)"
   ]
  },
  {
   "cell_type": "markdown",
   "metadata": {},
   "source": [
    "### Lexicon Normalisation"
   ]
  },
  {
   "cell_type": "markdown",
   "metadata": {},
   "source": [
    "Another type of textual noise is about the multiple representations exhibited by single word.\n",
    "\n",
    "For example – “play”, “player”, “played”, “plays” and “playing” are the different variations of the word – “play”, Though they mean different but contextually all are similar. The step converts all the disparities of a word into their normalized form (also known as lemma). Normalization is a pivotal step for feature engineering with text as it converts the high dimensional features (N different features) to the low dimensional space (1 feature), which is an ideal ask for any ML model.\n",
    "\n",
    "There are two methods of lexicon normalisation; Stemming or Lemmatization. I will opt for Lemmatization, as this will return the root form of each word (rather than just stripping suffixes, which is stemming)."
   ]
  },
  {
   "cell_type": "code",
   "execution_count": 278,
   "metadata": {},
   "outputs": [
    {
     "data": {
      "text/html": [
       "<div>\n",
       "<style scoped>\n",
       "    .dataframe tbody tr th:only-of-type {\n",
       "        vertical-align: middle;\n",
       "    }\n",
       "\n",
       "    .dataframe tbody tr th {\n",
       "        vertical-align: top;\n",
       "    }\n",
       "\n",
       "    .dataframe thead th {\n",
       "        text-align: right;\n",
       "    }\n",
       "</style>\n",
       "<table border=\"1\" class=\"dataframe\">\n",
       "  <thead>\n",
       "    <tr style=\"text-align: right;\">\n",
       "      <th></th>\n",
       "      <th>EmployeeID</th>\n",
       "      <th>Review Text</th>\n",
       "      <th>Recommend</th>\n",
       "      <th>Filtered Review Text</th>\n",
       "      <th>Polarity</th>\n",
       "    </tr>\n",
       "  </thead>\n",
       "  <tbody>\n",
       "    <tr>\n",
       "      <th>0</th>\n",
       "      <td>767</td>\n",
       "      <td>Absolutely wonderful - silky and sexy and comf...</td>\n",
       "      <td>1</td>\n",
       "      <td>[absolutely, wonderful, silky, sexy, comfortable]</td>\n",
       "      <td>0.633333</td>\n",
       "    </tr>\n",
       "    <tr>\n",
       "      <th>1</th>\n",
       "      <td>1080</td>\n",
       "      <td>Love this dress!  it's sooo pretty.  i happene...</td>\n",
       "      <td>1</td>\n",
       "      <td>[love, dress, sooo, pretty, happened, store, i...</td>\n",
       "      <td>0.318750</td>\n",
       "    </tr>\n",
       "    <tr>\n",
       "      <th>2</th>\n",
       "      <td>1077</td>\n",
       "      <td>I had such high hopes for this dress and reall...</td>\n",
       "      <td>0</td>\n",
       "      <td>[high, hope, dress, really, wanted, work, init...</td>\n",
       "      <td>0.037400</td>\n",
       "    </tr>\n",
       "    <tr>\n",
       "      <th>3</th>\n",
       "      <td>1049</td>\n",
       "      <td>I love, love, love this jumpsuit. it's fun, fl...</td>\n",
       "      <td>1</td>\n",
       "      <td>[love, love, love, jumpsuit, fun, flirty, fabu...</td>\n",
       "      <td>0.500000</td>\n",
       "    </tr>\n",
       "    <tr>\n",
       "      <th>4</th>\n",
       "      <td>847</td>\n",
       "      <td>This shirt is very flattering to all due to th...</td>\n",
       "      <td>1</td>\n",
       "      <td>[shirt, flattering, adjustable, tie, perfect, ...</td>\n",
       "      <td>0.750000</td>\n",
       "    </tr>\n",
       "  </tbody>\n",
       "</table>\n",
       "</div>"
      ],
      "text/plain": [
       "   EmployeeID                                        Review Text  Recommend  \\\n",
       "0         767  Absolutely wonderful - silky and sexy and comf...          1   \n",
       "1        1080  Love this dress!  it's sooo pretty.  i happene...          1   \n",
       "2        1077  I had such high hopes for this dress and reall...          0   \n",
       "3        1049  I love, love, love this jumpsuit. it's fun, fl...          1   \n",
       "4         847  This shirt is very flattering to all due to th...          1   \n",
       "\n",
       "                                Filtered Review Text  Polarity  \n",
       "0  [absolutely, wonderful, silky, sexy, comfortable]  0.633333  \n",
       "1  [love, dress, sooo, pretty, happened, store, i...  0.318750  \n",
       "2  [high, hope, dress, really, wanted, work, init...  0.037400  \n",
       "3  [love, love, love, jumpsuit, fun, flirty, fabu...  0.500000  \n",
       "4  [shirt, flattering, adjustable, tie, perfect, ...  0.750000  "
      ]
     },
     "execution_count": 278,
     "metadata": {},
     "output_type": "execute_result"
    }
   ],
   "source": [
    "# Instantiate the Word tokenizer & Word lemmatizer\n",
    "w_tokenizer = nltk.tokenize.WhitespaceTokenizer()\n",
    "lemmatizer = nltk.stem.WordNetLemmatizer()\n",
    "\n",
    "# Define a word lemmatizer function\n",
    "def lemmatize_text(text):\n",
    "    return [lemmatizer.lemmatize(w) for w in w_tokenizer.tokenize(text)]\n",
    "\n",
    "# Apply the word lemmatizer function to data\n",
    "data['Filtered Review Text'] = data['Filtered Review Text'].apply(lemmatize_text)\n",
    "data.head()"
   ]
  },
  {
   "cell_type": "markdown",
   "metadata": {},
   "source": [
    "# 2. Getting a text matrix"
   ]
  },
  {
   "cell_type": "markdown",
   "metadata": {},
   "source": [
    "To analyse a preprocessed data, it needs to be converted into features. Depending upon the usage, text features can be constructed using a variety of techniques – in this kernel I will be converting the data into statistical features.\n",
    "\n",
    "The specific model in question is known as <b>'Term Frequency – Inverse Document Frequency' (TF – IDF)</b>\n",
    "\n",
    "TF-IDF is a weighted model commonly used for information retrieval problems. It aims to convert the text documents into vector models on the basis of occurrence of words in the documents without taking considering the exact ordering. For Example – let say there is a dataset of N text documents, In any document “D”, TF and IDF will be defined as –\n",
    "\n",
    "- <b>Term Frequency (TF)</b> – TF for a term “t” is defined as the count of a term “t” in a document “D”\n",
    "- <b>Inverse Document Frequency (IDF)</b> – IDF for a term is defined as logarithm of ratio of total documents available in the corpus and number of documents containing the term T.\n",
    "- <b>TF . IDF</b> – TF IDF formula gives the relative importance of a term in a corpus (list of documents), given by the following formula below. Following is the code using python’s scikit learn package to convert a text into tf idf vectors:"
   ]
  },
  {
   "cell_type": "markdown",
   "metadata": {},
   "source": [
    "Scikit-learn provides two methods to get to our end result (a tf-idf weight matrix). One is a two-part process of using the CountVectorizer class to count how many times each term shows up in each document, followed by the TfidfTransformer class generating the weight matrix. The other does both steps in a single TfidfVectorizer class. In this Kernel I will proceed with method one; below is step 1:"
   ]
  },
  {
   "cell_type": "code",
   "execution_count": 279,
   "metadata": {},
   "outputs": [
    {
     "data": {
      "text/plain": [
       "CountVectorizer(analyzer='word', binary=False, decode_error='strict',\n",
       "        dtype=<class 'numpy.int64'>, encoding='utf-8', input='content',\n",
       "        lowercase=False, max_df=0.9, max_features=None, min_df=0.005,\n",
       "        ngram_range=(1, 2), preprocessor=None, stop_words=None,\n",
       "        strip_accents=None, token_pattern='(?u)\\\\b\\\\w\\\\w+\\\\b',\n",
       "        tokenizer=<function <lambda> at 0x1c18581620>, vocabulary=None)"
      ]
     },
     "execution_count": 279,
     "metadata": {},
     "output_type": "execute_result"
    }
   ],
   "source": [
    "# Getting a count of words from the documents\n",
    "# Ngram_range is set to 1,2 - meaning either single or two word combination will be extracted\n",
    "cvec = CountVectorizer(min_df=.005, max_df=.9, ngram_range=(1,2), tokenizer=lambda doc: doc, lowercase=False)\n",
    "cvec.fit(data['Filtered Review Text'])"
   ]
  },
  {
   "cell_type": "code",
   "execution_count": 280,
   "metadata": {},
   "outputs": [
    {
     "data": {
      "text/plain": [
       "886"
      ]
     },
     "execution_count": 280,
     "metadata": {},
     "output_type": "execute_result"
    }
   ],
   "source": [
    "# Getting the total n-gram count\n",
    "len(cvec.vocabulary_)"
   ]
  },
  {
   "cell_type": "markdown",
   "metadata": {},
   "source": [
    "I am happy with that number as a starting point, less than 1000 was my initial aim. If I wanted to be more or less restrictive on n-gram selection, I could adjust the 'min_df' and 'max_df' parameters within my CountVectorizer, which controls for the minimum and maximum amount of documents each word should feature in.\n",
    "\n",
    "We can now embrace the next step, which is to turn this document into a <b>'bag of words' representation</b>, which essentially is just a separate column for each term containing the count within each document. After that, we’ll take a look at the <b>sparsity</b> of this representation which lets us know how many <b>nonzero values</b> there are in the dataset. The more sparse the data is the more challenging it will be to model, but that’s a discussion for another day:"
   ]
  },
  {
   "cell_type": "code",
   "execution_count": 281,
   "metadata": {},
   "outputs": [
    {
     "name": "stdout",
     "output_type": "stream",
     "text": [
      "sparse matrix shape: (23486, 886)\n",
      "nonzero count: 473238\n",
      "sparsity: 2.27%\n"
     ]
    }
   ],
   "source": [
    "# Creating the bag-of-words representation\n",
    "cvec_counts = cvec.transform(data['Filtered Review Text'])\n",
    "print('sparse matrix shape:', cvec_counts.shape)\n",
    "print('nonzero count:', cvec_counts.nnz)\n",
    "print('sparsity: %.2f%%' % (100.0 * cvec_counts.nnz / (cvec_counts.shape[0] * cvec_counts.shape[1])))"
   ]
  },
  {
   "cell_type": "markdown",
   "metadata": {},
   "source": [
    "Now that we have term counts for each document, the TfidfTransformer can be applied to calculate the weights for each term in each document:"
   ]
  },
  {
   "cell_type": "code",
   "execution_count": 282,
   "metadata": {},
   "outputs": [
    {
     "data": {
      "text/plain": [
       "<23486x886 sparse matrix of type '<class 'numpy.float64'>'\n",
       "\twith 473238 stored elements in Compressed Sparse Row format>"
      ]
     },
     "execution_count": 282,
     "metadata": {},
     "output_type": "execute_result"
    }
   ],
   "source": [
    "# Instantiating the TfidfTransformer\n",
    "transformer = TfidfTransformer()\n",
    "\n",
    "# Fitting and transforming n-grams\n",
    "transformed_weights = transformer.fit_transform(cvec_counts)\n",
    "transformed_weights"
   ]
  },
  {
   "cell_type": "markdown",
   "metadata": {},
   "source": [
    "Great, we have our weighted words! Just a few more steps required (below); I'm going to extract all of the feature names (which are the n-grams) and put these into a DataFrame along with the corresponding weights per review. Then I am going to add in at the end some summary statistics to understand per review:\n",
    "\n",
    "- The highest weighted word\n",
    "- The weight of this word\n",
    "- The total weighting per review."
   ]
  },
  {
   "cell_type": "code",
   "execution_count": 283,
   "metadata": {},
   "outputs": [
    {
     "data": {
      "text/html": [
       "<div>\n",
       "<style scoped>\n",
       "    .dataframe tbody tr th:only-of-type {\n",
       "        vertical-align: middle;\n",
       "    }\n",
       "\n",
       "    .dataframe tbody tr th {\n",
       "        vertical-align: top;\n",
       "    }\n",
       "\n",
       "    .dataframe thead th {\n",
       "        text-align: right;\n",
       "    }\n",
       "</style>\n",
       "<table border=\"1\" class=\"dataframe\">\n",
       "  <thead>\n",
       "    <tr style=\"text-align: right;\">\n",
       "      <th></th>\n",
       "      <th>able</th>\n",
       "      <th>absolutely</th>\n",
       "      <th>absolutely love</th>\n",
       "      <th>actually</th>\n",
       "      <th>add</th>\n",
       "      <th>added</th>\n",
       "      <th>addition</th>\n",
       "      <th>adorable</th>\n",
       "      <th>adore</th>\n",
       "      <th>ago</th>\n",
       "      <th>...</th>\n",
       "      <th>year</th>\n",
       "      <th>yellow</th>\n",
       "      <th>yes</th>\n",
       "      <th>yesterday</th>\n",
       "      <th>youre</th>\n",
       "      <th>zip</th>\n",
       "      <th>zipper</th>\n",
       "      <th>Keyword</th>\n",
       "      <th>Max</th>\n",
       "      <th>Sum</th>\n",
       "    </tr>\n",
       "  </thead>\n",
       "  <tbody>\n",
       "    <tr>\n",
       "      <th>0</th>\n",
       "      <td>0.0</td>\n",
       "      <td>0.384864</td>\n",
       "      <td>0.0</td>\n",
       "      <td>0.0</td>\n",
       "      <td>0.0</td>\n",
       "      <td>0.0</td>\n",
       "      <td>0.0</td>\n",
       "      <td>0.0</td>\n",
       "      <td>0.0</td>\n",
       "      <td>0.0</td>\n",
       "      <td>...</td>\n",
       "      <td>0.0</td>\n",
       "      <td>0.0</td>\n",
       "      <td>0.0</td>\n",
       "      <td>0.0</td>\n",
       "      <td>0.000000</td>\n",
       "      <td>0.000000</td>\n",
       "      <td>0.000000</td>\n",
       "      <td>silky</td>\n",
       "      <td>0.548067</td>\n",
       "      <td>2.181111</td>\n",
       "    </tr>\n",
       "    <tr>\n",
       "      <th>1</th>\n",
       "      <td>0.0</td>\n",
       "      <td>0.000000</td>\n",
       "      <td>0.0</td>\n",
       "      <td>0.0</td>\n",
       "      <td>0.0</td>\n",
       "      <td>0.0</td>\n",
       "      <td>0.0</td>\n",
       "      <td>0.0</td>\n",
       "      <td>0.0</td>\n",
       "      <td>0.0</td>\n",
       "      <td>...</td>\n",
       "      <td>0.0</td>\n",
       "      <td>0.0</td>\n",
       "      <td>0.0</td>\n",
       "      <td>0.0</td>\n",
       "      <td>0.000000</td>\n",
       "      <td>0.000000</td>\n",
       "      <td>0.000000</td>\n",
       "      <td>bc</td>\n",
       "      <td>0.474526</td>\n",
       "      <td>4.486387</td>\n",
       "    </tr>\n",
       "    <tr>\n",
       "      <th>2</th>\n",
       "      <td>0.0</td>\n",
       "      <td>0.000000</td>\n",
       "      <td>0.0</td>\n",
       "      <td>0.0</td>\n",
       "      <td>0.0</td>\n",
       "      <td>0.0</td>\n",
       "      <td>0.0</td>\n",
       "      <td>0.0</td>\n",
       "      <td>0.0</td>\n",
       "      <td>0.0</td>\n",
       "      <td>...</td>\n",
       "      <td>0.0</td>\n",
       "      <td>0.0</td>\n",
       "      <td>0.0</td>\n",
       "      <td>0.0</td>\n",
       "      <td>0.000000</td>\n",
       "      <td>0.178346</td>\n",
       "      <td>0.156682</td>\n",
       "      <td>layer</td>\n",
       "      <td>0.449929</td>\n",
       "      <td>5.224752</td>\n",
       "    </tr>\n",
       "    <tr>\n",
       "      <th>3</th>\n",
       "      <td>0.0</td>\n",
       "      <td>0.000000</td>\n",
       "      <td>0.0</td>\n",
       "      <td>0.0</td>\n",
       "      <td>0.0</td>\n",
       "      <td>0.0</td>\n",
       "      <td>0.0</td>\n",
       "      <td>0.0</td>\n",
       "      <td>0.0</td>\n",
       "      <td>0.0</td>\n",
       "      <td>...</td>\n",
       "      <td>0.0</td>\n",
       "      <td>0.0</td>\n",
       "      <td>0.0</td>\n",
       "      <td>0.0</td>\n",
       "      <td>0.000000</td>\n",
       "      <td>0.000000</td>\n",
       "      <td>0.000000</td>\n",
       "      <td>love love</td>\n",
       "      <td>0.647011</td>\n",
       "      <td>2.700876</td>\n",
       "    </tr>\n",
       "    <tr>\n",
       "      <th>4</th>\n",
       "      <td>0.0</td>\n",
       "      <td>0.000000</td>\n",
       "      <td>0.0</td>\n",
       "      <td>0.0</td>\n",
       "      <td>0.0</td>\n",
       "      <td>0.0</td>\n",
       "      <td>0.0</td>\n",
       "      <td>0.0</td>\n",
       "      <td>0.0</td>\n",
       "      <td>0.0</td>\n",
       "      <td>...</td>\n",
       "      <td>0.0</td>\n",
       "      <td>0.0</td>\n",
       "      <td>0.0</td>\n",
       "      <td>0.0</td>\n",
       "      <td>0.000000</td>\n",
       "      <td>0.000000</td>\n",
       "      <td>0.000000</td>\n",
       "      <td>shirt</td>\n",
       "      <td>0.443253</td>\n",
       "      <td>3.277495</td>\n",
       "    </tr>\n",
       "    <tr>\n",
       "      <th>5</th>\n",
       "      <td>0.0</td>\n",
       "      <td>0.000000</td>\n",
       "      <td>0.0</td>\n",
       "      <td>0.0</td>\n",
       "      <td>0.0</td>\n",
       "      <td>0.0</td>\n",
       "      <td>0.0</td>\n",
       "      <td>0.0</td>\n",
       "      <td>0.0</td>\n",
       "      <td>0.0</td>\n",
       "      <td>...</td>\n",
       "      <td>0.0</td>\n",
       "      <td>0.0</td>\n",
       "      <td>0.0</td>\n",
       "      <td>0.0</td>\n",
       "      <td>0.000000</td>\n",
       "      <td>0.000000</td>\n",
       "      <td>0.000000</td>\n",
       "      <td>dress</td>\n",
       "      <td>0.385539</td>\n",
       "      <td>4.746780</td>\n",
       "    </tr>\n",
       "    <tr>\n",
       "      <th>6</th>\n",
       "      <td>0.0</td>\n",
       "      <td>0.000000</td>\n",
       "      <td>0.0</td>\n",
       "      <td>0.0</td>\n",
       "      <td>0.0</td>\n",
       "      <td>0.0</td>\n",
       "      <td>0.0</td>\n",
       "      <td>0.0</td>\n",
       "      <td>0.0</td>\n",
       "      <td>0.0</td>\n",
       "      <td>...</td>\n",
       "      <td>0.0</td>\n",
       "      <td>0.0</td>\n",
       "      <td>0.0</td>\n",
       "      <td>0.0</td>\n",
       "      <td>0.000000</td>\n",
       "      <td>0.000000</td>\n",
       "      <td>0.000000</td>\n",
       "      <td>trying</td>\n",
       "      <td>0.514505</td>\n",
       "      <td>4.146775</td>\n",
       "    </tr>\n",
       "    <tr>\n",
       "      <th>7</th>\n",
       "      <td>0.0</td>\n",
       "      <td>0.000000</td>\n",
       "      <td>0.0</td>\n",
       "      <td>0.0</td>\n",
       "      <td>0.0</td>\n",
       "      <td>0.0</td>\n",
       "      <td>0.0</td>\n",
       "      <td>0.0</td>\n",
       "      <td>0.0</td>\n",
       "      <td>0.0</td>\n",
       "      <td>...</td>\n",
       "      <td>0.0</td>\n",
       "      <td>0.0</td>\n",
       "      <td>0.0</td>\n",
       "      <td>0.0</td>\n",
       "      <td>0.000000</td>\n",
       "      <td>0.000000</td>\n",
       "      <td>0.000000</td>\n",
       "      <td>went</td>\n",
       "      <td>0.334038</td>\n",
       "      <td>4.852685</td>\n",
       "    </tr>\n",
       "    <tr>\n",
       "      <th>8</th>\n",
       "      <td>0.0</td>\n",
       "      <td>0.000000</td>\n",
       "      <td>0.0</td>\n",
       "      <td>0.0</td>\n",
       "      <td>0.0</td>\n",
       "      <td>0.0</td>\n",
       "      <td>0.0</td>\n",
       "      <td>0.0</td>\n",
       "      <td>0.0</td>\n",
       "      <td>0.0</td>\n",
       "      <td>...</td>\n",
       "      <td>0.0</td>\n",
       "      <td>0.0</td>\n",
       "      <td>0.0</td>\n",
       "      <td>0.0</td>\n",
       "      <td>0.000000</td>\n",
       "      <td>0.000000</td>\n",
       "      <td>0.000000</td>\n",
       "      <td>run little</td>\n",
       "      <td>0.333698</td>\n",
       "      <td>4.099005</td>\n",
       "    </tr>\n",
       "    <tr>\n",
       "      <th>9</th>\n",
       "      <td>0.0</td>\n",
       "      <td>0.000000</td>\n",
       "      <td>0.0</td>\n",
       "      <td>0.0</td>\n",
       "      <td>0.0</td>\n",
       "      <td>0.0</td>\n",
       "      <td>0.0</td>\n",
       "      <td>0.0</td>\n",
       "      <td>0.0</td>\n",
       "      <td>0.0</td>\n",
       "      <td>...</td>\n",
       "      <td>0.0</td>\n",
       "      <td>0.0</td>\n",
       "      <td>0.0</td>\n",
       "      <td>0.0</td>\n",
       "      <td>0.178684</td>\n",
       "      <td>0.000000</td>\n",
       "      <td>0.000000</td>\n",
       "      <td>s</td>\n",
       "      <td>0.295541</td>\n",
       "      <td>5.907584</td>\n",
       "    </tr>\n",
       "  </tbody>\n",
       "</table>\n",
       "<p>10 rows × 889 columns</p>\n",
       "</div>"
      ],
      "text/plain": [
       "   able  absolutely  absolutely love  actually  add  added  addition  \\\n",
       "0   0.0    0.384864              0.0       0.0  0.0    0.0       0.0   \n",
       "1   0.0    0.000000              0.0       0.0  0.0    0.0       0.0   \n",
       "2   0.0    0.000000              0.0       0.0  0.0    0.0       0.0   \n",
       "3   0.0    0.000000              0.0       0.0  0.0    0.0       0.0   \n",
       "4   0.0    0.000000              0.0       0.0  0.0    0.0       0.0   \n",
       "5   0.0    0.000000              0.0       0.0  0.0    0.0       0.0   \n",
       "6   0.0    0.000000              0.0       0.0  0.0    0.0       0.0   \n",
       "7   0.0    0.000000              0.0       0.0  0.0    0.0       0.0   \n",
       "8   0.0    0.000000              0.0       0.0  0.0    0.0       0.0   \n",
       "9   0.0    0.000000              0.0       0.0  0.0    0.0       0.0   \n",
       "\n",
       "   adorable  adore  ago    ...     year  yellow  yes  yesterday     youre  \\\n",
       "0       0.0    0.0  0.0    ...      0.0     0.0  0.0        0.0  0.000000   \n",
       "1       0.0    0.0  0.0    ...      0.0     0.0  0.0        0.0  0.000000   \n",
       "2       0.0    0.0  0.0    ...      0.0     0.0  0.0        0.0  0.000000   \n",
       "3       0.0    0.0  0.0    ...      0.0     0.0  0.0        0.0  0.000000   \n",
       "4       0.0    0.0  0.0    ...      0.0     0.0  0.0        0.0  0.000000   \n",
       "5       0.0    0.0  0.0    ...      0.0     0.0  0.0        0.0  0.000000   \n",
       "6       0.0    0.0  0.0    ...      0.0     0.0  0.0        0.0  0.000000   \n",
       "7       0.0    0.0  0.0    ...      0.0     0.0  0.0        0.0  0.000000   \n",
       "8       0.0    0.0  0.0    ...      0.0     0.0  0.0        0.0  0.000000   \n",
       "9       0.0    0.0  0.0    ...      0.0     0.0  0.0        0.0  0.178684   \n",
       "\n",
       "        zip    zipper     Keyword       Max       Sum  \n",
       "0  0.000000  0.000000       silky  0.548067  2.181111  \n",
       "1  0.000000  0.000000          bc  0.474526  4.486387  \n",
       "2  0.178346  0.156682       layer  0.449929  5.224752  \n",
       "3  0.000000  0.000000   love love  0.647011  2.700876  \n",
       "4  0.000000  0.000000       shirt  0.443253  3.277495  \n",
       "5  0.000000  0.000000       dress  0.385539  4.746780  \n",
       "6  0.000000  0.000000      trying  0.514505  4.146775  \n",
       "7  0.000000  0.000000        went  0.334038  4.852685  \n",
       "8  0.000000  0.000000  run little  0.333698  4.099005  \n",
       "9  0.000000  0.000000           s  0.295541  5.907584  \n",
       "\n",
       "[10 rows x 889 columns]"
      ]
     },
     "execution_count": 283,
     "metadata": {},
     "output_type": "execute_result"
    }
   ],
   "source": [
    "# Getting a list of all n-grams\n",
    "transformed_weights = transformed_weights.toarray()\n",
    "vocab = cvec.get_feature_names()\n",
    "\n",
    "# Putting weighted n-grams into a DataFrame and computing some summary statistics\n",
    "model = pd.DataFrame(transformed_weights, columns=vocab)\n",
    "model['Keyword'] = model.idxmax(axis=1)\n",
    "model['Max'] = model.max(axis=1)\n",
    "model['Sum'] = model.drop('Max', axis=1).sum(axis=1)\n",
    "model.head(10)"
   ]
  },
  {
   "cell_type": "markdown",
   "metadata": {},
   "source": [
    "# 3. Data Exploration"
   ]
  },
  {
   "cell_type": "markdown",
   "metadata": {},
   "source": [
    "Now that we have a td-idf weight matrix, this can be fed directly into a predictive model. Before we do this, let's explore the current data a little more:"
   ]
  },
  {
   "cell_type": "markdown",
   "metadata": {},
   "source": [
    "### Merging datasets"
   ]
  },
  {
   "cell_type": "code",
   "execution_count": 284,
   "metadata": {},
   "outputs": [],
   "source": [
    "# Merging td-idf weight matrix with original DataFrame\n",
    "model = pd.merge(data, model, left_index=True, right_index=True)"
   ]
  },
  {
   "cell_type": "code",
   "execution_count": 285,
   "metadata": {},
   "outputs": [
    {
     "data": {
      "text/html": [
       "<div>\n",
       "<style scoped>\n",
       "    .dataframe tbody tr th:only-of-type {\n",
       "        vertical-align: middle;\n",
       "    }\n",
       "\n",
       "    .dataframe tbody tr th {\n",
       "        vertical-align: top;\n",
       "    }\n",
       "\n",
       "    .dataframe thead th {\n",
       "        text-align: right;\n",
       "    }\n",
       "</style>\n",
       "<table border=\"1\" class=\"dataframe\">\n",
       "  <thead>\n",
       "    <tr style=\"text-align: right;\">\n",
       "      <th></th>\n",
       "      <th>EmployeeID</th>\n",
       "      <th>Review Text</th>\n",
       "      <th>Recommend</th>\n",
       "      <th>Filtered Review Text</th>\n",
       "      <th>Polarity</th>\n",
       "      <th>able</th>\n",
       "      <th>absolutely</th>\n",
       "      <th>absolutely love</th>\n",
       "      <th>actually</th>\n",
       "      <th>add</th>\n",
       "      <th>...</th>\n",
       "      <th>year</th>\n",
       "      <th>yellow</th>\n",
       "      <th>yes</th>\n",
       "      <th>yesterday</th>\n",
       "      <th>youre</th>\n",
       "      <th>zip</th>\n",
       "      <th>zipper</th>\n",
       "      <th>Keyword</th>\n",
       "      <th>Max</th>\n",
       "      <th>Sum</th>\n",
       "    </tr>\n",
       "  </thead>\n",
       "  <tbody>\n",
       "    <tr>\n",
       "      <th>0</th>\n",
       "      <td>767</td>\n",
       "      <td>Absolutely wonderful - silky and sexy and comf...</td>\n",
       "      <td>1</td>\n",
       "      <td>[absolutely, wonderful, silky, sexy, comfortable]</td>\n",
       "      <td>0.633333</td>\n",
       "      <td>0.0</td>\n",
       "      <td>0.384864</td>\n",
       "      <td>0.0</td>\n",
       "      <td>0.0</td>\n",
       "      <td>0.0</td>\n",
       "      <td>...</td>\n",
       "      <td>0.0</td>\n",
       "      <td>0.0</td>\n",
       "      <td>0.0</td>\n",
       "      <td>0.0</td>\n",
       "      <td>0.000000</td>\n",
       "      <td>0.000000</td>\n",
       "      <td>0.000000</td>\n",
       "      <td>silky</td>\n",
       "      <td>0.548067</td>\n",
       "      <td>2.181111</td>\n",
       "    </tr>\n",
       "    <tr>\n",
       "      <th>1</th>\n",
       "      <td>1080</td>\n",
       "      <td>Love this dress!  it's sooo pretty.  i happene...</td>\n",
       "      <td>1</td>\n",
       "      <td>[love, dress, sooo, pretty, happened, store, i...</td>\n",
       "      <td>0.318750</td>\n",
       "      <td>0.0</td>\n",
       "      <td>0.000000</td>\n",
       "      <td>0.0</td>\n",
       "      <td>0.0</td>\n",
       "      <td>0.0</td>\n",
       "      <td>...</td>\n",
       "      <td>0.0</td>\n",
       "      <td>0.0</td>\n",
       "      <td>0.0</td>\n",
       "      <td>0.0</td>\n",
       "      <td>0.000000</td>\n",
       "      <td>0.000000</td>\n",
       "      <td>0.000000</td>\n",
       "      <td>bc</td>\n",
       "      <td>0.474526</td>\n",
       "      <td>4.486387</td>\n",
       "    </tr>\n",
       "    <tr>\n",
       "      <th>2</th>\n",
       "      <td>1077</td>\n",
       "      <td>I had such high hopes for this dress and reall...</td>\n",
       "      <td>0</td>\n",
       "      <td>[high, hope, dress, really, wanted, work, init...</td>\n",
       "      <td>0.037400</td>\n",
       "      <td>0.0</td>\n",
       "      <td>0.000000</td>\n",
       "      <td>0.0</td>\n",
       "      <td>0.0</td>\n",
       "      <td>0.0</td>\n",
       "      <td>...</td>\n",
       "      <td>0.0</td>\n",
       "      <td>0.0</td>\n",
       "      <td>0.0</td>\n",
       "      <td>0.0</td>\n",
       "      <td>0.000000</td>\n",
       "      <td>0.178346</td>\n",
       "      <td>0.156682</td>\n",
       "      <td>layer</td>\n",
       "      <td>0.449929</td>\n",
       "      <td>5.224752</td>\n",
       "    </tr>\n",
       "    <tr>\n",
       "      <th>3</th>\n",
       "      <td>1049</td>\n",
       "      <td>I love, love, love this jumpsuit. it's fun, fl...</td>\n",
       "      <td>1</td>\n",
       "      <td>[love, love, love, jumpsuit, fun, flirty, fabu...</td>\n",
       "      <td>0.500000</td>\n",
       "      <td>0.0</td>\n",
       "      <td>0.000000</td>\n",
       "      <td>0.0</td>\n",
       "      <td>0.0</td>\n",
       "      <td>0.0</td>\n",
       "      <td>...</td>\n",
       "      <td>0.0</td>\n",
       "      <td>0.0</td>\n",
       "      <td>0.0</td>\n",
       "      <td>0.0</td>\n",
       "      <td>0.000000</td>\n",
       "      <td>0.000000</td>\n",
       "      <td>0.000000</td>\n",
       "      <td>love love</td>\n",
       "      <td>0.647011</td>\n",
       "      <td>2.700876</td>\n",
       "    </tr>\n",
       "    <tr>\n",
       "      <th>4</th>\n",
       "      <td>847</td>\n",
       "      <td>This shirt is very flattering to all due to th...</td>\n",
       "      <td>1</td>\n",
       "      <td>[shirt, flattering, adjustable, tie, perfect, ...</td>\n",
       "      <td>0.750000</td>\n",
       "      <td>0.0</td>\n",
       "      <td>0.000000</td>\n",
       "      <td>0.0</td>\n",
       "      <td>0.0</td>\n",
       "      <td>0.0</td>\n",
       "      <td>...</td>\n",
       "      <td>0.0</td>\n",
       "      <td>0.0</td>\n",
       "      <td>0.0</td>\n",
       "      <td>0.0</td>\n",
       "      <td>0.000000</td>\n",
       "      <td>0.000000</td>\n",
       "      <td>0.000000</td>\n",
       "      <td>shirt</td>\n",
       "      <td>0.443253</td>\n",
       "      <td>3.277495</td>\n",
       "    </tr>\n",
       "    <tr>\n",
       "      <th>5</th>\n",
       "      <td>1080</td>\n",
       "      <td>I love tracy reese dresses, but this one is no...</td>\n",
       "      <td>0</td>\n",
       "      <td>[love, tracy, reese, dress, petite, just, foot...</td>\n",
       "      <td>0.116667</td>\n",
       "      <td>0.0</td>\n",
       "      <td>0.000000</td>\n",
       "      <td>0.0</td>\n",
       "      <td>0.0</td>\n",
       "      <td>0.0</td>\n",
       "      <td>...</td>\n",
       "      <td>0.0</td>\n",
       "      <td>0.0</td>\n",
       "      <td>0.0</td>\n",
       "      <td>0.0</td>\n",
       "      <td>0.000000</td>\n",
       "      <td>0.000000</td>\n",
       "      <td>0.000000</td>\n",
       "      <td>dress</td>\n",
       "      <td>0.385539</td>\n",
       "      <td>4.746780</td>\n",
       "    </tr>\n",
       "    <tr>\n",
       "      <th>6</th>\n",
       "      <td>858</td>\n",
       "      <td>I aded this in my basket at hte last mintue to...</td>\n",
       "      <td>1</td>\n",
       "      <td>[aded, basket, hte, mintue, look, like, person...</td>\n",
       "      <td>0.100833</td>\n",
       "      <td>0.0</td>\n",
       "      <td>0.000000</td>\n",
       "      <td>0.0</td>\n",
       "      <td>0.0</td>\n",
       "      <td>0.0</td>\n",
       "      <td>...</td>\n",
       "      <td>0.0</td>\n",
       "      <td>0.0</td>\n",
       "      <td>0.0</td>\n",
       "      <td>0.0</td>\n",
       "      <td>0.000000</td>\n",
       "      <td>0.000000</td>\n",
       "      <td>0.000000</td>\n",
       "      <td>trying</td>\n",
       "      <td>0.514505</td>\n",
       "      <td>4.146775</td>\n",
       "    </tr>\n",
       "    <tr>\n",
       "      <th>7</th>\n",
       "      <td>858</td>\n",
       "      <td>I ordered this in carbon for store pick up, an...</td>\n",
       "      <td>1</td>\n",
       "      <td>[ordered, carbon, store, pick, ton, stuff, try...</td>\n",
       "      <td>0.145513</td>\n",
       "      <td>0.0</td>\n",
       "      <td>0.000000</td>\n",
       "      <td>0.0</td>\n",
       "      <td>0.0</td>\n",
       "      <td>0.0</td>\n",
       "      <td>...</td>\n",
       "      <td>0.0</td>\n",
       "      <td>0.0</td>\n",
       "      <td>0.0</td>\n",
       "      <td>0.0</td>\n",
       "      <td>0.000000</td>\n",
       "      <td>0.000000</td>\n",
       "      <td>0.000000</td>\n",
       "      <td>went</td>\n",
       "      <td>0.334038</td>\n",
       "      <td>4.852685</td>\n",
       "    </tr>\n",
       "    <tr>\n",
       "      <th>8</th>\n",
       "      <td>1077</td>\n",
       "      <td>I love this dress. i usually get an xs but it ...</td>\n",
       "      <td>1</td>\n",
       "      <td>[love, dress, usually, x, run, little, snug, b...</td>\n",
       "      <td>-0.046875</td>\n",
       "      <td>0.0</td>\n",
       "      <td>0.000000</td>\n",
       "      <td>0.0</td>\n",
       "      <td>0.0</td>\n",
       "      <td>0.0</td>\n",
       "      <td>...</td>\n",
       "      <td>0.0</td>\n",
       "      <td>0.0</td>\n",
       "      <td>0.0</td>\n",
       "      <td>0.0</td>\n",
       "      <td>0.000000</td>\n",
       "      <td>0.000000</td>\n",
       "      <td>0.000000</td>\n",
       "      <td>run little</td>\n",
       "      <td>0.333698</td>\n",
       "      <td>4.099005</td>\n",
       "    </tr>\n",
       "    <tr>\n",
       "      <th>9</th>\n",
       "      <td>1077</td>\n",
       "      <td>I'm 5\"5' and 125 lbs. i ordered the s petite t...</td>\n",
       "      <td>1</td>\n",
       "      <td>[im, lb, ordered, s, petite, make, sure, lengt...</td>\n",
       "      <td>0.250476</td>\n",
       "      <td>0.0</td>\n",
       "      <td>0.000000</td>\n",
       "      <td>0.0</td>\n",
       "      <td>0.0</td>\n",
       "      <td>0.0</td>\n",
       "      <td>...</td>\n",
       "      <td>0.0</td>\n",
       "      <td>0.0</td>\n",
       "      <td>0.0</td>\n",
       "      <td>0.0</td>\n",
       "      <td>0.178684</td>\n",
       "      <td>0.000000</td>\n",
       "      <td>0.000000</td>\n",
       "      <td>s</td>\n",
       "      <td>0.295541</td>\n",
       "      <td>5.907584</td>\n",
       "    </tr>\n",
       "  </tbody>\n",
       "</table>\n",
       "<p>10 rows × 894 columns</p>\n",
       "</div>"
      ],
      "text/plain": [
       "   EmployeeID                                        Review Text  Recommend  \\\n",
       "0         767  Absolutely wonderful - silky and sexy and comf...          1   \n",
       "1        1080  Love this dress!  it's sooo pretty.  i happene...          1   \n",
       "2        1077  I had such high hopes for this dress and reall...          0   \n",
       "3        1049  I love, love, love this jumpsuit. it's fun, fl...          1   \n",
       "4         847  This shirt is very flattering to all due to th...          1   \n",
       "5        1080  I love tracy reese dresses, but this one is no...          0   \n",
       "6         858  I aded this in my basket at hte last mintue to...          1   \n",
       "7         858  I ordered this in carbon for store pick up, an...          1   \n",
       "8        1077  I love this dress. i usually get an xs but it ...          1   \n",
       "9        1077  I'm 5\"5' and 125 lbs. i ordered the s petite t...          1   \n",
       "\n",
       "                                Filtered Review Text  Polarity  able  \\\n",
       "0  [absolutely, wonderful, silky, sexy, comfortable]  0.633333   0.0   \n",
       "1  [love, dress, sooo, pretty, happened, store, i...  0.318750   0.0   \n",
       "2  [high, hope, dress, really, wanted, work, init...  0.037400   0.0   \n",
       "3  [love, love, love, jumpsuit, fun, flirty, fabu...  0.500000   0.0   \n",
       "4  [shirt, flattering, adjustable, tie, perfect, ...  0.750000   0.0   \n",
       "5  [love, tracy, reese, dress, petite, just, foot...  0.116667   0.0   \n",
       "6  [aded, basket, hte, mintue, look, like, person...  0.100833   0.0   \n",
       "7  [ordered, carbon, store, pick, ton, stuff, try...  0.145513   0.0   \n",
       "8  [love, dress, usually, x, run, little, snug, b... -0.046875   0.0   \n",
       "9  [im, lb, ordered, s, petite, make, sure, lengt...  0.250476   0.0   \n",
       "\n",
       "   absolutely  absolutely love  actually  add    ...     year  yellow  yes  \\\n",
       "0    0.384864              0.0       0.0  0.0    ...      0.0     0.0  0.0   \n",
       "1    0.000000              0.0       0.0  0.0    ...      0.0     0.0  0.0   \n",
       "2    0.000000              0.0       0.0  0.0    ...      0.0     0.0  0.0   \n",
       "3    0.000000              0.0       0.0  0.0    ...      0.0     0.0  0.0   \n",
       "4    0.000000              0.0       0.0  0.0    ...      0.0     0.0  0.0   \n",
       "5    0.000000              0.0       0.0  0.0    ...      0.0     0.0  0.0   \n",
       "6    0.000000              0.0       0.0  0.0    ...      0.0     0.0  0.0   \n",
       "7    0.000000              0.0       0.0  0.0    ...      0.0     0.0  0.0   \n",
       "8    0.000000              0.0       0.0  0.0    ...      0.0     0.0  0.0   \n",
       "9    0.000000              0.0       0.0  0.0    ...      0.0     0.0  0.0   \n",
       "\n",
       "   yesterday     youre       zip    zipper     Keyword       Max       Sum  \n",
       "0        0.0  0.000000  0.000000  0.000000       silky  0.548067  2.181111  \n",
       "1        0.0  0.000000  0.000000  0.000000          bc  0.474526  4.486387  \n",
       "2        0.0  0.000000  0.178346  0.156682       layer  0.449929  5.224752  \n",
       "3        0.0  0.000000  0.000000  0.000000   love love  0.647011  2.700876  \n",
       "4        0.0  0.000000  0.000000  0.000000       shirt  0.443253  3.277495  \n",
       "5        0.0  0.000000  0.000000  0.000000       dress  0.385539  4.746780  \n",
       "6        0.0  0.000000  0.000000  0.000000      trying  0.514505  4.146775  \n",
       "7        0.0  0.000000  0.000000  0.000000        went  0.334038  4.852685  \n",
       "8        0.0  0.000000  0.000000  0.000000  run little  0.333698  4.099005  \n",
       "9        0.0  0.178684  0.000000  0.000000           s  0.295541  5.907584  \n",
       "\n",
       "[10 rows x 894 columns]"
      ]
     },
     "execution_count": 285,
     "metadata": {},
     "output_type": "execute_result"
    }
   ],
   "source": [
    "# Printing the first 10 reviews left\n",
    "model.head(10)"
   ]
  },
  {
   "cell_type": "markdown",
   "metadata": {},
   "source": [
    "### Checking out the most salient words"
   ]
  },
  {
   "cell_type": "markdown",
   "metadata": {},
   "source": [
    "Let's see which words are most frequent throughout the matrix:"
   ]
  },
  {
   "cell_type": "code",
   "execution_count": 286,
   "metadata": {},
   "outputs": [
    {
     "data": {
      "text/html": [
       "<div>\n",
       "<style scoped>\n",
       "    .dataframe tbody tr th:only-of-type {\n",
       "        vertical-align: middle;\n",
       "    }\n",
       "\n",
       "    .dataframe tbody tr th {\n",
       "        vertical-align: top;\n",
       "    }\n",
       "\n",
       "    .dataframe thead th {\n",
       "        text-align: right;\n",
       "    }\n",
       "</style>\n",
       "<table border=\"1\" class=\"dataframe\">\n",
       "  <thead>\n",
       "    <tr style=\"text-align: right;\">\n",
       "      <th></th>\n",
       "      <th>Occurrences</th>\n",
       "      <th>Term</th>\n",
       "    </tr>\n",
       "  </thead>\n",
       "  <tbody>\n",
       "    <tr>\n",
       "      <th>176</th>\n",
       "      <td>11320</td>\n",
       "      <td>dress</td>\n",
       "    </tr>\n",
       "    <tr>\n",
       "      <th>237</th>\n",
       "      <td>10096</td>\n",
       "      <td>fit</td>\n",
       "    </tr>\n",
       "    <tr>\n",
       "      <th>668</th>\n",
       "      <td>9355</td>\n",
       "      <td>size</td>\n",
       "    </tr>\n",
       "    <tr>\n",
       "      <th>443</th>\n",
       "      <td>8968</td>\n",
       "      <td>love</td>\n",
       "    </tr>\n",
       "    <tr>\n",
       "      <th>406</th>\n",
       "      <td>7018</td>\n",
       "      <td>like</td>\n",
       "    </tr>\n",
       "    <tr>\n",
       "      <th>110</th>\n",
       "      <td>6903</td>\n",
       "      <td>color</td>\n",
       "    </tr>\n",
       "    <tr>\n",
       "      <th>430</th>\n",
       "      <td>6873</td>\n",
       "      <td>look</td>\n",
       "    </tr>\n",
       "    <tr>\n",
       "      <th>837</th>\n",
       "      <td>6512</td>\n",
       "      <td>wear</td>\n",
       "    </tr>\n",
       "    <tr>\n",
       "      <th>291</th>\n",
       "      <td>6076</td>\n",
       "      <td>great</td>\n",
       "    </tr>\n",
       "    <tr>\n",
       "      <th>343</th>\n",
       "      <td>5988</td>\n",
       "      <td>im</td>\n",
       "    </tr>\n",
       "    <tr>\n",
       "      <th>368</th>\n",
       "      <td>5572</td>\n",
       "      <td>just</td>\n",
       "    </tr>\n",
       "    <tr>\n",
       "      <th>214</th>\n",
       "      <td>4844</td>\n",
       "      <td>fabric</td>\n",
       "    </tr>\n",
       "    <tr>\n",
       "      <th>693</th>\n",
       "      <td>4574</td>\n",
       "      <td>small</td>\n",
       "    </tr>\n",
       "    <tr>\n",
       "      <th>588</th>\n",
       "      <td>3922</td>\n",
       "      <td>really</td>\n",
       "    </tr>\n",
       "    <tr>\n",
       "      <th>514</th>\n",
       "      <td>3831</td>\n",
       "      <td>ordered</td>\n",
       "    </tr>\n",
       "    <tr>\n",
       "      <th>418</th>\n",
       "      <td>3771</td>\n",
       "      <td>little</td>\n",
       "    </tr>\n",
       "    <tr>\n",
       "      <th>536</th>\n",
       "      <td>3732</td>\n",
       "      <td>perfect</td>\n",
       "    </tr>\n",
       "    <tr>\n",
       "      <th>254</th>\n",
       "      <td>3484</td>\n",
       "      <td>flattering</td>\n",
       "    </tr>\n",
       "    <tr>\n",
       "      <th>700</th>\n",
       "      <td>3309</td>\n",
       "      <td>soft</td>\n",
       "    </tr>\n",
       "    <tr>\n",
       "      <th>118</th>\n",
       "      <td>3031</td>\n",
       "      <td>comfortable</td>\n",
       "    </tr>\n",
       "    <tr>\n",
       "      <th>139</th>\n",
       "      <td>3018</td>\n",
       "      <td>cute</td>\n",
       "    </tr>\n",
       "    <tr>\n",
       "      <th>492</th>\n",
       "      <td>3009</td>\n",
       "      <td>nice</td>\n",
       "    </tr>\n",
       "    <tr>\n",
       "      <th>66</th>\n",
       "      <td>2981</td>\n",
       "      <td>bought</td>\n",
       "    </tr>\n",
       "    <tr>\n",
       "      <th>41</th>\n",
       "      <td>2936</td>\n",
       "      <td>beautiful</td>\n",
       "    </tr>\n",
       "    <tr>\n",
       "      <th>53</th>\n",
       "      <td>2874</td>\n",
       "      <td>bit</td>\n",
       "    </tr>\n",
       "  </tbody>\n",
       "</table>\n",
       "</div>"
      ],
      "text/plain": [
       "     Occurrences         Term\n",
       "176        11320        dress\n",
       "237        10096          fit\n",
       "668         9355         size\n",
       "443         8968         love\n",
       "406         7018         like\n",
       "110         6903        color\n",
       "430         6873         look\n",
       "837         6512         wear\n",
       "291         6076        great\n",
       "343         5988           im\n",
       "368         5572         just\n",
       "214         4844       fabric\n",
       "693         4574        small\n",
       "588         3922       really\n",
       "514         3831      ordered\n",
       "418         3771       little\n",
       "536         3732      perfect\n",
       "254         3484   flattering\n",
       "700         3309         soft\n",
       "118         3031  comfortable\n",
       "139         3018         cute\n",
       "492         3009         nice\n",
       "66          2981       bought\n",
       "41          2936    beautiful\n",
       "53          2874          bit"
      ]
     },
     "execution_count": 286,
     "metadata": {},
     "output_type": "execute_result"
    }
   ],
   "source": [
    "# Getting a view of the top 20 occurring words\n",
    "occ = np.asarray(cvec_counts.sum(axis=0)).ravel().tolist()\n",
    "counts_df = pd.DataFrame({'Term': cvec.get_feature_names(), 'Occurrences': occ})\n",
    "counts_df.sort_values(by='Occurrences', ascending=False).head(25)"
   ]
  },
  {
   "cell_type": "markdown",
   "metadata": {},
   "source": [
    "It looks as though there is a definite positive lean throughout these most popular words, such as 'love', 'perfect' and 'flattering'. Now, let's see if the 20 highest weighted words throws up a similar list:"
   ]
  },
  {
   "cell_type": "code",
   "execution_count": 287,
   "metadata": {},
   "outputs": [
    {
     "data": {
      "text/html": [
       "<div>\n",
       "<style scoped>\n",
       "    .dataframe tbody tr th:only-of-type {\n",
       "        vertical-align: middle;\n",
       "    }\n",
       "\n",
       "    .dataframe tbody tr th {\n",
       "        vertical-align: top;\n",
       "    }\n",
       "\n",
       "    .dataframe thead th {\n",
       "        text-align: right;\n",
       "    }\n",
       "</style>\n",
       "<table border=\"1\" class=\"dataframe\">\n",
       "  <thead>\n",
       "    <tr style=\"text-align: right;\">\n",
       "      <th></th>\n",
       "      <th>Term</th>\n",
       "      <th>Weight</th>\n",
       "    </tr>\n",
       "  </thead>\n",
       "  <tbody>\n",
       "    <tr>\n",
       "      <th>176</th>\n",
       "      <td>dress</td>\n",
       "      <td>0.051224</td>\n",
       "    </tr>\n",
       "    <tr>\n",
       "      <th>443</th>\n",
       "      <td>love</td>\n",
       "      <td>0.041398</td>\n",
       "    </tr>\n",
       "    <tr>\n",
       "      <th>237</th>\n",
       "      <td>fit</td>\n",
       "      <td>0.040412</td>\n",
       "    </tr>\n",
       "    <tr>\n",
       "      <th>668</th>\n",
       "      <td>size</td>\n",
       "      <td>0.038802</td>\n",
       "    </tr>\n",
       "    <tr>\n",
       "      <th>804</th>\n",
       "      <td>unknown</td>\n",
       "      <td>0.035979</td>\n",
       "    </tr>\n",
       "    <tr>\n",
       "      <th>291</th>\n",
       "      <td>great</td>\n",
       "      <td>0.033325</td>\n",
       "    </tr>\n",
       "    <tr>\n",
       "      <th>110</th>\n",
       "      <td>color</td>\n",
       "      <td>0.033161</td>\n",
       "    </tr>\n",
       "    <tr>\n",
       "      <th>430</th>\n",
       "      <td>look</td>\n",
       "      <td>0.032320</td>\n",
       "    </tr>\n",
       "    <tr>\n",
       "      <th>406</th>\n",
       "      <td>like</td>\n",
       "      <td>0.031847</td>\n",
       "    </tr>\n",
       "    <tr>\n",
       "      <th>837</th>\n",
       "      <td>wear</td>\n",
       "      <td>0.030934</td>\n",
       "    </tr>\n",
       "    <tr>\n",
       "      <th>343</th>\n",
       "      <td>im</td>\n",
       "      <td>0.028164</td>\n",
       "    </tr>\n",
       "    <tr>\n",
       "      <th>368</th>\n",
       "      <td>just</td>\n",
       "      <td>0.027485</td>\n",
       "    </tr>\n",
       "    <tr>\n",
       "      <th>214</th>\n",
       "      <td>fabric</td>\n",
       "      <td>0.025972</td>\n",
       "    </tr>\n",
       "    <tr>\n",
       "      <th>693</th>\n",
       "      <td>small</td>\n",
       "      <td>0.024307</td>\n",
       "    </tr>\n",
       "    <tr>\n",
       "      <th>536</th>\n",
       "      <td>perfect</td>\n",
       "      <td>0.022597</td>\n",
       "    </tr>\n",
       "    <tr>\n",
       "      <th>588</th>\n",
       "      <td>really</td>\n",
       "      <td>0.022086</td>\n",
       "    </tr>\n",
       "    <tr>\n",
       "      <th>418</th>\n",
       "      <td>little</td>\n",
       "      <td>0.021746</td>\n",
       "    </tr>\n",
       "    <tr>\n",
       "      <th>254</th>\n",
       "      <td>flattering</td>\n",
       "      <td>0.021685</td>\n",
       "    </tr>\n",
       "    <tr>\n",
       "      <th>118</th>\n",
       "      <td>comfortable</td>\n",
       "      <td>0.021129</td>\n",
       "    </tr>\n",
       "    <tr>\n",
       "      <th>700</th>\n",
       "      <td>soft</td>\n",
       "      <td>0.020945</td>\n",
       "    </tr>\n",
       "    <tr>\n",
       "      <th>139</th>\n",
       "      <td>cute</td>\n",
       "      <td>0.020924</td>\n",
       "    </tr>\n",
       "    <tr>\n",
       "      <th>514</th>\n",
       "      <td>ordered</td>\n",
       "      <td>0.020792</td>\n",
       "    </tr>\n",
       "    <tr>\n",
       "      <th>653</th>\n",
       "      <td>shirt</td>\n",
       "      <td>0.019902</td>\n",
       "    </tr>\n",
       "    <tr>\n",
       "      <th>41</th>\n",
       "      <td>beautiful</td>\n",
       "      <td>0.019634</td>\n",
       "    </tr>\n",
       "    <tr>\n",
       "      <th>492</th>\n",
       "      <td>nice</td>\n",
       "      <td>0.019157</td>\n",
       "    </tr>\n",
       "  </tbody>\n",
       "</table>\n",
       "</div>"
      ],
      "text/plain": [
       "            Term    Weight\n",
       "176        dress  0.051224\n",
       "443         love  0.041398\n",
       "237          fit  0.040412\n",
       "668         size  0.038802\n",
       "804      unknown  0.035979\n",
       "291        great  0.033325\n",
       "110        color  0.033161\n",
       "430         look  0.032320\n",
       "406         like  0.031847\n",
       "837         wear  0.030934\n",
       "343           im  0.028164\n",
       "368         just  0.027485\n",
       "214       fabric  0.025972\n",
       "693        small  0.024307\n",
       "536      perfect  0.022597\n",
       "588       really  0.022086\n",
       "418       little  0.021746\n",
       "254   flattering  0.021685\n",
       "118  comfortable  0.021129\n",
       "700         soft  0.020945\n",
       "139         cute  0.020924\n",
       "514      ordered  0.020792\n",
       "653        shirt  0.019902\n",
       "41     beautiful  0.019634\n",
       "492         nice  0.019157"
      ]
     },
     "execution_count": 287,
     "metadata": {},
     "output_type": "execute_result"
    }
   ],
   "source": [
    "# Getting a view of the top 20 weights\n",
    "weights = np.asarray(transformed_weights.mean(axis=0)).ravel().tolist()\n",
    "weights_df = pd.DataFrame({'Term': cvec.get_feature_names(), 'Weight': weights})\n",
    "weights_df.sort_values(by='Weight', ascending=False).head(25)"
   ]
  },
  {
   "cell_type": "markdown",
   "metadata": {},
   "source": [
    "Largely similar, albeit a slight difference in ranking. The reviews are looking good for this retailer currently! Let's find out a little more about this by inspecting the chosen target variable."
   ]
  },
  {
   "cell_type": "markdown",
   "metadata": {},
   "source": [
    "### Quick peak at the target variable"
   ]
  },
  {
   "cell_type": "markdown",
   "metadata": {},
   "source": [
    "A binary variable 'Recommended' will be the focus of upcoming Machine Learning prediction. Let's see how the categories stack up:"
   ]
  },
  {
   "cell_type": "code",
   "execution_count": 288,
   "metadata": {},
   "outputs": [
    {
     "name": "stdout",
     "output_type": "stream",
     "text": [
      "1    19314\n",
      "0     4172\n",
      "Name: Recommend, dtype: int64\n"
     ]
    },
    {
     "data": {
      "image/png": "[encoded data removed]",
      "text/plain": [
       "<matplotlib.figure.Figure at 0x1c2986ceb8>"
      ]
     },
     "metadata": {},
     "output_type": "display_data"
    }
   ],
   "source": [
    "# Plotting overall recommendations and getting value counts\n",
    "fig = plt.figure(figsize = (10,5))\n",
    "sns.countplot(x='Recommend', data = model)\n",
    "\n",
    "print(data['Recommend'].value_counts())"
   ]
  },
  {
   "cell_type": "markdown",
   "metadata": {},
   "source": [
    "There are nearly four times as many recommendations than there are non-recommendations. We'll need to keep a note of this as this could throw up a few issues when training algorithms - i'll touch on this in a little while."
   ]
  },
  {
   "cell_type": "markdown",
   "metadata": {},
   "source": [
    "You will recall that I pulled a Polarity statistic during Step 1; let's see how this shapes up per target outcome:"
   ]
  },
  {
   "cell_type": "code",
   "execution_count": 289,
   "metadata": {},
   "outputs": [
    {
     "data": {
      "text/plain": [
       "Recommend\n",
       "0    0.133673\n",
       "1    0.266691\n",
       "Name: Polarity, dtype: float64"
      ]
     },
     "execution_count": 289,
     "metadata": {},
     "output_type": "execute_result"
    },
    {
     "data": {
      "image/png": "[encoded data removed]",
      "text/plain": [
       "<matplotlib.figure.Figure at 0x1c2986cf98>"
      ]
     },
     "metadata": {},
     "output_type": "display_data"
    }
   ],
   "source": [
    "# Visualising polarity between recommending and non-recommending customers, then getting value counts\n",
    "g = sns.FacetGrid(model, col=\"Recommend\", col_order=[1, 0])\n",
    "g = g.map(plt.hist, \"Polarity\", bins=20, color=\"g\")\n",
    "\n",
    "recommend = model.groupby(['Recommend'])\n",
    "recommend['Polarity'].mean()"
   ]
  },
  {
   "cell_type": "markdown",
   "metadata": {},
   "source": [
    "Comparing the above two graphs, it appears as though Polarity can recognise that reviews left by customers who recommended their product gave more positive reviews, compared to those who did not recommend. This bodes well for using our text matrix to predict recommendations."
   ]
  },
  {
   "cell_type": "markdown",
   "metadata": {},
   "source": [
    "With the weighted text matrix already created, there is no pressing need for any further preprocessing/engineering on these features. Therefore I dive straight into Machine Learning."
   ]
  },
  {
   "cell_type": "markdown",
   "metadata": {},
   "source": [
    "## 4. Machine Learning"
   ]
  },
  {
   "cell_type": "markdown",
   "metadata": {},
   "source": [
    "While a lot of the statistics that I created earlier on such as Polarity and Keyword are interesting, I want to focus model predictions purely on the weighted text matrix. So, anything that doesn't feature as part of this will now be removed from the DataFrame."
   ]
  },
  {
   "cell_type": "markdown",
   "metadata": {},
   "source": [
    "### Set-up"
   ]
  },
  {
   "cell_type": "code",
   "execution_count": 290,
   "metadata": {},
   "outputs": [
    {
     "data": {
      "text/plain": [
       "Index(['EmployeeID', 'Review Text', 'Recommend', 'Filtered Review Text',\n",
       "       'Polarity', 'able', 'absolutely', 'absolutely love', 'actually', 'add',\n",
       "       ...\n",
       "       'year', 'yellow', 'yes', 'yesterday', 'youre', 'zip', 'zipper',\n",
       "       'Keyword', 'Max', 'Sum'],\n",
       "      dtype='object', length=894)"
      ]
     },
     "execution_count": 290,
     "metadata": {},
     "output_type": "execute_result"
    }
   ],
   "source": [
    "# Get a list of columns for deletion\n",
    "model.columns"
   ]
  },
  {
   "cell_type": "code",
   "execution_count": 291,
   "metadata": {},
   "outputs": [],
   "source": [
    "# Drop all columns not part of the text matrix\n",
    "ml_model = model.drop(['EmployeeID', 'Review Text', 'Filtered Review Text', 'Polarity', 'Keyword', 'Max', 'Sum'], axis=1)\n",
    "\n",
    "# Create X & y variables for Machine Learning\n",
    "X = ml_model.drop('Recommend', axis=1)\n",
    "y = ml_model['Recommend']\n",
    "\n",
    "# Create a train-test split of these variables\n",
    "X_train, X_test, y_train, y_test = train_test_split(X, y, test_size = 0.3, random_state=42)"
   ]
  },
  {
   "cell_type": "markdown",
   "metadata": {},
   "source": [
    "To help with Machine Learning I will define a function that will return the most prized statistics in one go. After instantiating a model, this function will return an mean accuracy score following 5 folds of cross validation - this is to ensure that we are getting a smoothed out representation of both the training and test sets. Next this function will provide us with the Confusion Matrix; how many correct vs incorrect classifications have actually taken place within the given model? Last up, this function will churn out for us a Classification Report which details other important metrics such as Precision, Recall, the F1 score (which is just the harmonic mean of the former two), and support (which is the classification count). \n",
    "\n",
    "Combined, these metrics will provide rich insight into individual model performance and will guide better selection towards the best performing model, and how best to optimise it."
   ]
  },
  {
   "cell_type": "code",
   "execution_count": 292,
   "metadata": {},
   "outputs": [],
   "source": [
    "# Defining a function to fit and predict ML algorithms\n",
    "def model(mod, model_name, x_train, y_train, x_test, y_test):\n",
    "    mod.fit(x_train, y_train)\n",
    "    print(model_name)\n",
    "    acc = cross_val_score(mod, X_train, y_train, scoring = \"accuracy\", cv = 5)\n",
    "    predictions = cross_val_predict(mod, X_train, y_train, cv = 5)\n",
    "    print(\"Accuracy:\", round(acc.mean(),3))\n",
    "    cm = confusion_matrix(predictions, y_train)\n",
    "    print(\"Confusion Matrix:  \\n\", cm)\n",
    "    print(\"                    Classification Report \\n\",classification_report(predictions, y_train))"
   ]
  },
  {
   "cell_type": "markdown",
   "metadata": {},
   "source": [
    "Function defined - now let's get training! I'm only going to focus on four algorithms in this kernel, starting off with:"
   ]
  },
  {
   "cell_type": "markdown",
   "metadata": {},
   "source": [
    "### Algorithms round 1"
   ]
  },
  {
   "cell_type": "code",
   "execution_count": 293,
   "metadata": {},
   "outputs": [
    {
     "name": "stdout",
     "output_type": "stream",
     "text": [
      "Gaussian Naive Bayes\n",
      "Accuracy: 0.725\n",
      "Confusion Matrix:  \n",
      " [[2445 4044]\n",
      " [ 469 9482]]\n",
      "                    Classification Report \n",
      "              precision    recall  f1-score   support\n",
      "\n",
      "          0       0.84      0.38      0.52      6489\n",
      "          1       0.70      0.95      0.81      9951\n",
      "\n",
      "avg / total       0.76      0.73      0.69     16440\n",
      "\n"
     ]
    }
   ],
   "source": [
    "# 1. Gaussian Naive Bayes\n",
    "gnb = GaussianNB()\n",
    "model(gnb, \"Gaussian Naive Bayes\", X_train, y_train, X_test, y_test)"
   ]
  },
  {
   "cell_type": "code",
   "execution_count": 294,
   "metadata": {},
   "outputs": [
    {
     "name": "stdout",
     "output_type": "stream",
     "text": [
      "Random Forest Classifier\n",
      "Accuracy: 0.867\n",
      "Confusion Matrix:  \n",
      " [[ 1108   431]\n",
      " [ 1806 13095]]\n",
      "                    Classification Report \n",
      "              precision    recall  f1-score   support\n",
      "\n",
      "          0       0.38      0.72      0.50      1539\n",
      "          1       0.97      0.88      0.92     14901\n",
      "\n",
      "avg / total       0.91      0.86      0.88     16440\n",
      "\n"
     ]
    }
   ],
   "source": [
    "# 2. Random Forest Classifier\n",
    "ran = RandomForestClassifier(n_estimators=50)\n",
    "model(ran, \"Random Forest Classifier\", X_train, y_train, X_test, y_test)"
   ]
  },
  {
   "cell_type": "code",
   "execution_count": 295,
   "metadata": {},
   "outputs": [
    {
     "name": "stdout",
     "output_type": "stream",
     "text": [
      "Logistic Regression\n",
      "Accuracy: 0.884\n",
      "Confusion Matrix:  \n",
      " [[ 1431   416]\n",
      " [ 1483 13110]]\n",
      "                    Classification Report \n",
      "              precision    recall  f1-score   support\n",
      "\n",
      "          0       0.49      0.77      0.60      1847\n",
      "          1       0.97      0.90      0.93     14593\n",
      "\n",
      "avg / total       0.92      0.88      0.90     16440\n",
      "\n"
     ]
    }
   ],
   "source": [
    "# 3. Logistic Regression\n",
    "log = LogisticRegression()\n",
    "model(log, \"Logistic Regression\", X_train, y_train, X_test, y_test)"
   ]
  },
  {
   "cell_type": "code",
   "execution_count": 296,
   "metadata": {},
   "outputs": [
    {
     "name": "stdout",
     "output_type": "stream",
     "text": [
      "Linear SVC\n",
      "Accuracy: 0.885\n",
      "Confusion Matrix:  \n",
      " [[ 1642   611]\n",
      " [ 1272 12915]]\n",
      "                    Classification Report \n",
      "              precision    recall  f1-score   support\n",
      "\n",
      "          0       0.56      0.73      0.64      2253\n",
      "          1       0.95      0.91      0.93     14187\n",
      "\n",
      "avg / total       0.90      0.89      0.89     16440\n",
      "\n"
     ]
    }
   ],
   "source": [
    "# 4. Linear SVC\n",
    "svc = LinearSVC()\n",
    "model(svc, \"Linear SVC\", X_train, y_train, X_test, y_test)"
   ]
  },
  {
   "cell_type": "markdown",
   "metadata": {},
   "source": [
    "Four models down, and we're up to 88% Accuracy with the Linear SVC. However, there seems to be an issue with Class 0 (would not recommend) across all trained models; looking at the LinearSVC both Precision & Recall are low, contributing towards a mediocre 0.60 F1 score. \n",
    "\n",
    "My sense is this is due to class imbalance. As depicted earlier, there are around five times fewer 0 classifications compared to 1 classifications, which can sometimes be problematic within Machine Learning, whereby modelling generally tends to work better when there is an almost equal numbers of samples from each class in the target variable. With this dataset, we're way off that. \n",
    "\n",
    "To overcome this problem, we can either DownSample the majority Class or UpSample the minority class. In this notebook I will use an Oversampling technique from the handy SMOTE library. Let's apply this technique and then re-run all four models to re-assess precision & recall performance."
   ]
  },
  {
   "cell_type": "markdown",
   "metadata": {},
   "source": [
    "### Algorithms round 2"
   ]
  },
  {
   "cell_type": "code",
   "execution_count": 297,
   "metadata": {},
   "outputs": [],
   "source": [
    "# Import the hopeful solution to our problems\n",
    "from imblearn.over_sampling import SMOTE\n",
    "smote=SMOTE()"
   ]
  },
  {
   "cell_type": "code",
   "execution_count": 298,
   "metadata": {},
   "outputs": [],
   "source": [
    "# Setting up new variables for ML\n",
    "X_sm, y_sm = smote.fit_sample(X,y)\n",
    "\n",
    "X_train_sm, X_test_sm, y_train_sm, y_test_sm = train_test_split(X_sm, y_sm, test_size=0.3, random_state=100)"
   ]
  },
  {
   "cell_type": "code",
   "execution_count": 299,
   "metadata": {},
   "outputs": [],
   "source": [
    "# Defining a new function with revised inputs for the new SMOTE variables\n",
    "def model_sm(mod, model_name, x_train_sm, y_train_sm, x_test_sm, y_test_sm):\n",
    "    mod.fit(x_train_sm, y_train_sm)\n",
    "    print(model_name)\n",
    "    acc = cross_val_score(mod, X_train_sm, y_train_sm, scoring = \"accuracy\", cv = 5)\n",
    "    predictions = cross_val_predict(mod, X_train_sm, y_train_sm, cv = 5)\n",
    "    print(\"Accuracy:\", round(acc.mean(),3))\n",
    "    cm = confusion_matrix(predictions, y_train_sm)\n",
    "    print(\"Confusion Matrix:  \\n\", cm)\n",
    "    print(\"                    Classification Report \\n\",classification_report(predictions, y_train_sm))"
   ]
  },
  {
   "cell_type": "code",
   "execution_count": 300,
   "metadata": {},
   "outputs": [
    {
     "name": "stdout",
     "output_type": "stream",
     "text": [
      "Gaussian Naive Bayes\n",
      "Accuracy: 0.838\n",
      "Confusion Matrix:  \n",
      " [[11738  2580]\n",
      " [ 1811 10910]]\n",
      "                    Classification Report \n",
      "              precision    recall  f1-score   support\n",
      "\n",
      "          0       0.87      0.82      0.84     14318\n",
      "          1       0.81      0.86      0.83     12721\n",
      "\n",
      "avg / total       0.84      0.84      0.84     27039\n",
      "\n"
     ]
    }
   ],
   "source": [
    "# 1. Gaussian Naive Bayes\n",
    "gnb = GaussianNB()\n",
    "model_sm(gnb, \"Gaussian Naive Bayes\", X_train_sm, y_train_sm, X_test_sm, y_test_sm)"
   ]
  },
  {
   "cell_type": "code",
   "execution_count": 301,
   "metadata": {},
   "outputs": [
    {
     "name": "stdout",
     "output_type": "stream",
     "text": [
      "Random Forest Classifier\n",
      "Accuracy: 0.911\n",
      "Confusion Matrix:  \n",
      " [[12414  1194]\n",
      " [ 1135 12296]]\n",
      "                    Classification Report \n",
      "              precision    recall  f1-score   support\n",
      "\n",
      "          0       0.92      0.91      0.91     13608\n",
      "          1       0.91      0.92      0.91     13431\n",
      "\n",
      "avg / total       0.91      0.91      0.91     27039\n",
      "\n"
     ]
    }
   ],
   "source": [
    "# 2. Random Forest Classifier\n",
    "ran = RandomForestClassifier(n_estimators=50)\n",
    "model_sm(ran, \"Random Forest Classifier\", X_train_sm, y_train_sm, X_test_sm, y_test_sm)"
   ]
  },
  {
   "cell_type": "code",
   "execution_count": 302,
   "metadata": {},
   "outputs": [
    {
     "name": "stdout",
     "output_type": "stream",
     "text": [
      "Logistic Regression\n",
      "Accuracy: 0.881\n",
      "Confusion Matrix:  \n",
      " [[12036  1697]\n",
      " [ 1513 11793]]\n",
      "                    Classification Report \n",
      "              precision    recall  f1-score   support\n",
      "\n",
      "          0       0.89      0.88      0.88     13733\n",
      "          1       0.87      0.89      0.88     13306\n",
      "\n",
      "avg / total       0.88      0.88      0.88     27039\n",
      "\n"
     ]
    }
   ],
   "source": [
    "# 3. Logistic Regression\n",
    "log = LogisticRegression()\n",
    "model_sm(log, \"Logistic Regression\", X_train_sm, y_train_sm, X_test_sm, y_test_sm)"
   ]
  },
  {
   "cell_type": "code",
   "execution_count": 303,
   "metadata": {},
   "outputs": [
    {
     "name": "stdout",
     "output_type": "stream",
     "text": [
      "Linear SVC\n",
      "Accuracy: 0.882\n",
      "Confusion Matrix:  \n",
      " [[12040  1686]\n",
      " [ 1509 11804]]\n",
      "                    Classification Report \n",
      "              precision    recall  f1-score   support\n",
      "\n",
      "          0       0.89      0.88      0.88     13726\n",
      "          1       0.88      0.89      0.88     13313\n",
      "\n",
      "avg / total       0.88      0.88      0.88     27039\n",
      "\n"
     ]
    }
   ],
   "source": [
    "# 4. Linear SVC\n",
    "svc = LinearSVC()\n",
    "model_sm(svc, \"Linear SVC\", X_train_sm, y_train_sm, X_test_sm, y_test_sm)"
   ]
  },
  {
   "cell_type": "markdown",
   "metadata": {},
   "source": [
    "We're in business; a drastic improvement on Precision & Recall across all algorithms, even complemented with improved overall acccuracy on a couple as well. It's great to see the Naive Bayes Classifier now up at 85%, as this algorithm is typically well suited to crunching text data. However now exceeding the 90% bracket is the Random Forest Classifier, also boasting great Precision & Recall values too."
   ]
  },
  {
   "cell_type": "markdown",
   "metadata": {},
   "source": [
    "## 5. Best Model: Random Forest Classifier"
   ]
  },
  {
   "cell_type": "markdown",
   "metadata": {},
   "source": [
    "Given that the Random Forest now heads the pack in terms of accuracy, let's proceed with some further exploration and perhaps a spot of optimisation too. I'll begin with visualising the top predictive features from the Random Forest Classifier:"
   ]
  },
  {
   "cell_type": "markdown",
   "metadata": {},
   "source": [
    "### Assessing feature importance"
   ]
  },
  {
   "cell_type": "code",
   "execution_count": 304,
   "metadata": {},
   "outputs": [],
   "source": [
    "# Creating a plot for feature importance\n",
    "def importance_plotting(data,x,y,palette,title):\n",
    "    sns.set(style=\"whitegrid\")\n",
    "    ft = sns.PairGrid(data,y_vars=y,x_vars=x,size=5,aspect=1)\n",
    "    ft.map(sns.stripplot,orient='h',palette=palette, edgecolor=\"black\",size=15)\n",
    "    for ax, title in zip(ft.axes.flat, titles):\n",
    "        \n",
    "    # Set a different title for each axes\n",
    "        ax.set(title=title)\n",
    "        \n",
    "    # Make the grid horizontal instead of vertical\n",
    "        ax.xaxis.grid(False)\n",
    "        ax.yaxis.grid(True)\n",
    "\n",
    "    plt.show()"
   ]
  },
  {
   "cell_type": "code",
   "execution_count": 312,
   "metadata": {},
   "outputs": [
    {
     "data": {
      "image/png": "[encoded data removed]",
      "text/plain": [
       "<matplotlib.figure.Figure at 0x1c3c7b7b38>"
      ]
     },
     "metadata": {},
     "output_type": "display_data"
    }
   ],
   "source": [
    "# Compile arrays of columns (words) and feature importances\n",
    "fi = {'Words':ml_model.drop('Recommend',axis=1).columns.tolist(),'Importance':ran.feature_importances_}\n",
    "\n",
    "# Bung these into a dataframe, rank highest to lowest then slice top 20\n",
    "Importance = pd.DataFrame(fi,index=None).sort_values('Importance',ascending=False).head(25)\n",
    "\n",
    "# Plot the graph!\n",
    "titles = [\"Top 25 most important words in predicting product recommendation\"]\n",
    "importance_plotting(Importance,'Importance','Words','Greens_r',titles)"
   ]
  },
  {
   "cell_type": "markdown",
   "metadata": {},
   "source": [
    "Taking the win by a clear margin as the strongest predictor of product recommendation is the word 'love'. This shouldn't come as too much of a surprise given that 'love' is a highly emotive word that conveys a larger feeling of positivity, as opposed to 'like' or 'nice', for example. Not just positive words but also negative ones such as 'disappointed' and 'unfortunately' have been useful in the prediction. \n",
    "\n",
    "Of particular interest to a retailer <i>might</i> be words such as:\n",
    "- Soft / Comfortable: Revealing the importance of texture, and how the clothes actually feel\n",
    "- Fit / Size: Both similar in nature and high ranking, the product needs to fit well.\n",
    "- Cheap: This word features in the top list, but quite far down the list! How important is price when reviewing a product at this retailer?"
   ]
  },
  {
   "cell_type": "markdown",
   "metadata": {},
   "source": [
    "### Precision-Recall Curve"
   ]
  },
  {
   "cell_type": "markdown",
   "metadata": {},
   "source": [
    "For each person the Random Forest algorithm classifies, it computes a probability based on a function and it classifies the review as 'Recommended' (when the score is bigger than the <b>threshold</b>) or as 'Not Recommended' (when the score is smaller than the <b>threshold</b>). This information can be displayed visually as a 'Presicion-Recall curve', which has usefulness in allowing us to tailor n algorithm to more exact precision and recall requirements. The below code will generate this for us:"
   ]
  },
  {
   "cell_type": "code",
   "execution_count": 306,
   "metadata": {},
   "outputs": [],
   "source": [
    "# Getting prediction probabilities\n",
    "y_scores = ran.predict_proba(X_train_sm)\n",
    "y_scores = y_scores[:,1]\n",
    "\n",
    "precision, recall, threshold = precision_recall_curve(y_train_sm, y_scores)"
   ]
  },
  {
   "cell_type": "code",
   "execution_count": 307,
   "metadata": {},
   "outputs": [
    {
     "data": {
      "image/png": "[encoded data removed]",
      "text/plain": [
       "<matplotlib.figure.Figure at 0x1c3ada39e8>"
      ]
     },
     "metadata": {},
     "output_type": "display_data"
    }
   ],
   "source": [
    "# Defining a new function to plot the precision-recall curve\n",
    "def plot_precision_and_recall(precision, recall, threshold):\n",
    "    plt.plot(threshold, precision[:-1], \"r-\", label=\"precision\", linewidth=5)\n",
    "    plt.plot(threshold, recall[:-1], \"b\", label=\"recall\", linewidth=5)\n",
    "    plt.xlabel(\"Threshold\", fontsize=19)\n",
    "    plt.legend(loc=\"upper right\", fontsize=19)\n",
    "    plt.ylim([0, 1])\n",
    "\n",
    "plt.figure(figsize=(14, 7))\n",
    "plot_precision_and_recall(precision, recall, threshold)\n",
    "plt.show()"
   ]
  },
  {
   "cell_type": "markdown",
   "metadata": {},
   "source": [
    "The optimum Precision/Recall threshold here looks within the region of 0.7, thereafter Recall plummets eventually down to near zero."
   ]
  },
  {
   "cell_type": "markdown",
   "metadata": {},
   "source": [
    "### ROC-AUC Curve"
   ]
  },
  {
   "cell_type": "markdown",
   "metadata": {},
   "source": [
    "AUC is a metric for binary classification.\n",
    "\n",
    "Accuracy deals with ones and zeros, meaning you either got the class label right or you didn’t. But many classifiers are able to quantify their uncertainty about the answer by outputting a probability value. To compute accuracy from probabilities you need a threshold to decide when zero turns into one. The most natural threshold is of course 0.5.\n",
    "\n",
    "Let’s suppose you have a quirky classifier. It is able to get all the answers right, but it outputs 0.7 for negative examples and 0.9 for positive examples. Clearly, a threshold of 0.5 won’t get you far, but 0.8 would be just perfect.\n",
    "\n",
    "That’s the whole point of using AUC - it considers all possible thresholds. Various thresholds result in different true positive/false positive rates. As you decrease the threshold, you get more true positives, but also more false positives. The relation between them can be plotted:"
   ]
  },
  {
   "cell_type": "code",
   "execution_count": 308,
   "metadata": {},
   "outputs": [],
   "source": [
    "# Compute the true positive and false positive rate\n",
    "false_positive_rate, true_positive_rate, thresholds = roc_curve(y_train_sm, y_scores)"
   ]
  },
  {
   "cell_type": "code",
   "execution_count": 309,
   "metadata": {},
   "outputs": [
    {
     "data": {
      "image/png": "[encoded data removed]",
      "text/plain": [
       "<matplotlib.figure.Figure at 0x1c3e5d9f28>"
      ]
     },
     "metadata": {},
     "output_type": "display_data"
    }
   ],
   "source": [
    "# Plotting the true positive and false positive rate\n",
    "def plot_roc_curve(false_positive_rate, true_positive_rate, label=None):\n",
    "    plt.plot(false_positive_rate, true_positive_rate, linewidth=2, label=label)\n",
    "    plt.plot([0, 1], [0, 1], 'r', linewidth=4)\n",
    "    plt.axis([0, 1, 0, 1])\n",
    "    plt.xlabel('False Positive Rate (FPR)', fontsize=16)\n",
    "    plt.ylabel('True Positive Rate (TPR)', fontsize=16)\n",
    "\n",
    "plt.figure(figsize=(14, 7))\n",
    "plot_roc_curve(false_positive_rate, true_positive_rate)\n",
    "plt.show()"
   ]
  },
  {
   "cell_type": "markdown",
   "metadata": {},
   "source": [
    "The red line represents a purely random classifier (e.g a coin flip), so the aim is for our classifier (represented by the blue ROC curve) to be as far away from it as possible. This space under the curve is known as the AUC, and therefore a larger AUC space is indicative of a better model. For this Random Forest Classifier model, the graph therefore indicates very strong model performance (hoo-rah)!"
   ]
  },
  {
   "cell_type": "markdown",
   "metadata": {},
   "source": [
    "### ROC-AUC score"
   ]
  },
  {
   "cell_type": "markdown",
   "metadata": {},
   "source": [
    "Lastly, we will compute the size of this AUC space, known as the ROC-AUC score."
   ]
  },
  {
   "cell_type": "code",
   "execution_count": 310,
   "metadata": {},
   "outputs": [
    {
     "name": "stdout",
     "output_type": "stream",
     "text": [
      "ROC-AUC-Score: 0.9994731994641967\n"
     ]
    }
   ],
   "source": [
    "# Computing the ROC-AUC score\n",
    "r_a_score = roc_auc_score(y_train_sm, y_scores)\n",
    "print(\"ROC-AUC-Score:\", r_a_score)"
   ]
  },
  {
   "cell_type": "markdown",
   "metadata": {},
   "source": [
    "Backing up the graph, a very strong ROC-AUC Score of over 99% has been achieved by this model."
   ]
  },
  {
   "cell_type": "markdown",
   "metadata": {},
   "source": [
    "## 6. Conclusion"
   ]
  },
  {
   "cell_type": "markdown",
   "metadata": {},
   "source": [
    "Job done! In this kernel we have:\n",
    "\n",
    "- Started with an unstructured table of 23,000 clothing text reviews and corresponding Recommend vs Not Recommend classifications.\n",
    "- Taken the text reviews, cleaned them and built them into a matrix\n",
    "- Briefly explored the data before applying initial Machine Learning Algorithms\n",
    "- Balanced the unvenly weighted target variables before re-running the same Algorithms with improved findings\n",
    "- Identified the best performing model (Random Forest Classifier), explored it's most important features and computed further Precision/Recall metrics (including ROC-AUC).\n",
    "- Achieved a final accuracy score of 91.1% on the model's training dataset, and an ROC-AUC score of 99.9%."
   ]
  },
  {
   "cell_type": "markdown",
   "metadata": {},
   "source": [
    "I've enjoyed working with this dataset and have learned heaps around using text data to predict an outcome - given this has been my first exposure to working with text, the buzz in being able to do just this has been great! It has also been an enjoyable experience using this data to predict genuinely meaningful and useful insights, such as knowing what consumers are looking for in a clothing product, and what matters most to them."
   ]
  },
  {
   "cell_type": "markdown",
   "metadata": {},
   "source": [
    "In terms of how this kernel could be extended or improved, we could:\n",
    "\n",
    "- Take a more rigorous approach to mining the text data, such as categorising products, controlling for spelling errors / using more advanced modelling techniques such as topic modelling\n",
    "- Make better use of the Polarity metric within Machine Learning\n",
    "- Apply a more extensive list of algorithms (including Deep Learning) to the text data\n",
    "- Apply GridSearchCV to optimise the final model\n",
    "- Create an ensemble of models for better prediction"
   ]
  },
  {
   "cell_type": "markdown",
   "metadata": {},
   "source": [
    "Perhaps I will return to some or all of these points at a later date :). For now however, <b>thank you</b> for reading this kernel! Please do feel free to share with me your thoughts, feedback and any suggestions for improvement - I am always willing to learn new or more efficient techniques! Cheers. "
   ]
  }
 ],
 "metadata": {
  "kernelspec": {
   "display_name": "Python 3",
   "language": "python",
   "name": "python3"
  },
  "language_info": {
   "codemirror_mode": {
    "name": "ipython",
    "version": 3
   },
   "file_extension": ".py",
   "mimetype": "text/x-python",
   "name": "python",
   "nbconvert_exporter": "python",
   "pygments_lexer": "ipython3",
   "version": "3.6.4"
  }
 },
 "nbformat": 4,
 "nbformat_minor": 2
}
